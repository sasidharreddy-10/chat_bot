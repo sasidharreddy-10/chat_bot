{
 "cells": [
  {
   "cell_type": "code",
   "execution_count": 10,
   "metadata": {},
   "outputs": [],
   "source": [
    "import re\n",
    "import uuid\n",
    "from openai import AzureOpenAI\n",
    "from pinecone import Pinecone, ServerlessSpec\n",
    "from langchain_openai import AzureOpenAIEmbeddings\n",
    "from langchain_pinecone import PineconeVectorStore"
   ]
  },
  {
   "cell_type": "code",
   "execution_count": 6,
   "metadata": {},
   "outputs": [],
   "source": [
    "import os\n",
    "import time\n",
    "# Set an environment variable\n",
    "os.environ['PINECONE_API_KEY'] = '193bfd5b-1a4a-4c8b-bc06-7ec7c4cfc66a'\n",
    "\n",
    "PINECONE_API_KEY=\"193bfd5b-1a4a-4c8b-bc06-7ec7c4cfc66a\""
   ]
  },
  {
   "cell_type": "code",
   "execution_count": 7,
   "metadata": {},
   "outputs": [],
   "source": [
    "pc = Pinecone(api_key=PINECONE_API_KEY)"
   ]
  },
  {
   "cell_type": "code",
   "execution_count": 8,
   "metadata": {},
   "outputs": [],
   "source": [
    "index_name=\"indexdb\""
   ]
  },
  {
   "cell_type": "code",
   "execution_count": 14,
   "metadata": {},
   "outputs": [],
   "source": [
    "existing_indexes = [index_info[\"name\"] for index_info in pc.list_indexes()]\n",
    "if index_name not in existing_indexes:\n",
    "    pc.create_index(\n",
    "        name=index_name,\n",
    "        dimension=1536,\n",
    "        metric=\"cosine\",\n",
    "        spec=ServerlessSpec(cloud=\"aws\", region=\"us-east-1\"),\n",
    "    )\n",
    "    while not pc.describe_index(index_name).status[\"ready\"]:\n",
    "        time.sleep(1)"
   ]
  },
  {
   "cell_type": "code",
   "execution_count": 11,
   "metadata": {},
   "outputs": [],
   "source": [
    "gpt_engine_name=\"gpt-35-turbo-16k\"\n",
    "embedding_model_name=\"text-embedding-002\"\n",
    "azure_endpoint = \"https://securityappdewa.openai.azure.com\"\n",
    "api_key=\"576b185ff87d4f50962560d349d06332\"\n",
    "api_version= \"2023-07-01-preview\""
   ]
  },
  {
   "cell_type": "code",
   "execution_count": 12,
   "metadata": {},
   "outputs": [],
   "source": [
    "embeddings = AzureOpenAIEmbeddings(\n",
    "            model=embedding_model_name, \n",
    "            api_key=api_key, \n",
    "            azure_endpoint=azure_endpoint, \n",
    "            openai_api_version=api_version)"
   ]
  },
  {
   "cell_type": "code",
   "execution_count": 13,
   "metadata": {},
   "outputs": [],
   "source": [
    "docsearch = PineconeVectorStore(index_name=index_name, embedding=embeddings)"
   ]
  },
  {
   "cell_type": "code",
   "execution_count": 48,
   "metadata": {},
   "outputs": [],
   "source": [
    "query=\"what is document retriveal\"\n",
    "filters={\n",
    "  \"filename\": { \"$in\": ['djkfkjkd'] }\n",
    "}"
   ]
  },
  {
   "cell_type": "code",
   "execution_count": 50,
   "metadata": {},
   "outputs": [
    {
     "data": {
      "text/plain": [
       "1"
      ]
     },
     "execution_count": 50,
     "metadata": {},
     "output_type": "execute_result"
    }
   ],
   "source": [
    "len(filters['filename']['$in'])"
   ]
  },
  {
   "cell_type": "code",
   "execution_count": 45,
   "metadata": {},
   "outputs": [
    {
     "name": "stdout",
     "output_type": "stream",
     "text": [
      "ok1\n"
     ]
    }
   ],
   "source": [
    "if filters['filename']['$in']:\n",
    "    print('ok')\n",
    "else:\n",
    "    print('ok1')"
   ]
  },
  {
   "cell_type": "code",
   "execution_count": 33,
   "metadata": {},
   "outputs": [],
   "source": [
    "docs = docsearch.similarity_search(query, k=100)"
   ]
  },
  {
   "cell_type": "code",
   "execution_count": 34,
   "metadata": {},
   "outputs": [
    {
     "data": {
      "text/plain": [
       "[Document(metadata={'filename': 'kmbot.pdf', 'page_no': 6.0}, page_content='\\x7f- Access control policies\\n\\x7f- User authentication and authorization\\n\\x7fUser Experience:\\n\\x7fLogin requirement: Users will be required to login to access the Document QnA system.\\n\\x7fAuthorization Requirements:\\n\\x7fThe system will have different roles and permissions, such as:\\n\\x7f- Coordinator\\n\\x7f- Manager\\n\\x7f- Senior Management\\n\\x7f- Higher Management\\n\\x7fSMS/Email Content:\\n\\x7fThe Document QnA system may require sending SMS or email notifications/communications, the content of which\\nwill be defined during the project execution.\\nProcess\\nThe process described in this section focuses on document retrieval, question submission, answer generation,\\nand user-based permissions within the Dubai Electricity & Water Authority (DEWA) system. These processes\\nare crucial for effective project management and efficient service delivery. The following steps outline the\\nprocess flow and key considerations for each stage:\\n1.Document Retrieval:\\n\\x7fUsers can access the DEWA system to retrieve relevant documents related to the project or query at hand.\\n\\x7fThe system should have a robust document indexing system that allows users to search for specific documents\\nusing keywords, tags, or other metadata.\\n\\x7fDocuments should be stored in a centralized repository, making it easy for users to locate and retrieve the\\nrequired information.\\n\\x7fAccess controls should be in place to ensure that only authorized users can retrieve sensitive or confidential\\ndocuments.\\n\\x7fThe document retrieval process should be user-friendly, providing a seamless and efficient experience for the\\nusers.\\n2.Question Submission:\\n\\x7fUsers can submit questions or queries through the DEWA system for clarification or additional information.\\n'),\n",
       " Document(metadata={'filename': 'kmbot.pdf', 'page_no': 6.0}, page_content='\\x7f- Access control policies\\n\\x7f- User authentication and authorization\\n\\x7fUser Experience:\\n\\x7fLogin requirement: Users will be required to login to access the Document QnA system.\\n\\x7fAuthorization Requirements:\\n\\x7fThe system will have different roles and permissions, such as:\\n\\x7f- Coordinator\\n\\x7f- Manager\\n\\x7f- Senior Management\\n\\x7f- Higher Management\\n\\x7fSMS/Email Content:\\n\\x7fThe Document QnA system may require sending SMS or email notifications/communications, the content of which\\nwill be defined during the project execution.\\nProcess\\nThe process described in this section focuses on document retrieval, question submission, answer generation,\\nand user-based permissions within the Dubai Electricity & Water Authority (DEWA) system. These processes\\nare crucial for effective project management and efficient service delivery. The following steps outline the\\nprocess flow and key considerations for each stage:\\n1.Document Retrieval:\\n\\x7fUsers can access the DEWA system to retrieve relevant documents related to the project or query at hand.\\n\\x7fThe system should have a robust document indexing system that allows users to search for specific documents\\nusing keywords, tags, or other metadata.\\n\\x7fDocuments should be stored in a centralized repository, making it easy for users to locate and retrieve the\\nrequired information.\\n\\x7fAccess controls should be in place to ensure that only authorized users can retrieve sensitive or confidential\\ndocuments.\\n\\x7fThe document retrieval process should be user-friendly, providing a seamless and efficient experience for the\\nusers.\\n2.Question Submission:\\n\\x7fUsers can submit questions or queries through the DEWA system for clarification or additional information.\\n'),\n",
       " Document(metadata={'filename': 'kmbot.pdf', 'page_no': 6.0}, page_content='\\x7f- Access control policies\\n\\x7f- User authentication and authorization\\n\\x7fUser Experience:\\n\\x7fLogin requirement: Users will be required to login to access the Document QnA system.\\n\\x7fAuthorization Requirements:\\n\\x7fThe system will have different roles and permissions, such as:\\n\\x7f- Coordinator\\n\\x7f- Manager\\n\\x7f- Senior Management\\n\\x7f- Higher Management\\n\\x7fSMS/Email Content:\\n\\x7fThe Document QnA system may require sending SMS or email notifications/communications, the content of which\\nwill be defined during the project execution.\\nProcess\\nThe process described in this section focuses on document retrieval, question submission, answer generation,\\nand user-based permissions within the Dubai Electricity & Water Authority (DEWA) system. These processes\\nare crucial for effective project management and efficient service delivery. The following steps outline the\\nprocess flow and key considerations for each stage:\\n1.Document Retrieval:\\n\\x7fUsers can access the DEWA system to retrieve relevant documents related to the project or query at hand.\\n\\x7fThe system should have a robust document indexing system that allows users to search for specific documents\\nusing keywords, tags, or other metadata.\\n\\x7fDocuments should be stored in a centralized repository, making it easy for users to locate and retrieve the\\nrequired information.\\n\\x7fAccess controls should be in place to ensure that only authorized users can retrieve sensitive or confidential\\ndocuments.\\n\\x7fThe document retrieval process should be user-friendly, providing a seamless and efficient experience for the\\nusers.\\n2.Question Submission:\\n\\x7fUsers can submit questions or queries through the DEWA system for clarification or additional information.\\n'),\n",
       " Document(metadata={'filename': 'kmbot.pdf', 'page_no': 6.0}, page_content='\\x7f- Access control policies\\n\\x7f- User authentication and authorization\\n\\x7fUser Experience:\\n\\x7fLogin requirement: Users will be required to login to access the Document QnA system.\\n\\x7fAuthorization Requirements:\\n\\x7fThe system will have different roles and permissions, such as:\\n\\x7f- Coordinator\\n\\x7f- Manager\\n\\x7f- Senior Management\\n\\x7f- Higher Management\\n\\x7fSMS/Email Content:\\n\\x7fThe Document QnA system may require sending SMS or email notifications/communications, the content of which\\nwill be defined during the project execution.\\nProcess\\nThe process described in this section focuses on document retrieval, question submission, answer generation,\\nand user-based permissions within the Dubai Electricity & Water Authority (DEWA) system. These processes\\nare crucial for effective project management and efficient service delivery. The following steps outline the\\nprocess flow and key considerations for each stage:\\n1.Document Retrieval:\\n\\x7fUsers can access the DEWA system to retrieve relevant documents related to the project or query at hand.\\n\\x7fThe system should have a robust document indexing system that allows users to search for specific documents\\nusing keywords, tags, or other metadata.\\n\\x7fDocuments should be stored in a centralized repository, making it easy for users to locate and retrieve the\\nrequired information.\\n\\x7fAccess controls should be in place to ensure that only authorized users can retrieve sensitive or confidential\\ndocuments.\\n\\x7fThe document retrieval process should be user-friendly, providing a seamless and efficient experience for the\\nusers.\\n2.Question Submission:\\n\\x7fUsers can submit questions or queries through the DEWA system for clarification or additional information.\\n'),\n",
       " Document(metadata={'filename': 'kmbot.pdf', 'page_no': 5.0}, page_content='\\x7fCustomer data protection: The Document QnA system will have robust security measures in place to ensure the\\nprivacy and security of customer data.\\n\\x7fCompliance with data protection regulations: The system will comply with relevant data protection regulations to\\nsafeguard customer information.\\n\\x7fUser Segments Impacted:\\n\\x7fThe Document QnA system will impact multiple user segments within DEWA, including:\\n\\x7f- Executive Vice President (EVP)\\n\\x7f- Vice President (VP)\\n\\x7f- Senior Management\\n\\x7f- Coordinators\\n\\x7f- Managers\\n\\x7f- Staff Members\\n\\x7fChannel:\\n\\x7fThe Document QnA system will be accessed through multiple channels, including:\\n\\x7f- Website\\n\\x7f- Mobile App\\n\\x7fIntegration Requirements:\\n\\x7fThe Document QnA system will need to integrate with various software products and systems, such as:\\n\\x7f- SAP\\n\\x7f- SharePoint\\n\\x7f- BMC (for internal support)\\n\\x7f- Avaya (for Customer Service)\\n\\x7f- Smart Grid applications\\n\\x7f- Smart Document\\n\\x7f- Smart Office\\n\\x7fSecurity & Authorization Requirements:\\n\\x7fThe Document QnA system will have the following security and authorization requirements:\\n\\x7f- Role-Based Access Control (RBAC)\\n\\x7f- Security models\\n'),\n",
       " Document(metadata={'filename': 'kmbot.pdf', 'page_no': 5.0}, page_content='\\x7fCustomer data protection: The Document QnA system will have robust security measures in place to ensure the\\nprivacy and security of customer data.\\n\\x7fCompliance with data protection regulations: The system will comply with relevant data protection regulations to\\nsafeguard customer information.\\n\\x7fUser Segments Impacted:\\n\\x7fThe Document QnA system will impact multiple user segments within DEWA, including:\\n\\x7f- Executive Vice President (EVP)\\n\\x7f- Vice President (VP)\\n\\x7f- Senior Management\\n\\x7f- Coordinators\\n\\x7f- Managers\\n\\x7f- Staff Members\\n\\x7fChannel:\\n\\x7fThe Document QnA system will be accessed through multiple channels, including:\\n\\x7f- Website\\n\\x7f- Mobile App\\n\\x7fIntegration Requirements:\\n\\x7fThe Document QnA system will need to integrate with various software products and systems, such as:\\n\\x7f- SAP\\n\\x7f- SharePoint\\n\\x7f- BMC (for internal support)\\n\\x7f- Avaya (for Customer Service)\\n\\x7f- Smart Grid applications\\n\\x7f- Smart Document\\n\\x7f- Smart Office\\n\\x7fSecurity & Authorization Requirements:\\n\\x7fThe Document QnA system will have the following security and authorization requirements:\\n\\x7f- Role-Based Access Control (RBAC)\\n\\x7f- Security models\\n'),\n",
       " Document(metadata={'filename': 'kmbot.pdf', 'page_no': 5.0}, page_content='\\x7fCustomer data protection: The Document QnA system will have robust security measures in place to ensure the\\nprivacy and security of customer data.\\n\\x7fCompliance with data protection regulations: The system will comply with relevant data protection regulations to\\nsafeguard customer information.\\n\\x7fUser Segments Impacted:\\n\\x7fThe Document QnA system will impact multiple user segments within DEWA, including:\\n\\x7f- Executive Vice President (EVP)\\n\\x7f- Vice President (VP)\\n\\x7f- Senior Management\\n\\x7f- Coordinators\\n\\x7f- Managers\\n\\x7f- Staff Members\\n\\x7fChannel:\\n\\x7fThe Document QnA system will be accessed through multiple channels, including:\\n\\x7f- Website\\n\\x7f- Mobile App\\n\\x7fIntegration Requirements:\\n\\x7fThe Document QnA system will need to integrate with various software products and systems, such as:\\n\\x7f- SAP\\n\\x7f- SharePoint\\n\\x7f- BMC (for internal support)\\n\\x7f- Avaya (for Customer Service)\\n\\x7f- Smart Grid applications\\n\\x7f- Smart Document\\n\\x7f- Smart Office\\n\\x7fSecurity & Authorization Requirements:\\n\\x7fThe Document QnA system will have the following security and authorization requirements:\\n\\x7f- Role-Based Access Control (RBAC)\\n\\x7f- Security models\\n'),\n",
       " Document(metadata={'filename': 'kmbot.pdf', 'page_no': 5.0}, page_content='\\x7fCustomer data protection: The Document QnA system will have robust security measures in place to ensure the\\nprivacy and security of customer data.\\n\\x7fCompliance with data protection regulations: The system will comply with relevant data protection regulations to\\nsafeguard customer information.\\n\\x7fUser Segments Impacted:\\n\\x7fThe Document QnA system will impact multiple user segments within DEWA, including:\\n\\x7f- Executive Vice President (EVP)\\n\\x7f- Vice President (VP)\\n\\x7f- Senior Management\\n\\x7f- Coordinators\\n\\x7f- Managers\\n\\x7f- Staff Members\\n\\x7fChannel:\\n\\x7fThe Document QnA system will be accessed through multiple channels, including:\\n\\x7f- Website\\n\\x7f- Mobile App\\n\\x7fIntegration Requirements:\\n\\x7fThe Document QnA system will need to integrate with various software products and systems, such as:\\n\\x7f- SAP\\n\\x7f- SharePoint\\n\\x7f- BMC (for internal support)\\n\\x7f- Avaya (for Customer Service)\\n\\x7f- Smart Grid applications\\n\\x7f- Smart Document\\n\\x7f- Smart Office\\n\\x7fSecurity & Authorization Requirements:\\n\\x7fThe Document QnA system will have the following security and authorization requirements:\\n\\x7f- Role-Based Access Control (RBAC)\\n\\x7f- Security models\\n'),\n",
       " Document(metadata={'filename': 'kmbot.pdf', 'page_no': 11.0}, page_content=\"Integration\\nThe new system will need to integrate with the existing document\\nmanagement system or data repositories in the organization. Additionally,\\nit may need to link with enterprise identity systems for user verification and\\nrole assignment. These integrations will provide seamless operations for\\nusers and enhance efficiency by reducing data redundancy.\\n\\x7fThe integration will focus on seamless interoperability of\\nthe new system with DEWA's existing systems, including\\nSAP, SharePoint, Smart Office, and Smart Document App.\\nThese systems are already in place within DEWA and are\\ncritical for the organization's operations and day-to-day\\nactivities.\\n\\x7fThe integration will allow the new system to leverage the\\nadvanced authentication methods available in the existing\\nenterprise identity systems. This will enhance user\\nverification and enable role assignment for different users\\nbased on their access levels and responsibilities within\\nDEWA.\\n\\x7fThe integration with the document management system\\nor data repositories will ensure that the new system can\\naccess and utilize relevant data and documents stored\\nwithin these systems. This will eliminate the need for\\nduplicate data entry and reduce data redundancy, ultimately\\nimproving efficiency and accuracy in operations.\\n\\x7fThe integration will also focus on leveraging advanced\\nauthentication methods such as Single Sign-On (SSO) to\\nenhance the user experience. SSO will allow users to\\naccess multiple systems, including the new system, with a\\nsingle set of login credentials, reducing the need for multiple\\nlogins and passwords. This will simplify the user experience\\nand streamline operations.\\n\\x7fThe integration will be implemented in a way that ensures\\ncompatibility and seamless data flow between the new\\nsystem and the existing systems. This will require thorough\\ntesting and validation to ensure the integrity and accuracy\\nof data being exchanged between systems.\\n\\x7fThe integration will also consider data security and\\naccess control measures to protect sensitive information\\nand ensure that only authorized users can access and\\nmodify data within the integrated systems. This will involve\\nimplementing appropriate access control mechanisms,\\nencryption techniques, and monitoring tools to safeguard\\ndata and prevent unauthorized access or data breaches.\\nDependency\\n\"),\n",
       " Document(metadata={'filename': 'kmbot.pdf', 'page_no': 11.0}, page_content=\"Integration\\nThe new system will need to integrate with the existing document\\nmanagement system or data repositories in the organization. Additionally,\\nit may need to link with enterprise identity systems for user verification and\\nrole assignment. These integrations will provide seamless operations for\\nusers and enhance efficiency by reducing data redundancy.\\n\\x7fThe integration will focus on seamless interoperability of\\nthe new system with DEWA's existing systems, including\\nSAP, SharePoint, Smart Office, and Smart Document App.\\nThese systems are already in place within DEWA and are\\ncritical for the organization's operations and day-to-day\\nactivities.\\n\\x7fThe integration will allow the new system to leverage the\\nadvanced authentication methods available in the existing\\nenterprise identity systems. This will enhance user\\nverification and enable role assignment for different users\\nbased on their access levels and responsibilities within\\nDEWA.\\n\\x7fThe integration with the document management system\\nor data repositories will ensure that the new system can\\naccess and utilize relevant data and documents stored\\nwithin these systems. This will eliminate the need for\\nduplicate data entry and reduce data redundancy, ultimately\\nimproving efficiency and accuracy in operations.\\n\\x7fThe integration will also focus on leveraging advanced\\nauthentication methods such as Single Sign-On (SSO) to\\nenhance the user experience. SSO will allow users to\\naccess multiple systems, including the new system, with a\\nsingle set of login credentials, reducing the need for multiple\\nlogins and passwords. This will simplify the user experience\\nand streamline operations.\\n\\x7fThe integration will be implemented in a way that ensures\\ncompatibility and seamless data flow between the new\\nsystem and the existing systems. This will require thorough\\ntesting and validation to ensure the integrity and accuracy\\nof data being exchanged between systems.\\n\\x7fThe integration will also consider data security and\\naccess control measures to protect sensitive information\\nand ensure that only authorized users can access and\\nmodify data within the integrated systems. This will involve\\nimplementing appropriate access control mechanisms,\\nencryption techniques, and monitoring tools to safeguard\\ndata and prevent unauthorized access or data breaches.\\nDependency\\n\"),\n",
       " Document(metadata={'filename': 'kmbot.pdf', 'page_no': 11.0}, page_content=\"Integration\\nThe new system will need to integrate with the existing document\\nmanagement system or data repositories in the organization. Additionally,\\nit may need to link with enterprise identity systems for user verification and\\nrole assignment. These integrations will provide seamless operations for\\nusers and enhance efficiency by reducing data redundancy.\\n\\x7fThe integration will focus on seamless interoperability of\\nthe new system with DEWA's existing systems, including\\nSAP, SharePoint, Smart Office, and Smart Document App.\\nThese systems are already in place within DEWA and are\\ncritical for the organization's operations and day-to-day\\nactivities.\\n\\x7fThe integration will allow the new system to leverage the\\nadvanced authentication methods available in the existing\\nenterprise identity systems. This will enhance user\\nverification and enable role assignment for different users\\nbased on their access levels and responsibilities within\\nDEWA.\\n\\x7fThe integration with the document management system\\nor data repositories will ensure that the new system can\\naccess and utilize relevant data and documents stored\\nwithin these systems. This will eliminate the need for\\nduplicate data entry and reduce data redundancy, ultimately\\nimproving efficiency and accuracy in operations.\\n\\x7fThe integration will also focus on leveraging advanced\\nauthentication methods such as Single Sign-On (SSO) to\\nenhance the user experience. SSO will allow users to\\naccess multiple systems, including the new system, with a\\nsingle set of login credentials, reducing the need for multiple\\nlogins and passwords. This will simplify the user experience\\nand streamline operations.\\n\\x7fThe integration will be implemented in a way that ensures\\ncompatibility and seamless data flow between the new\\nsystem and the existing systems. This will require thorough\\ntesting and validation to ensure the integrity and accuracy\\nof data being exchanged between systems.\\n\\x7fThe integration will also consider data security and\\naccess control measures to protect sensitive information\\nand ensure that only authorized users can access and\\nmodify data within the integrated systems. This will involve\\nimplementing appropriate access control mechanisms,\\nencryption techniques, and monitoring tools to safeguard\\ndata and prevent unauthorized access or data breaches.\\nDependency\\n\"),\n",
       " Document(metadata={'filename': 'kmbot.pdf', 'page_no': 11.0}, page_content=\"Integration\\nThe new system will need to integrate with the existing document\\nmanagement system or data repositories in the organization. Additionally,\\nit may need to link with enterprise identity systems for user verification and\\nrole assignment. These integrations will provide seamless operations for\\nusers and enhance efficiency by reducing data redundancy.\\n\\x7fThe integration will focus on seamless interoperability of\\nthe new system with DEWA's existing systems, including\\nSAP, SharePoint, Smart Office, and Smart Document App.\\nThese systems are already in place within DEWA and are\\ncritical for the organization's operations and day-to-day\\nactivities.\\n\\x7fThe integration will allow the new system to leverage the\\nadvanced authentication methods available in the existing\\nenterprise identity systems. This will enhance user\\nverification and enable role assignment for different users\\nbased on their access levels and responsibilities within\\nDEWA.\\n\\x7fThe integration with the document management system\\nor data repositories will ensure that the new system can\\naccess and utilize relevant data and documents stored\\nwithin these systems. This will eliminate the need for\\nduplicate data entry and reduce data redundancy, ultimately\\nimproving efficiency and accuracy in operations.\\n\\x7fThe integration will also focus on leveraging advanced\\nauthentication methods such as Single Sign-On (SSO) to\\nenhance the user experience. SSO will allow users to\\naccess multiple systems, including the new system, with a\\nsingle set of login credentials, reducing the need for multiple\\nlogins and passwords. This will simplify the user experience\\nand streamline operations.\\n\\x7fThe integration will be implemented in a way that ensures\\ncompatibility and seamless data flow between the new\\nsystem and the existing systems. This will require thorough\\ntesting and validation to ensure the integrity and accuracy\\nof data being exchanged between systems.\\n\\x7fThe integration will also consider data security and\\naccess control measures to protect sensitive information\\nand ensure that only authorized users can access and\\nmodify data within the integrated systems. This will involve\\nimplementing appropriate access control mechanisms,\\nencryption techniques, and monitoring tools to safeguard\\ndata and prevent unauthorized access or data breaches.\\nDependency\\n\"),\n",
       " Document(metadata={'filename': 'kmbot.pdf', 'page_no': 4.0}, page_content=\"\\x7fAchieve sustainability: By transitioning from a paper-based document management system to a digital system,\\nDEWA aims to reduce paper consumption, contributing to environmental sustainability.\\n\\x7fPromote innovation: The Document QnA system will encourage innovation by streamlining document processes,\\nallowing for faster access to information and promoting collaboration among users.\\n\\x7fEnsure operational efficiency: The system will simplify document sharing, retrieval, and collaboration, leading to\\nimproved operational efficiency within the organization.\\n\\x7fProject Requirements:\\n\\x7fRequirement elicitation: The project team will follow a defined set of policies and procedures to gather and\\ndocument the requirements of the Document QnA system.\\n\\x7fDocumentation: All project requirements will be thoroughly documented, including functional and non-functional\\nrequirements, to ensure clarity and alignment among stakeholders.\\n\\x7fPrioritization: The project team will prioritize requirements based on their strategic alignment with DEWA's goals\\nand objectives.\\n\\x7fGovernance Models:\\n\\x7fDefined roles and responsibilities: Clear roles and responsibilities will be established within the project team to\\nensure effective decision-making and accountability.\\n\\x7fDecision-making processes: A structured decision-making process will be followed to ensure that project\\nrequirements align with DEWA's strategic objectives.\\n\\x7fRegulatory Compliance:\\n\\x7fAdherence to energy and utility sector regulations: The Document QnA system will comply with all relevant\\nregulatory requirements in the energy and utility sectors.\\n\\x7fData privacy and security: The system will adhere to data privacy and security regulations to protect customer\\ninformation and ensure confidentiality.\\n\\x7fStakeholder Alignment:\\n\\x7fEngaging relevant stakeholders: The project team will proactively engage stakeholders, such as users and\\nmanagement, to understand their needs and expectations regarding the Document QnA system.\\n\\x7fIncorporating stakeholder requirements: Stakeholder requirements will be considered during requirement\\ngathering and prioritization to ensure the system meets their needs.\\n\\x7fChange Management:\\n\\x7fChange evaluation and approval: Procedures will be established to evaluate and approve changes to project\\nrequirements to ensure they align with DEWA's strategic objectives.\\n\\x7fChange implementation: The project team will implement approved changes effectively and efficiently, minimizing\\ndisruption to the organization.\\n\\x7fData Security and Privacy:\\n\"),\n",
       " Document(metadata={'filename': 'kmbot.pdf', 'page_no': 4.0}, page_content=\"\\x7fAchieve sustainability: By transitioning from a paper-based document management system to a digital system,\\nDEWA aims to reduce paper consumption, contributing to environmental sustainability.\\n\\x7fPromote innovation: The Document QnA system will encourage innovation by streamlining document processes,\\nallowing for faster access to information and promoting collaboration among users.\\n\\x7fEnsure operational efficiency: The system will simplify document sharing, retrieval, and collaboration, leading to\\nimproved operational efficiency within the organization.\\n\\x7fProject Requirements:\\n\\x7fRequirement elicitation: The project team will follow a defined set of policies and procedures to gather and\\ndocument the requirements of the Document QnA system.\\n\\x7fDocumentation: All project requirements will be thoroughly documented, including functional and non-functional\\nrequirements, to ensure clarity and alignment among stakeholders.\\n\\x7fPrioritization: The project team will prioritize requirements based on their strategic alignment with DEWA's goals\\nand objectives.\\n\\x7fGovernance Models:\\n\\x7fDefined roles and responsibilities: Clear roles and responsibilities will be established within the project team to\\nensure effective decision-making and accountability.\\n\\x7fDecision-making processes: A structured decision-making process will be followed to ensure that project\\nrequirements align with DEWA's strategic objectives.\\n\\x7fRegulatory Compliance:\\n\\x7fAdherence to energy and utility sector regulations: The Document QnA system will comply with all relevant\\nregulatory requirements in the energy and utility sectors.\\n\\x7fData privacy and security: The system will adhere to data privacy and security regulations to protect customer\\ninformation and ensure confidentiality.\\n\\x7fStakeholder Alignment:\\n\\x7fEngaging relevant stakeholders: The project team will proactively engage stakeholders, such as users and\\nmanagement, to understand their needs and expectations regarding the Document QnA system.\\n\\x7fIncorporating stakeholder requirements: Stakeholder requirements will be considered during requirement\\ngathering and prioritization to ensure the system meets their needs.\\n\\x7fChange Management:\\n\\x7fChange evaluation and approval: Procedures will be established to evaluate and approve changes to project\\nrequirements to ensure they align with DEWA's strategic objectives.\\n\\x7fChange implementation: The project team will implement approved changes effectively and efficiently, minimizing\\ndisruption to the organization.\\n\\x7fData Security and Privacy:\\n\"),\n",
       " Document(metadata={'filename': 'kmbot.pdf', 'page_no': 4.0}, page_content=\"\\x7fAchieve sustainability: By transitioning from a paper-based document management system to a digital system,\\nDEWA aims to reduce paper consumption, contributing to environmental sustainability.\\n\\x7fPromote innovation: The Document QnA system will encourage innovation by streamlining document processes,\\nallowing for faster access to information and promoting collaboration among users.\\n\\x7fEnsure operational efficiency: The system will simplify document sharing, retrieval, and collaboration, leading to\\nimproved operational efficiency within the organization.\\n\\x7fProject Requirements:\\n\\x7fRequirement elicitation: The project team will follow a defined set of policies and procedures to gather and\\ndocument the requirements of the Document QnA system.\\n\\x7fDocumentation: All project requirements will be thoroughly documented, including functional and non-functional\\nrequirements, to ensure clarity and alignment among stakeholders.\\n\\x7fPrioritization: The project team will prioritize requirements based on their strategic alignment with DEWA's goals\\nand objectives.\\n\\x7fGovernance Models:\\n\\x7fDefined roles and responsibilities: Clear roles and responsibilities will be established within the project team to\\nensure effective decision-making and accountability.\\n\\x7fDecision-making processes: A structured decision-making process will be followed to ensure that project\\nrequirements align with DEWA's strategic objectives.\\n\\x7fRegulatory Compliance:\\n\\x7fAdherence to energy and utility sector regulations: The Document QnA system will comply with all relevant\\nregulatory requirements in the energy and utility sectors.\\n\\x7fData privacy and security: The system will adhere to data privacy and security regulations to protect customer\\ninformation and ensure confidentiality.\\n\\x7fStakeholder Alignment:\\n\\x7fEngaging relevant stakeholders: The project team will proactively engage stakeholders, such as users and\\nmanagement, to understand their needs and expectations regarding the Document QnA system.\\n\\x7fIncorporating stakeholder requirements: Stakeholder requirements will be considered during requirement\\ngathering and prioritization to ensure the system meets their needs.\\n\\x7fChange Management:\\n\\x7fChange evaluation and approval: Procedures will be established to evaluate and approve changes to project\\nrequirements to ensure they align with DEWA's strategic objectives.\\n\\x7fChange implementation: The project team will implement approved changes effectively and efficiently, minimizing\\ndisruption to the organization.\\n\\x7fData Security and Privacy:\\n\"),\n",
       " Document(metadata={'filename': 'kmbot.pdf', 'page_no': 4.0}, page_content=\"\\x7fAchieve sustainability: By transitioning from a paper-based document management system to a digital system,\\nDEWA aims to reduce paper consumption, contributing to environmental sustainability.\\n\\x7fPromote innovation: The Document QnA system will encourage innovation by streamlining document processes,\\nallowing for faster access to information and promoting collaboration among users.\\n\\x7fEnsure operational efficiency: The system will simplify document sharing, retrieval, and collaboration, leading to\\nimproved operational efficiency within the organization.\\n\\x7fProject Requirements:\\n\\x7fRequirement elicitation: The project team will follow a defined set of policies and procedures to gather and\\ndocument the requirements of the Document QnA system.\\n\\x7fDocumentation: All project requirements will be thoroughly documented, including functional and non-functional\\nrequirements, to ensure clarity and alignment among stakeholders.\\n\\x7fPrioritization: The project team will prioritize requirements based on their strategic alignment with DEWA's goals\\nand objectives.\\n\\x7fGovernance Models:\\n\\x7fDefined roles and responsibilities: Clear roles and responsibilities will be established within the project team to\\nensure effective decision-making and accountability.\\n\\x7fDecision-making processes: A structured decision-making process will be followed to ensure that project\\nrequirements align with DEWA's strategic objectives.\\n\\x7fRegulatory Compliance:\\n\\x7fAdherence to energy and utility sector regulations: The Document QnA system will comply with all relevant\\nregulatory requirements in the energy and utility sectors.\\n\\x7fData privacy and security: The system will adhere to data privacy and security regulations to protect customer\\ninformation and ensure confidentiality.\\n\\x7fStakeholder Alignment:\\n\\x7fEngaging relevant stakeholders: The project team will proactively engage stakeholders, such as users and\\nmanagement, to understand their needs and expectations regarding the Document QnA system.\\n\\x7fIncorporating stakeholder requirements: Stakeholder requirements will be considered during requirement\\ngathering and prioritization to ensure the system meets their needs.\\n\\x7fChange Management:\\n\\x7fChange evaluation and approval: Procedures will be established to evaluate and approve changes to project\\nrequirements to ensure they align with DEWA's strategic objectives.\\n\\x7fChange implementation: The project team will implement approved changes effectively and efficiently, minimizing\\ndisruption to the organization.\\n\\x7fData Security and Privacy:\\n\"),\n",
       " Document(metadata={'filename': 'ok.pdf', 'page_no': 1.0}, page_content=\"Business Requirements Document (BRD)\\nOverview:\\n\\x7fStatement of Confidentiality\\n\\x7fBusiness Requirements\\n\\x7fProcess\\n\\x7fUser Experience\\n\\x7fUser Category\\n\\x7fIntegration\\n\\x7fDependency\\n\\x7fDashboard Requirements\\n\\x7fBusiness Value\\n\\x7fBusiness Owner\\n1. Statement of Confidentiality:\\nTo protect project details and data, strict confidentiality measures will be implemented. This includes restricted\\naccess to sensitive information, encrypted data transmission, and secure storage protocols.\\n2. Business Requirements:\\nThe primary goal of the project is to achieve specific objectives related to service quality, sustainability,\\ninnovation, and operational efficiency. The project requirements will be aligned with DEWA's strategic\\nobjectives and regulatory compliance. The governance models will define roles, responsibilities, and\\ndecision-making processes within the project to ensure alignment with the objectives. Stakeholder alignment\\nand change management processes will be implemented to consider their needs and expectations. Data\\nsecurity and privacy policies will be in place to protect customer data. The user segments impacted by the\\nproject will be identified and targeted with tailored engagement strategies. The project will be accessible\\nthrough various channels, such as a website or mobile app. Integration requirements will be identified to\\nensure seamless interoperability with other systems or products. Security and authorization requirements will\\nbe defined to control access and follow a robust security model. SMS/Email notifications/communications will\\nbe implemented to keep users informed.\\n3. Process:\\nThe specific processes being targeted for improvement or implementation are as follows:\\n\\x7fStreamlining workflow\\n\\x7fAutomating manual tasks\\n\"),\n",
       " Document(metadata={'filename': 'ok.pdf', 'page_no': 1.0}, page_content=\"Business Requirements Document (BRD)\\nOverview:\\n\\x7fStatement of Confidentiality\\n\\x7fBusiness Requirements\\n\\x7fProcess\\n\\x7fUser Experience\\n\\x7fUser Category\\n\\x7fIntegration\\n\\x7fDependency\\n\\x7fDashboard Requirements\\n\\x7fBusiness Value\\n\\x7fBusiness Owner\\n1. Statement of Confidentiality:\\nTo protect project details and data, strict confidentiality measures will be implemented. This includes restricted\\naccess to sensitive information, encrypted data transmission, and secure storage protocols.\\n2. Business Requirements:\\nThe primary goal of the project is to achieve specific objectives related to service quality, sustainability,\\ninnovation, and operational efficiency. The project requirements will be aligned with DEWA's strategic\\nobjectives and regulatory compliance. The governance models will define roles, responsibilities, and\\ndecision-making processes within the project to ensure alignment with the objectives. Stakeholder alignment\\nand change management processes will be implemented to consider their needs and expectations. Data\\nsecurity and privacy policies will be in place to protect customer data. The user segments impacted by the\\nproject will be identified and targeted with tailored engagement strategies. The project will be accessible\\nthrough various channels, such as a website or mobile app. Integration requirements will be identified to\\nensure seamless interoperability with other systems or products. Security and authorization requirements will\\nbe defined to control access and follow a robust security model. SMS/Email notifications/communications will\\nbe implemented to keep users informed.\\n3. Process:\\nThe specific processes being targeted for improvement or implementation are as follows:\\n\\x7fStreamlining workflow\\n\\x7fAutomating manual tasks\\n\"),\n",
       " Document(metadata={'filename': 'ok.pdf', 'page_no': 1.0}, page_content=\"Business Requirements Document (BRD)\\nOverview:\\n\\x7fStatement of Confidentiality\\n\\x7fBusiness Requirements\\n\\x7fProcess\\n\\x7fUser Experience\\n\\x7fUser Category\\n\\x7fIntegration\\n\\x7fDependency\\n\\x7fDashboard Requirements\\n\\x7fBusiness Value\\n\\x7fBusiness Owner\\n1. Statement of Confidentiality:\\nTo protect project details and data, strict confidentiality measures will be implemented. This includes restricted\\naccess to sensitive information, encrypted data transmission, and secure storage protocols.\\n2. Business Requirements:\\nThe primary goal of the project is to achieve specific objectives related to service quality, sustainability,\\ninnovation, and operational efficiency. The project requirements will be aligned with DEWA's strategic\\nobjectives and regulatory compliance. The governance models will define roles, responsibilities, and\\ndecision-making processes within the project to ensure alignment with the objectives. Stakeholder alignment\\nand change management processes will be implemented to consider their needs and expectations. Data\\nsecurity and privacy policies will be in place to protect customer data. The user segments impacted by the\\nproject will be identified and targeted with tailored engagement strategies. The project will be accessible\\nthrough various channels, such as a website or mobile app. Integration requirements will be identified to\\nensure seamless interoperability with other systems or products. Security and authorization requirements will\\nbe defined to control access and follow a robust security model. SMS/Email notifications/communications will\\nbe implemented to keep users informed.\\n3. Process:\\nThe specific processes being targeted for improvement or implementation are as follows:\\n\\x7fStreamlining workflow\\n\\x7fAutomating manual tasks\\n\"),\n",
       " Document(metadata={'filename': 'kmbot.pdf', 'page_no': 15.0}, page_content=\"The implementation of the Document QnA system will bring significant benefits to Dubai Electricity &\\nWater Authority (DEWA). It will serve as a strategic tool for improving efficiency, collaboration, and\\ncustomer satisfaction within the organization.\\nDEWA recognizes the importance of operational efficiency in delivering sustainable electricity and water\\nservices to the residents and businesses of Dubai. The Document QnA system will play a crucial role in\\ndriving this efficiency by enabling quick and easy retrieval of relevant documents. With the system in\\nplace, employees will spend less time searching for information, thereby increasing their productivity.\\nIn addition to improving efficiency, the Document QnA system will foster innovation within DEWA. By\\nproviding a centralized platform for storing and accessing documents, it will encourage team collaboration\\nand knowledge sharing. Employees will have easier access to project documents, best practices, and\\nlessons learned, which can facilitate idea generation and continuous improvement.\\nFurthermore, the system will contribute to enhancing user satisfaction. With faster retrieval of documents\\nand information, DEWA employees will be able to respond to customer inquiries and requests promptly.\\nThis will lead to improved customer service and higher levels of satisfaction among DEWA's customers.\\nThe Document QnA system will also reinforce DEWA's position as a leading provider of sustainable\\nelectricity and water services in the region. By investing in state-of-the-art technology and digital\\nsolutions, DEWA demonstrates its commitment to innovation and excellence. The system will streamline\\ninternal processes, reduce paper usage, and contribute to DEWA's sustainability goals.\\nOverall, the implementation of the Document QnA system aligns with DEWA's vision of becoming a\\ntechnology-driven organization. It will drive operational efficiency, foster innovation, enhance user\\nsatisfaction, and reinforce DEWA's position as a leading provider of sustainable electricity and water\\nservices in the region.\\nBusiness Owner\\nThe project will be overseen by Mr. Abhishek Sharma, who will be responsible for ensuring project alignment\\nwith organizational goals, managing project resources, facilitating communication among stakeholders, and\\nsupervising project progress. His role encompasses monitoring project milestones, resolving issues, and\\nvalidating final deliverables against the initial business requirements.\\nMr. Abhishek Sharma, as the Business Owner, plays a crucial role in the successful execution of the project.\\nHe is responsible for overseeing the development of the portal and ensuring that it aligns with DEWA's\\nstrategic objectives and organizational priorities. His primary focus is to ensure that the project delivers the\\nexpected outcomes and meets the requirements of all stakeholders.\\nAs the Business Owner, Mr. Sharma will have decision-making authority, allowing him to make key \\nproject-related decisions, resolve any issues that may arise, and provide guidance and direction to the project\\n\"),\n",
       " Document(metadata={'filename': 'kmbot.pdf', 'page_no': 15.0}, page_content=\"The implementation of the Document QnA system will bring significant benefits to Dubai Electricity &\\nWater Authority (DEWA). It will serve as a strategic tool for improving efficiency, collaboration, and\\ncustomer satisfaction within the organization.\\nDEWA recognizes the importance of operational efficiency in delivering sustainable electricity and water\\nservices to the residents and businesses of Dubai. The Document QnA system will play a crucial role in\\ndriving this efficiency by enabling quick and easy retrieval of relevant documents. With the system in\\nplace, employees will spend less time searching for information, thereby increasing their productivity.\\nIn addition to improving efficiency, the Document QnA system will foster innovation within DEWA. By\\nproviding a centralized platform for storing and accessing documents, it will encourage team collaboration\\nand knowledge sharing. Employees will have easier access to project documents, best practices, and\\nlessons learned, which can facilitate idea generation and continuous improvement.\\nFurthermore, the system will contribute to enhancing user satisfaction. With faster retrieval of documents\\nand information, DEWA employees will be able to respond to customer inquiries and requests promptly.\\nThis will lead to improved customer service and higher levels of satisfaction among DEWA's customers.\\nThe Document QnA system will also reinforce DEWA's position as a leading provider of sustainable\\nelectricity and water services in the region. By investing in state-of-the-art technology and digital\\nsolutions, DEWA demonstrates its commitment to innovation and excellence. The system will streamline\\ninternal processes, reduce paper usage, and contribute to DEWA's sustainability goals.\\nOverall, the implementation of the Document QnA system aligns with DEWA's vision of becoming a\\ntechnology-driven organization. It will drive operational efficiency, foster innovation, enhance user\\nsatisfaction, and reinforce DEWA's position as a leading provider of sustainable electricity and water\\nservices in the region.\\nBusiness Owner\\nThe project will be overseen by Mr. Abhishek Sharma, who will be responsible for ensuring project alignment\\nwith organizational goals, managing project resources, facilitating communication among stakeholders, and\\nsupervising project progress. His role encompasses monitoring project milestones, resolving issues, and\\nvalidating final deliverables against the initial business requirements.\\nMr. Abhishek Sharma, as the Business Owner, plays a crucial role in the successful execution of the project.\\nHe is responsible for overseeing the development of the portal and ensuring that it aligns with DEWA's\\nstrategic objectives and organizational priorities. His primary focus is to ensure that the project delivers the\\nexpected outcomes and meets the requirements of all stakeholders.\\nAs the Business Owner, Mr. Sharma will have decision-making authority, allowing him to make key \\nproject-related decisions, resolve any issues that may arise, and provide guidance and direction to the project\\n\"),\n",
       " Document(metadata={'filename': 'kmbot.pdf', 'page_no': 15.0}, page_content=\"The implementation of the Document QnA system will bring significant benefits to Dubai Electricity &\\nWater Authority (DEWA). It will serve as a strategic tool for improving efficiency, collaboration, and\\ncustomer satisfaction within the organization.\\nDEWA recognizes the importance of operational efficiency in delivering sustainable electricity and water\\nservices to the residents and businesses of Dubai. The Document QnA system will play a crucial role in\\ndriving this efficiency by enabling quick and easy retrieval of relevant documents. With the system in\\nplace, employees will spend less time searching for information, thereby increasing their productivity.\\nIn addition to improving efficiency, the Document QnA system will foster innovation within DEWA. By\\nproviding a centralized platform for storing and accessing documents, it will encourage team collaboration\\nand knowledge sharing. Employees will have easier access to project documents, best practices, and\\nlessons learned, which can facilitate idea generation and continuous improvement.\\nFurthermore, the system will contribute to enhancing user satisfaction. With faster retrieval of documents\\nand information, DEWA employees will be able to respond to customer inquiries and requests promptly.\\nThis will lead to improved customer service and higher levels of satisfaction among DEWA's customers.\\nThe Document QnA system will also reinforce DEWA's position as a leading provider of sustainable\\nelectricity and water services in the region. By investing in state-of-the-art technology and digital\\nsolutions, DEWA demonstrates its commitment to innovation and excellence. The system will streamline\\ninternal processes, reduce paper usage, and contribute to DEWA's sustainability goals.\\nOverall, the implementation of the Document QnA system aligns with DEWA's vision of becoming a\\ntechnology-driven organization. It will drive operational efficiency, foster innovation, enhance user\\nsatisfaction, and reinforce DEWA's position as a leading provider of sustainable electricity and water\\nservices in the region.\\nBusiness Owner\\nThe project will be overseen by Mr. Abhishek Sharma, who will be responsible for ensuring project alignment\\nwith organizational goals, managing project resources, facilitating communication among stakeholders, and\\nsupervising project progress. His role encompasses monitoring project milestones, resolving issues, and\\nvalidating final deliverables against the initial business requirements.\\nMr. Abhishek Sharma, as the Business Owner, plays a crucial role in the successful execution of the project.\\nHe is responsible for overseeing the development of the portal and ensuring that it aligns with DEWA's\\nstrategic objectives and organizational priorities. His primary focus is to ensure that the project delivers the\\nexpected outcomes and meets the requirements of all stakeholders.\\nAs the Business Owner, Mr. Sharma will have decision-making authority, allowing him to make key \\nproject-related decisions, resolve any issues that may arise, and provide guidance and direction to the project\\n\"),\n",
       " Document(metadata={'filename': 'kmbot.pdf', 'page_no': 15.0}, page_content=\"The implementation of the Document QnA system will bring significant benefits to Dubai Electricity &\\nWater Authority (DEWA). It will serve as a strategic tool for improving efficiency, collaboration, and\\ncustomer satisfaction within the organization.\\nDEWA recognizes the importance of operational efficiency in delivering sustainable electricity and water\\nservices to the residents and businesses of Dubai. The Document QnA system will play a crucial role in\\ndriving this efficiency by enabling quick and easy retrieval of relevant documents. With the system in\\nplace, employees will spend less time searching for information, thereby increasing their productivity.\\nIn addition to improving efficiency, the Document QnA system will foster innovation within DEWA. By\\nproviding a centralized platform for storing and accessing documents, it will encourage team collaboration\\nand knowledge sharing. Employees will have easier access to project documents, best practices, and\\nlessons learned, which can facilitate idea generation and continuous improvement.\\nFurthermore, the system will contribute to enhancing user satisfaction. With faster retrieval of documents\\nand information, DEWA employees will be able to respond to customer inquiries and requests promptly.\\nThis will lead to improved customer service and higher levels of satisfaction among DEWA's customers.\\nThe Document QnA system will also reinforce DEWA's position as a leading provider of sustainable\\nelectricity and water services in the region. By investing in state-of-the-art technology and digital\\nsolutions, DEWA demonstrates its commitment to innovation and excellence. The system will streamline\\ninternal processes, reduce paper usage, and contribute to DEWA's sustainability goals.\\nOverall, the implementation of the Document QnA system aligns with DEWA's vision of becoming a\\ntechnology-driven organization. It will drive operational efficiency, foster innovation, enhance user\\nsatisfaction, and reinforce DEWA's position as a leading provider of sustainable electricity and water\\nservices in the region.\\nBusiness Owner\\nThe project will be overseen by Mr. Abhishek Sharma, who will be responsible for ensuring project alignment\\nwith organizational goals, managing project resources, facilitating communication among stakeholders, and\\nsupervising project progress. His role encompasses monitoring project milestones, resolving issues, and\\nvalidating final deliverables against the initial business requirements.\\nMr. Abhishek Sharma, as the Business Owner, plays a crucial role in the successful execution of the project.\\nHe is responsible for overseeing the development of the portal and ensuring that it aligns with DEWA's\\nstrategic objectives and organizational priorities. His primary focus is to ensure that the project delivers the\\nexpected outcomes and meets the requirements of all stakeholders.\\nAs the Business Owner, Mr. Sharma will have decision-making authority, allowing him to make key \\nproject-related decisions, resolve any issues that may arise, and provide guidance and direction to the project\\n\"),\n",
       " Document(metadata={'filename': 'kmbot.pdf', 'page_no': 12.0}, page_content=\"- DEWA's success in implementing the project is critically dependent on several key factors, including the robustness of the existing document\\nmanagement systems, the accuracy of role assignments, and the quality of the Question-Answering engine. - The existing document\\nmanagement systems play a crucial role in ensuring the smooth flow of information and documents within DEWA. These systems, such as\\nSharePoint, allow for efficient content management and collaboration among team members. Any shortcomings or limitations in these systems\\ncan adversely affect the project's timeline and deliverables. - Accurate role assignments are essential to ensure that the right individuals are\\nresponsible for specific tasks and responsibilities within the project. This ensures effective coordination and avoids any confusion or overlap.\\nInaccurate or unclear role assignments can lead to delays and hinder the overall progress of the project. - The quality of the\\nQuestion-Answering (QA) engine is a critical dependency as it directly impacts the accuracy and reliability of the project's AI-powered\\nfunctionalities. The QA engine is responsible for providing accurate and relevant answers to user queries and plays a crucial role in delivering a\\nseamless user experience. Any issues or limitations with the QA engine can negatively affect the system's performance and user satisfaction. -\\nThese dependencies will have a direct impact on various aspects of the project, including the timeline, integration and testing efforts, system\\nfeatures, and performance. - Integration and testing may require additional time and effort to ensure compatibility and smooth functioning\\nbetween the existing document management systems, including SharePoint, and the new project requirements. This includes data migration,\\nsystem configuration, and testing activities. - The deliverables of the project, such as system features and performance, rely on the\\neffectiveness of the existing document management systems, accurate role assignments, and the quality of the Question-Answering engine.\\nAny issues or limitations in these areas can lead to incomplete or underperforming system features, affecting the overall success of the project. -\\nDEWA's reliance on critical systems like SharePoint for content management and SAP for financial processes adds an additional layer of\\ndependency to the project. These systems are integral to DEWA's operations and ensuring uninterrupted service delivery. Any disruptions or\\nlimitations in these systems may have a cascading effect on the project's timeline and deliverables. - It is also crucial to adhere to stringent\\nsecurity policies and external vendor support to ensure the project's success. These policies and support systems contribute to maintaining the\\nintegrity and security of DEWA's operations and data. Non-compliance or limitations in these areas can lead to significant risks and disruptions\\nfor the project. - Risk management procedures are essential for identifying, assessing, and managing project risks, including the dependencies\\nmentioned above. These procedures help proactively address and mitigate potential risks, ensuring project success and minimizing any adverse\\nimpacts on the timeline, deliverables, and overall project objectives. These dependencies highlight the critical factors that DEWA needs to\\nconsider and address to ensure the success of the project. By focusing on the robustness of the existing document management systems,\\naccurate role assignments, and the quality of the Question-Answering engine, DEWA can mitigate risks, optimize project outcomes, and deliver\\na high-quality solution to its stakeholders.\\n\"),\n",
       " Document(metadata={'filename': 'kmbot.pdf', 'page_no': 12.0}, page_content=\"- DEWA's success in implementing the project is critically dependent on several key factors, including the robustness of the existing document\\nmanagement systems, the accuracy of role assignments, and the quality of the Question-Answering engine. - The existing document\\nmanagement systems play a crucial role in ensuring the smooth flow of information and documents within DEWA. These systems, such as\\nSharePoint, allow for efficient content management and collaboration among team members. Any shortcomings or limitations in these systems\\ncan adversely affect the project's timeline and deliverables. - Accurate role assignments are essential to ensure that the right individuals are\\nresponsible for specific tasks and responsibilities within the project. This ensures effective coordination and avoids any confusion or overlap.\\nInaccurate or unclear role assignments can lead to delays and hinder the overall progress of the project. - The quality of the\\nQuestion-Answering (QA) engine is a critical dependency as it directly impacts the accuracy and reliability of the project's AI-powered\\nfunctionalities. The QA engine is responsible for providing accurate and relevant answers to user queries and plays a crucial role in delivering a\\nseamless user experience. Any issues or limitations with the QA engine can negatively affect the system's performance and user satisfaction. -\\nThese dependencies will have a direct impact on various aspects of the project, including the timeline, integration and testing efforts, system\\nfeatures, and performance. - Integration and testing may require additional time and effort to ensure compatibility and smooth functioning\\nbetween the existing document management systems, including SharePoint, and the new project requirements. This includes data migration,\\nsystem configuration, and testing activities. - The deliverables of the project, such as system features and performance, rely on the\\neffectiveness of the existing document management systems, accurate role assignments, and the quality of the Question-Answering engine.\\nAny issues or limitations in these areas can lead to incomplete or underperforming system features, affecting the overall success of the project. -\\nDEWA's reliance on critical systems like SharePoint for content management and SAP for financial processes adds an additional layer of\\ndependency to the project. These systems are integral to DEWA's operations and ensuring uninterrupted service delivery. Any disruptions or\\nlimitations in these systems may have a cascading effect on the project's timeline and deliverables. - It is also crucial to adhere to stringent\\nsecurity policies and external vendor support to ensure the project's success. These policies and support systems contribute to maintaining the\\nintegrity and security of DEWA's operations and data. Non-compliance or limitations in these areas can lead to significant risks and disruptions\\nfor the project. - Risk management procedures are essential for identifying, assessing, and managing project risks, including the dependencies\\nmentioned above. These procedures help proactively address and mitigate potential risks, ensuring project success and minimizing any adverse\\nimpacts on the timeline, deliverables, and overall project objectives. These dependencies highlight the critical factors that DEWA needs to\\nconsider and address to ensure the success of the project. By focusing on the robustness of the existing document management systems,\\naccurate role assignments, and the quality of the Question-Answering engine, DEWA can mitigate risks, optimize project outcomes, and deliver\\na high-quality solution to its stakeholders.\\n\"),\n",
       " Document(metadata={'filename': 'kmbot.pdf', 'page_no': 12.0}, page_content=\"- DEWA's success in implementing the project is critically dependent on several key factors, including the robustness of the existing document\\nmanagement systems, the accuracy of role assignments, and the quality of the Question-Answering engine. - The existing document\\nmanagement systems play a crucial role in ensuring the smooth flow of information and documents within DEWA. These systems, such as\\nSharePoint, allow for efficient content management and collaboration among team members. Any shortcomings or limitations in these systems\\ncan adversely affect the project's timeline and deliverables. - Accurate role assignments are essential to ensure that the right individuals are\\nresponsible for specific tasks and responsibilities within the project. This ensures effective coordination and avoids any confusion or overlap.\\nInaccurate or unclear role assignments can lead to delays and hinder the overall progress of the project. - The quality of the\\nQuestion-Answering (QA) engine is a critical dependency as it directly impacts the accuracy and reliability of the project's AI-powered\\nfunctionalities. The QA engine is responsible for providing accurate and relevant answers to user queries and plays a crucial role in delivering a\\nseamless user experience. Any issues or limitations with the QA engine can negatively affect the system's performance and user satisfaction. -\\nThese dependencies will have a direct impact on various aspects of the project, including the timeline, integration and testing efforts, system\\nfeatures, and performance. - Integration and testing may require additional time and effort to ensure compatibility and smooth functioning\\nbetween the existing document management systems, including SharePoint, and the new project requirements. This includes data migration,\\nsystem configuration, and testing activities. - The deliverables of the project, such as system features and performance, rely on the\\neffectiveness of the existing document management systems, accurate role assignments, and the quality of the Question-Answering engine.\\nAny issues or limitations in these areas can lead to incomplete or underperforming system features, affecting the overall success of the project. -\\nDEWA's reliance on critical systems like SharePoint for content management and SAP for financial processes adds an additional layer of\\ndependency to the project. These systems are integral to DEWA's operations and ensuring uninterrupted service delivery. Any disruptions or\\nlimitations in these systems may have a cascading effect on the project's timeline and deliverables. - It is also crucial to adhere to stringent\\nsecurity policies and external vendor support to ensure the project's success. These policies and support systems contribute to maintaining the\\nintegrity and security of DEWA's operations and data. Non-compliance or limitations in these areas can lead to significant risks and disruptions\\nfor the project. - Risk management procedures are essential for identifying, assessing, and managing project risks, including the dependencies\\nmentioned above. These procedures help proactively address and mitigate potential risks, ensuring project success and minimizing any adverse\\nimpacts on the timeline, deliverables, and overall project objectives. These dependencies highlight the critical factors that DEWA needs to\\nconsider and address to ensure the success of the project. By focusing on the robustness of the existing document management systems,\\naccurate role assignments, and the quality of the Question-Answering engine, DEWA can mitigate risks, optimize project outcomes, and deliver\\na high-quality solution to its stakeholders.\\n\"),\n",
       " Document(metadata={'filename': 'kmbot.pdf', 'page_no': 12.0}, page_content=\"- DEWA's success in implementing the project is critically dependent on several key factors, including the robustness of the existing document\\nmanagement systems, the accuracy of role assignments, and the quality of the Question-Answering engine. - The existing document\\nmanagement systems play a crucial role in ensuring the smooth flow of information and documents within DEWA. These systems, such as\\nSharePoint, allow for efficient content management and collaboration among team members. Any shortcomings or limitations in these systems\\ncan adversely affect the project's timeline and deliverables. - Accurate role assignments are essential to ensure that the right individuals are\\nresponsible for specific tasks and responsibilities within the project. This ensures effective coordination and avoids any confusion or overlap.\\nInaccurate or unclear role assignments can lead to delays and hinder the overall progress of the project. - The quality of the\\nQuestion-Answering (QA) engine is a critical dependency as it directly impacts the accuracy and reliability of the project's AI-powered\\nfunctionalities. The QA engine is responsible for providing accurate and relevant answers to user queries and plays a crucial role in delivering a\\nseamless user experience. Any issues or limitations with the QA engine can negatively affect the system's performance and user satisfaction. -\\nThese dependencies will have a direct impact on various aspects of the project, including the timeline, integration and testing efforts, system\\nfeatures, and performance. - Integration and testing may require additional time and effort to ensure compatibility and smooth functioning\\nbetween the existing document management systems, including SharePoint, and the new project requirements. This includes data migration,\\nsystem configuration, and testing activities. - The deliverables of the project, such as system features and performance, rely on the\\neffectiveness of the existing document management systems, accurate role assignments, and the quality of the Question-Answering engine.\\nAny issues or limitations in these areas can lead to incomplete or underperforming system features, affecting the overall success of the project. -\\nDEWA's reliance on critical systems like SharePoint for content management and SAP for financial processes adds an additional layer of\\ndependency to the project. These systems are integral to DEWA's operations and ensuring uninterrupted service delivery. Any disruptions or\\nlimitations in these systems may have a cascading effect on the project's timeline and deliverables. - It is also crucial to adhere to stringent\\nsecurity policies and external vendor support to ensure the project's success. These policies and support systems contribute to maintaining the\\nintegrity and security of DEWA's operations and data. Non-compliance or limitations in these areas can lead to significant risks and disruptions\\nfor the project. - Risk management procedures are essential for identifying, assessing, and managing project risks, including the dependencies\\nmentioned above. These procedures help proactively address and mitigate potential risks, ensuring project success and minimizing any adverse\\nimpacts on the timeline, deliverables, and overall project objectives. These dependencies highlight the critical factors that DEWA needs to\\nconsider and address to ensure the success of the project. By focusing on the robustness of the existing document management systems,\\naccurate role assignments, and the quality of the Question-Answering engine, DEWA can mitigate risks, optimize project outcomes, and deliver\\na high-quality solution to its stakeholders.\\n\"),\n",
       " Document(metadata={'filename': 'kmbot.pdf', 'page_no': 2.0}, page_content=\"Statement of Confidentiality\\nThe Statement of Confidentiality is a fundamental component of the Business Requirements Document (BRD)\\nfor the Dubai Electricity & Water Authority (DEWA). It reinforces DEWA's unwavering commitment to data\\nsecurity, ensuring that all sensitive information within the BRD and associated project materials is safeguarded\\nin accordance with DEWA's stringent confidentiality guidelines and adheres to industry best practices.\\nDEWA recognizes the critical importance of protecting sensitive information and maintaining the highest level\\nof data security. To ensure the confidentiality of project details and data, the following measures will be\\nimplemented:\\nAccess Control:\\n\\x7fAccess to project details and data will be limited only to authorized personnel who have undergone rigorous\\nclearance procedures.\\n\\x7fAuthorized individuals will be granted access to the necessary project documentation and resources on a\\nneed-to-know basis.\\n\\x7fPeriodic audits will be conducted to ensure continuous compliance with confidentiality measures and to identify\\nany potential security weaknesses.\\n\\x7fAccess rights will be regularly reviewed and updated to align with the evolving project requirements and personnel\\nchanges.\\nData Encryption:\\n\\x7fAll data within the Document QnA system and associated project materials will be encrypted using high-level\\nsecurity protocols.\\n\\x7fDEWA will employ industry-standard encryption algorithms and techniques to protect sensitive information from\\nunauthorized access or disclosure.\\n\\x7fData encryption will mitigate the risk of data breaches and ensure that confidential information remains secure\\nthroughout the duration of the project.\\nPhysical Security:\\n\\x7fPhysical access to the systems and infrastructure housing the project data will be strictly controlled and\\nmonitored.\\n\\x7fDEWA will adopt robust physical security measures, including the use of surveillance systems, access control\\nmechanisms, and secure storage facilities.\\n\\x7fUnauthorized individuals will be prevented from physically accessing any project-related equipment or storage\\nareas.\\nConfidentiality Agreements:\\n\"),\n",
       " Document(metadata={'filename': 'kmbot.pdf', 'page_no': 2.0}, page_content=\"Statement of Confidentiality\\nThe Statement of Confidentiality is a fundamental component of the Business Requirements Document (BRD)\\nfor the Dubai Electricity & Water Authority (DEWA). It reinforces DEWA's unwavering commitment to data\\nsecurity, ensuring that all sensitive information within the BRD and associated project materials is safeguarded\\nin accordance with DEWA's stringent confidentiality guidelines and adheres to industry best practices.\\nDEWA recognizes the critical importance of protecting sensitive information and maintaining the highest level\\nof data security. To ensure the confidentiality of project details and data, the following measures will be\\nimplemented:\\nAccess Control:\\n\\x7fAccess to project details and data will be limited only to authorized personnel who have undergone rigorous\\nclearance procedures.\\n\\x7fAuthorized individuals will be granted access to the necessary project documentation and resources on a\\nneed-to-know basis.\\n\\x7fPeriodic audits will be conducted to ensure continuous compliance with confidentiality measures and to identify\\nany potential security weaknesses.\\n\\x7fAccess rights will be regularly reviewed and updated to align with the evolving project requirements and personnel\\nchanges.\\nData Encryption:\\n\\x7fAll data within the Document QnA system and associated project materials will be encrypted using high-level\\nsecurity protocols.\\n\\x7fDEWA will employ industry-standard encryption algorithms and techniques to protect sensitive information from\\nunauthorized access or disclosure.\\n\\x7fData encryption will mitigate the risk of data breaches and ensure that confidential information remains secure\\nthroughout the duration of the project.\\nPhysical Security:\\n\\x7fPhysical access to the systems and infrastructure housing the project data will be strictly controlled and\\nmonitored.\\n\\x7fDEWA will adopt robust physical security measures, including the use of surveillance systems, access control\\nmechanisms, and secure storage facilities.\\n\\x7fUnauthorized individuals will be prevented from physically accessing any project-related equipment or storage\\nareas.\\nConfidentiality Agreements:\\n\"),\n",
       " Document(metadata={'filename': 'kmbot.pdf', 'page_no': 2.0}, page_content=\"Statement of Confidentiality\\nThe Statement of Confidentiality is a fundamental component of the Business Requirements Document (BRD)\\nfor the Dubai Electricity & Water Authority (DEWA). It reinforces DEWA's unwavering commitment to data\\nsecurity, ensuring that all sensitive information within the BRD and associated project materials is safeguarded\\nin accordance with DEWA's stringent confidentiality guidelines and adheres to industry best practices.\\nDEWA recognizes the critical importance of protecting sensitive information and maintaining the highest level\\nof data security. To ensure the confidentiality of project details and data, the following measures will be\\nimplemented:\\nAccess Control:\\n\\x7fAccess to project details and data will be limited only to authorized personnel who have undergone rigorous\\nclearance procedures.\\n\\x7fAuthorized individuals will be granted access to the necessary project documentation and resources on a\\nneed-to-know basis.\\n\\x7fPeriodic audits will be conducted to ensure continuous compliance with confidentiality measures and to identify\\nany potential security weaknesses.\\n\\x7fAccess rights will be regularly reviewed and updated to align with the evolving project requirements and personnel\\nchanges.\\nData Encryption:\\n\\x7fAll data within the Document QnA system and associated project materials will be encrypted using high-level\\nsecurity protocols.\\n\\x7fDEWA will employ industry-standard encryption algorithms and techniques to protect sensitive information from\\nunauthorized access or disclosure.\\n\\x7fData encryption will mitigate the risk of data breaches and ensure that confidential information remains secure\\nthroughout the duration of the project.\\nPhysical Security:\\n\\x7fPhysical access to the systems and infrastructure housing the project data will be strictly controlled and\\nmonitored.\\n\\x7fDEWA will adopt robust physical security measures, including the use of surveillance systems, access control\\nmechanisms, and secure storage facilities.\\n\\x7fUnauthorized individuals will be prevented from physically accessing any project-related equipment or storage\\nareas.\\nConfidentiality Agreements:\\n\"),\n",
       " Document(metadata={'filename': 'kmbot.pdf', 'page_no': 2.0}, page_content=\"Statement of Confidentiality\\nThe Statement of Confidentiality is a fundamental component of the Business Requirements Document (BRD)\\nfor the Dubai Electricity & Water Authority (DEWA). It reinforces DEWA's unwavering commitment to data\\nsecurity, ensuring that all sensitive information within the BRD and associated project materials is safeguarded\\nin accordance with DEWA's stringent confidentiality guidelines and adheres to industry best practices.\\nDEWA recognizes the critical importance of protecting sensitive information and maintaining the highest level\\nof data security. To ensure the confidentiality of project details and data, the following measures will be\\nimplemented:\\nAccess Control:\\n\\x7fAccess to project details and data will be limited only to authorized personnel who have undergone rigorous\\nclearance procedures.\\n\\x7fAuthorized individuals will be granted access to the necessary project documentation and resources on a\\nneed-to-know basis.\\n\\x7fPeriodic audits will be conducted to ensure continuous compliance with confidentiality measures and to identify\\nany potential security weaknesses.\\n\\x7fAccess rights will be regularly reviewed and updated to align with the evolving project requirements and personnel\\nchanges.\\nData Encryption:\\n\\x7fAll data within the Document QnA system and associated project materials will be encrypted using high-level\\nsecurity protocols.\\n\\x7fDEWA will employ industry-standard encryption algorithms and techniques to protect sensitive information from\\nunauthorized access or disclosure.\\n\\x7fData encryption will mitigate the risk of data breaches and ensure that confidential information remains secure\\nthroughout the duration of the project.\\nPhysical Security:\\n\\x7fPhysical access to the systems and infrastructure housing the project data will be strictly controlled and\\nmonitored.\\n\\x7fDEWA will adopt robust physical security measures, including the use of surveillance systems, access control\\nmechanisms, and secure storage facilities.\\n\\x7fUnauthorized individuals will be prevented from physically accessing any project-related equipment or storage\\nareas.\\nConfidentiality Agreements:\\n\"),\n",
       " Document(metadata={'filename': 'kmbot.pdf', 'page_no': 7.0}, page_content=\"\\x7fThe system should have a well-defined process for submitting questions, including a designated form or\\ninterface.\\n\\x7fUsers should be able to provide details about the question, including the context, relevant documents, and any\\nspecific requirements.\\n\\x7fQuestion submission should trigger a notification or alert to the relevant team or individual responsible for\\nproviding the answer.\\n\\x7fUsers should receive a confirmation or acknowledgment of their question submission, indicating that their query\\nhas been received and is being processed.\\n3.Answer Generation:\\n\\x7fThe DEWA system should have a knowledge base or repository of pre-existing answers to commonly asked\\nquestions.\\n\\x7fWhen a question is submitted, the system should first check if there is an existing answer available in the\\nknowledge base that can be provided to the user.\\n\\x7fIf an answer is not available in the knowledge base, the system should escalate the question to the relevant\\nteam or individual who can generate a response.\\n\\x7fThe answer generation process should involve thorough research, analysis, and collaboration to ensure that\\nthe response is accurate and comprehensive.\\n\\x7fThe system should have a mechanism for reviewing and approving answers before they are shared with the\\nuser.\\n\\x7fThe generated answer should be stored in the system's knowledge base for future reference.\\n4.User-based Permissions:\\n\\x7fThe DEWA system should have a role-based access control mechanism that ensures users have appropriate\\npermissions based on their roles and responsibilities.\\n\\x7fUser permissions should be defined and managed by the system administrator or an authorized team.\\n\\x7fAccess to sensitive or confidential information should be restricted to authorized individuals or teams.\\n\\x7fThe system should have the flexibility to grant temporary permissions or access rights for specific tasks or\\nprojects.\\n\\x7fUser-based permissions should be regularly reviewed and updated to reflect any changes in roles or\\nresponsibilities.\\nThese processes are critical for ensuring efficient document management, seamless communication, and\\neffective decision-making within DEWA. By following this well-defined process, the organization can streamline\\noperations and enhance collaboration among teams involved in project management and development.\\n\"),\n",
       " Document(metadata={'filename': 'kmbot.pdf', 'page_no': 7.0}, page_content=\"\\x7fThe system should have a well-defined process for submitting questions, including a designated form or\\ninterface.\\n\\x7fUsers should be able to provide details about the question, including the context, relevant documents, and any\\nspecific requirements.\\n\\x7fQuestion submission should trigger a notification or alert to the relevant team or individual responsible for\\nproviding the answer.\\n\\x7fUsers should receive a confirmation or acknowledgment of their question submission, indicating that their query\\nhas been received and is being processed.\\n3.Answer Generation:\\n\\x7fThe DEWA system should have a knowledge base or repository of pre-existing answers to commonly asked\\nquestions.\\n\\x7fWhen a question is submitted, the system should first check if there is an existing answer available in the\\nknowledge base that can be provided to the user.\\n\\x7fIf an answer is not available in the knowledge base, the system should escalate the question to the relevant\\nteam or individual who can generate a response.\\n\\x7fThe answer generation process should involve thorough research, analysis, and collaboration to ensure that\\nthe response is accurate and comprehensive.\\n\\x7fThe system should have a mechanism for reviewing and approving answers before they are shared with the\\nuser.\\n\\x7fThe generated answer should be stored in the system's knowledge base for future reference.\\n4.User-based Permissions:\\n\\x7fThe DEWA system should have a role-based access control mechanism that ensures users have appropriate\\npermissions based on their roles and responsibilities.\\n\\x7fUser permissions should be defined and managed by the system administrator or an authorized team.\\n\\x7fAccess to sensitive or confidential information should be restricted to authorized individuals or teams.\\n\\x7fThe system should have the flexibility to grant temporary permissions or access rights for specific tasks or\\nprojects.\\n\\x7fUser-based permissions should be regularly reviewed and updated to reflect any changes in roles or\\nresponsibilities.\\nThese processes are critical for ensuring efficient document management, seamless communication, and\\neffective decision-making within DEWA. By following this well-defined process, the organization can streamline\\noperations and enhance collaboration among teams involved in project management and development.\\n\"),\n",
       " Document(metadata={'filename': 'kmbot.pdf', 'page_no': 7.0}, page_content=\"\\x7fThe system should have a well-defined process for submitting questions, including a designated form or\\ninterface.\\n\\x7fUsers should be able to provide details about the question, including the context, relevant documents, and any\\nspecific requirements.\\n\\x7fQuestion submission should trigger a notification or alert to the relevant team or individual responsible for\\nproviding the answer.\\n\\x7fUsers should receive a confirmation or acknowledgment of their question submission, indicating that their query\\nhas been received and is being processed.\\n3.Answer Generation:\\n\\x7fThe DEWA system should have a knowledge base or repository of pre-existing answers to commonly asked\\nquestions.\\n\\x7fWhen a question is submitted, the system should first check if there is an existing answer available in the\\nknowledge base that can be provided to the user.\\n\\x7fIf an answer is not available in the knowledge base, the system should escalate the question to the relevant\\nteam or individual who can generate a response.\\n\\x7fThe answer generation process should involve thorough research, analysis, and collaboration to ensure that\\nthe response is accurate and comprehensive.\\n\\x7fThe system should have a mechanism for reviewing and approving answers before they are shared with the\\nuser.\\n\\x7fThe generated answer should be stored in the system's knowledge base for future reference.\\n4.User-based Permissions:\\n\\x7fThe DEWA system should have a role-based access control mechanism that ensures users have appropriate\\npermissions based on their roles and responsibilities.\\n\\x7fUser permissions should be defined and managed by the system administrator or an authorized team.\\n\\x7fAccess to sensitive or confidential information should be restricted to authorized individuals or teams.\\n\\x7fThe system should have the flexibility to grant temporary permissions or access rights for specific tasks or\\nprojects.\\n\\x7fUser-based permissions should be regularly reviewed and updated to reflect any changes in roles or\\nresponsibilities.\\nThese processes are critical for ensuring efficient document management, seamless communication, and\\neffective decision-making within DEWA. By following this well-defined process, the organization can streamline\\noperations and enhance collaboration among teams involved in project management and development.\\n\"),\n",
       " Document(metadata={'filename': 'kmbot.pdf', 'page_no': 7.0}, page_content=\"\\x7fThe system should have a well-defined process for submitting questions, including a designated form or\\ninterface.\\n\\x7fUsers should be able to provide details about the question, including the context, relevant documents, and any\\nspecific requirements.\\n\\x7fQuestion submission should trigger a notification or alert to the relevant team or individual responsible for\\nproviding the answer.\\n\\x7fUsers should receive a confirmation or acknowledgment of their question submission, indicating that their query\\nhas been received and is being processed.\\n3.Answer Generation:\\n\\x7fThe DEWA system should have a knowledge base or repository of pre-existing answers to commonly asked\\nquestions.\\n\\x7fWhen a question is submitted, the system should first check if there is an existing answer available in the\\nknowledge base that can be provided to the user.\\n\\x7fIf an answer is not available in the knowledge base, the system should escalate the question to the relevant\\nteam or individual who can generate a response.\\n\\x7fThe answer generation process should involve thorough research, analysis, and collaboration to ensure that\\nthe response is accurate and comprehensive.\\n\\x7fThe system should have a mechanism for reviewing and approving answers before they are shared with the\\nuser.\\n\\x7fThe generated answer should be stored in the system's knowledge base for future reference.\\n4.User-based Permissions:\\n\\x7fThe DEWA system should have a role-based access control mechanism that ensures users have appropriate\\npermissions based on their roles and responsibilities.\\n\\x7fUser permissions should be defined and managed by the system administrator or an authorized team.\\n\\x7fAccess to sensitive or confidential information should be restricted to authorized individuals or teams.\\n\\x7fThe system should have the flexibility to grant temporary permissions or access rights for specific tasks or\\nprojects.\\n\\x7fUser-based permissions should be regularly reviewed and updated to reflect any changes in roles or\\nresponsibilities.\\nThese processes are critical for ensuring efficient document management, seamless communication, and\\neffective decision-making within DEWA. By following this well-defined process, the organization can streamline\\noperations and enhance collaboration among teams involved in project management and development.\\n\"),\n",
       " Document(metadata={'filename': 'kmbot.pdf', 'page_no': 9.0}, page_content=\"1.Executives\\n2.Department Managers\\n3.Team Members\\nExecutives:\\n\\x7fExecutives require high-level access to multiple documents and information sources to make informed decisions\\nand monitor the overall performance of the organization.\\n\\x7fThey need access to real-time data, performance metrics, and analytics to assess the financial, operational, and\\nstrategic aspects of DEWA.\\n\\x7fExecutives also require access to reports, dashboards, and visualizations to track key performance indicators and\\nevaluate the success of various initiatives and projects.\\n\\x7fThey should have the ability to generate ad-hoc reports and customize the system to suit their specific\\nrequirements and preferences.\\n\\x7fExecutives need to collaborate and communicate with other departments and stakeholders seamlessly, ensuring\\neffective decision-making and alignment across the organization.\\nDepartment Managers:\\n\\x7fDepartment managers need access to relevant documents, data, and reports specific to their department's\\noperations and goals.\\n\\x7fThey require functionalities to manage and track the progress of projects, assign tasks, and monitor resource\\nallocation within their department.\\n\\x7fManagers should have the ability to review and approve documents related to their department, ensuring\\ncompliance with organizational policies and procedures.\\n\\x7fThey may need to generate reports and metrics related to their department's performance for regular\\nassessments and presentations.\\n\\x7fDepartment managers should be able to collaborate with their team members, share information, and\\ncommunicate effectively through the portal.\\nTeam Members:\\n\\x7fTeam members have specific roles and responsibilities within their respective departments and require access to\\ndocuments and information relevant to their tasks.\\n\\x7fThey may need to submit documents, reports, and requests through the portal, ensuring timely and accurate\\ninformation flow.\\n\\x7fTeam members should have access to a centralized repository of knowledge, best practices, and training\\nmaterials to enhance their skills and productivity.\\n\"),\n",
       " Document(metadata={'filename': 'kmbot.pdf', 'page_no': 9.0}, page_content=\"1.Executives\\n2.Department Managers\\n3.Team Members\\nExecutives:\\n\\x7fExecutives require high-level access to multiple documents and information sources to make informed decisions\\nand monitor the overall performance of the organization.\\n\\x7fThey need access to real-time data, performance metrics, and analytics to assess the financial, operational, and\\nstrategic aspects of DEWA.\\n\\x7fExecutives also require access to reports, dashboards, and visualizations to track key performance indicators and\\nevaluate the success of various initiatives and projects.\\n\\x7fThey should have the ability to generate ad-hoc reports and customize the system to suit their specific\\nrequirements and preferences.\\n\\x7fExecutives need to collaborate and communicate with other departments and stakeholders seamlessly, ensuring\\neffective decision-making and alignment across the organization.\\nDepartment Managers:\\n\\x7fDepartment managers need access to relevant documents, data, and reports specific to their department's\\noperations and goals.\\n\\x7fThey require functionalities to manage and track the progress of projects, assign tasks, and monitor resource\\nallocation within their department.\\n\\x7fManagers should have the ability to review and approve documents related to their department, ensuring\\ncompliance with organizational policies and procedures.\\n\\x7fThey may need to generate reports and metrics related to their department's performance for regular\\nassessments and presentations.\\n\\x7fDepartment managers should be able to collaborate with their team members, share information, and\\ncommunicate effectively through the portal.\\nTeam Members:\\n\\x7fTeam members have specific roles and responsibilities within their respective departments and require access to\\ndocuments and information relevant to their tasks.\\n\\x7fThey may need to submit documents, reports, and requests through the portal, ensuring timely and accurate\\ninformation flow.\\n\\x7fTeam members should have access to a centralized repository of knowledge, best practices, and training\\nmaterials to enhance their skills and productivity.\\n\"),\n",
       " Document(metadata={'filename': 'kmbot.pdf', 'page_no': 9.0}, page_content=\"1.Executives\\n2.Department Managers\\n3.Team Members\\nExecutives:\\n\\x7fExecutives require high-level access to multiple documents and information sources to make informed decisions\\nand monitor the overall performance of the organization.\\n\\x7fThey need access to real-time data, performance metrics, and analytics to assess the financial, operational, and\\nstrategic aspects of DEWA.\\n\\x7fExecutives also require access to reports, dashboards, and visualizations to track key performance indicators and\\nevaluate the success of various initiatives and projects.\\n\\x7fThey should have the ability to generate ad-hoc reports and customize the system to suit their specific\\nrequirements and preferences.\\n\\x7fExecutives need to collaborate and communicate with other departments and stakeholders seamlessly, ensuring\\neffective decision-making and alignment across the organization.\\nDepartment Managers:\\n\\x7fDepartment managers need access to relevant documents, data, and reports specific to their department's\\noperations and goals.\\n\\x7fThey require functionalities to manage and track the progress of projects, assign tasks, and monitor resource\\nallocation within their department.\\n\\x7fManagers should have the ability to review and approve documents related to their department, ensuring\\ncompliance with organizational policies and procedures.\\n\\x7fThey may need to generate reports and metrics related to their department's performance for regular\\nassessments and presentations.\\n\\x7fDepartment managers should be able to collaborate with their team members, share information, and\\ncommunicate effectively through the portal.\\nTeam Members:\\n\\x7fTeam members have specific roles and responsibilities within their respective departments and require access to\\ndocuments and information relevant to their tasks.\\n\\x7fThey may need to submit documents, reports, and requests through the portal, ensuring timely and accurate\\ninformation flow.\\n\\x7fTeam members should have access to a centralized repository of knowledge, best practices, and training\\nmaterials to enhance their skills and productivity.\\n\"),\n",
       " Document(metadata={'filename': 'kmbot.pdf', 'page_no': 9.0}, page_content=\"1.Executives\\n2.Department Managers\\n3.Team Members\\nExecutives:\\n\\x7fExecutives require high-level access to multiple documents and information sources to make informed decisions\\nand monitor the overall performance of the organization.\\n\\x7fThey need access to real-time data, performance metrics, and analytics to assess the financial, operational, and\\nstrategic aspects of DEWA.\\n\\x7fExecutives also require access to reports, dashboards, and visualizations to track key performance indicators and\\nevaluate the success of various initiatives and projects.\\n\\x7fThey should have the ability to generate ad-hoc reports and customize the system to suit their specific\\nrequirements and preferences.\\n\\x7fExecutives need to collaborate and communicate with other departments and stakeholders seamlessly, ensuring\\neffective decision-making and alignment across the organization.\\nDepartment Managers:\\n\\x7fDepartment managers need access to relevant documents, data, and reports specific to their department's\\noperations and goals.\\n\\x7fThey require functionalities to manage and track the progress of projects, assign tasks, and monitor resource\\nallocation within their department.\\n\\x7fManagers should have the ability to review and approve documents related to their department, ensuring\\ncompliance with organizational policies and procedures.\\n\\x7fThey may need to generate reports and metrics related to their department's performance for regular\\nassessments and presentations.\\n\\x7fDepartment managers should be able to collaborate with their team members, share information, and\\ncommunicate effectively through the portal.\\nTeam Members:\\n\\x7fTeam members have specific roles and responsibilities within their respective departments and require access to\\ndocuments and information relevant to their tasks.\\n\\x7fThey may need to submit documents, reports, and requests through the portal, ensuring timely and accurate\\ninformation flow.\\n\\x7fTeam members should have access to a centralized repository of knowledge, best practices, and training\\nmaterials to enhance their skills and productivity.\\n\"),\n",
       " Document(metadata={'filename': 'kmbot.pdf', 'page_no': 3.0}, page_content=\"\\x7fAll personnel involved in the project, including employees, contractors, and third-party vendors, will be required to\\nsign confidentiality agreements.\\n\\x7fThese agreements will outline the obligations and responsibilities of individuals in safeguarding project information\\nand maintaining its confidentiality.\\n\\x7fConfidentiality agreements will serve as a legal mechanism to protect sensitive information and deter any potential\\nunauthorized disclosures.\\nTraining and Awareness:\\n\\x7fDEWA will provide comprehensive training programs and awareness sessions to educate personnel about the\\nimportance of data confidentiality.\\n\\x7fEmployees will receive training on best practices for data security, including the identification and reporting of\\npotential security incidents.\\n\\x7fRegular awareness campaigns will be conducted to ensure that all project personnel remain vigilant and informed\\nabout evolving data security threats.\\nContinuous Improvement:\\n\\x7fDEWA is committed to continuously improving its data security measures and processes to adapt to emerging\\nthreats and vulnerabilities.\\n\\x7fLessons learned from previous projects and security incidents will be incorporated into the ongoing enhancement\\nof its confidentiality measures.\\n\\x7fDEWA will closely monitor advancements in the field of data security and adopt new technologies and practices to\\nmaintain the highest level of confidentiality.\\nThe Statement of Confidentiality serves as a contractual agreement between DEWA, its employees, and\\nproject stakeholders, reinforcing the organization's commitment to protecting sensitive information. By adhering\\nto the stringent confidentiality measures outlined in this document, DEWA ensures that the BRD and\\nassociated project materials remain secure, thus building trust with stakeholders and highlighting its\\ncommitment to data security and privacy.\\nBusiness Requirements\\nThe primary goal of the project is to develop a Document QnA system for Dubai Electricity & Water Authority\\n(DEWA), which allows different levels of Role-Based Access Control (RBAC) for users. This system will\\nfacilitate efficient information exchange and simplify the retrieval and sharing of documents within the\\norganization.\\n\\x7fStrategic Objectives:\\n\\x7fEnhance service quality: The Document QnA system aims to improve service quality by enabling efficient\\ninformation exchange and document retrieval, ultimately enhancing overall organizational efficiency.\\n\"),\n",
       " Document(metadata={'filename': 'kmbot.pdf', 'page_no': 3.0}, page_content=\"\\x7fAll personnel involved in the project, including employees, contractors, and third-party vendors, will be required to\\nsign confidentiality agreements.\\n\\x7fThese agreements will outline the obligations and responsibilities of individuals in safeguarding project information\\nand maintaining its confidentiality.\\n\\x7fConfidentiality agreements will serve as a legal mechanism to protect sensitive information and deter any potential\\nunauthorized disclosures.\\nTraining and Awareness:\\n\\x7fDEWA will provide comprehensive training programs and awareness sessions to educate personnel about the\\nimportance of data confidentiality.\\n\\x7fEmployees will receive training on best practices for data security, including the identification and reporting of\\npotential security incidents.\\n\\x7fRegular awareness campaigns will be conducted to ensure that all project personnel remain vigilant and informed\\nabout evolving data security threats.\\nContinuous Improvement:\\n\\x7fDEWA is committed to continuously improving its data security measures and processes to adapt to emerging\\nthreats and vulnerabilities.\\n\\x7fLessons learned from previous projects and security incidents will be incorporated into the ongoing enhancement\\nof its confidentiality measures.\\n\\x7fDEWA will closely monitor advancements in the field of data security and adopt new technologies and practices to\\nmaintain the highest level of confidentiality.\\nThe Statement of Confidentiality serves as a contractual agreement between DEWA, its employees, and\\nproject stakeholders, reinforcing the organization's commitment to protecting sensitive information. By adhering\\nto the stringent confidentiality measures outlined in this document, DEWA ensures that the BRD and\\nassociated project materials remain secure, thus building trust with stakeholders and highlighting its\\ncommitment to data security and privacy.\\nBusiness Requirements\\nThe primary goal of the project is to develop a Document QnA system for Dubai Electricity & Water Authority\\n(DEWA), which allows different levels of Role-Based Access Control (RBAC) for users. This system will\\nfacilitate efficient information exchange and simplify the retrieval and sharing of documents within the\\norganization.\\n\\x7fStrategic Objectives:\\n\\x7fEnhance service quality: The Document QnA system aims to improve service quality by enabling efficient\\ninformation exchange and document retrieval, ultimately enhancing overall organizational efficiency.\\n\"),\n",
       " Document(metadata={'filename': 'kmbot.pdf', 'page_no': 3.0}, page_content=\"\\x7fAll personnel involved in the project, including employees, contractors, and third-party vendors, will be required to\\nsign confidentiality agreements.\\n\\x7fThese agreements will outline the obligations and responsibilities of individuals in safeguarding project information\\nand maintaining its confidentiality.\\n\\x7fConfidentiality agreements will serve as a legal mechanism to protect sensitive information and deter any potential\\nunauthorized disclosures.\\nTraining and Awareness:\\n\\x7fDEWA will provide comprehensive training programs and awareness sessions to educate personnel about the\\nimportance of data confidentiality.\\n\\x7fEmployees will receive training on best practices for data security, including the identification and reporting of\\npotential security incidents.\\n\\x7fRegular awareness campaigns will be conducted to ensure that all project personnel remain vigilant and informed\\nabout evolving data security threats.\\nContinuous Improvement:\\n\\x7fDEWA is committed to continuously improving its data security measures and processes to adapt to emerging\\nthreats and vulnerabilities.\\n\\x7fLessons learned from previous projects and security incidents will be incorporated into the ongoing enhancement\\nof its confidentiality measures.\\n\\x7fDEWA will closely monitor advancements in the field of data security and adopt new technologies and practices to\\nmaintain the highest level of confidentiality.\\nThe Statement of Confidentiality serves as a contractual agreement between DEWA, its employees, and\\nproject stakeholders, reinforcing the organization's commitment to protecting sensitive information. By adhering\\nto the stringent confidentiality measures outlined in this document, DEWA ensures that the BRD and\\nassociated project materials remain secure, thus building trust with stakeholders and highlighting its\\ncommitment to data security and privacy.\\nBusiness Requirements\\nThe primary goal of the project is to develop a Document QnA system for Dubai Electricity & Water Authority\\n(DEWA), which allows different levels of Role-Based Access Control (RBAC) for users. This system will\\nfacilitate efficient information exchange and simplify the retrieval and sharing of documents within the\\norganization.\\n\\x7fStrategic Objectives:\\n\\x7fEnhance service quality: The Document QnA system aims to improve service quality by enabling efficient\\ninformation exchange and document retrieval, ultimately enhancing overall organizational efficiency.\\n\"),\n",
       " Document(metadata={'filename': 'kmbot.pdf', 'page_no': 3.0}, page_content=\"\\x7fAll personnel involved in the project, including employees, contractors, and third-party vendors, will be required to\\nsign confidentiality agreements.\\n\\x7fThese agreements will outline the obligations and responsibilities of individuals in safeguarding project information\\nand maintaining its confidentiality.\\n\\x7fConfidentiality agreements will serve as a legal mechanism to protect sensitive information and deter any potential\\nunauthorized disclosures.\\nTraining and Awareness:\\n\\x7fDEWA will provide comprehensive training programs and awareness sessions to educate personnel about the\\nimportance of data confidentiality.\\n\\x7fEmployees will receive training on best practices for data security, including the identification and reporting of\\npotential security incidents.\\n\\x7fRegular awareness campaigns will be conducted to ensure that all project personnel remain vigilant and informed\\nabout evolving data security threats.\\nContinuous Improvement:\\n\\x7fDEWA is committed to continuously improving its data security measures and processes to adapt to emerging\\nthreats and vulnerabilities.\\n\\x7fLessons learned from previous projects and security incidents will be incorporated into the ongoing enhancement\\nof its confidentiality measures.\\n\\x7fDEWA will closely monitor advancements in the field of data security and adopt new technologies and practices to\\nmaintain the highest level of confidentiality.\\nThe Statement of Confidentiality serves as a contractual agreement between DEWA, its employees, and\\nproject stakeholders, reinforcing the organization's commitment to protecting sensitive information. By adhering\\nto the stringent confidentiality measures outlined in this document, DEWA ensures that the BRD and\\nassociated project materials remain secure, thus building trust with stakeholders and highlighting its\\ncommitment to data security and privacy.\\nBusiness Requirements\\nThe primary goal of the project is to develop a Document QnA system for Dubai Electricity & Water Authority\\n(DEWA), which allows different levels of Role-Based Access Control (RBAC) for users. This system will\\nfacilitate efficient information exchange and simplify the retrieval and sharing of documents within the\\norganization.\\n\\x7fStrategic Objectives:\\n\\x7fEnhance service quality: The Document QnA system aims to improve service quality by enabling efficient\\ninformation exchange and document retrieval, ultimately enhancing overall organizational efficiency.\\n\"),\n",
       " Document(metadata={'filename': 'kmbot.pdf', 'page_no': 1.0}, page_content='kmbot\\nTable of Contents\\n1.Statement of Confidentiality\\n2.Business Requirements\\n3.Process\\n4.User Experience\\n5.User Category\\n6.Integration\\n7.Dependency\\n8.Dashboard Requirements\\n9.Business Value\\n10.Business Owner\\n'),\n",
       " Document(metadata={'filename': 'kmbot.pdf', 'page_no': 1.0}, page_content='kmbot\\nTable of Contents\\n1.Statement of Confidentiality\\n2.Business Requirements\\n3.Process\\n4.User Experience\\n5.User Category\\n6.Integration\\n7.Dependency\\n8.Dashboard Requirements\\n9.Business Value\\n10.Business Owner\\n'),\n",
       " Document(metadata={'filename': 'kmbot.pdf', 'page_no': 1.0}, page_content='kmbot\\nTable of Contents\\n1.Statement of Confidentiality\\n2.Business Requirements\\n3.Process\\n4.User Experience\\n5.User Category\\n6.Integration\\n7.Dependency\\n8.Dashboard Requirements\\n9.Business Value\\n10.Business Owner\\n'),\n",
       " Document(metadata={'filename': 'kmbot.pdf', 'page_no': 1.0}, page_content='kmbot\\nTable of Contents\\n1.Statement of Confidentiality\\n2.Business Requirements\\n3.Process\\n4.User Experience\\n5.User Category\\n6.Integration\\n7.Dependency\\n8.Dashboard Requirements\\n9.Business Value\\n10.Business Owner\\n'),\n",
       " Document(metadata={'filename': 'CLIPJ5549Q_2024-25.pdf', 'page_no': 2.0}, page_content='Certificate Number: SKGHGDA TAN of Employer: JPRC04401F PAN of Employee: CLIPJ5549Q Assessment Year: 2024-25\\nI,\\xa0 GUNJAN JAIN, son / daughter of SUNIL KUMAR JAIN working in the capacity of AUTHORISED SIGNATORY (designation) do hereby certify that a sum of\\nRs.\\xa038135.00 [Rs. Thirty Eight Thousand One Hundred and Thirty Five Only (in words)] has been deducted and a sum of Rs.\\xa038135.00 [Rs. Thirty Eight Thousand\\nOne Hundred and Thirty Five Only] has been deposited to the credit of the Central Government. I further certify that the information given above is true, complete\\nand correct and is based on the books of account, documents, TDS statements, TDS deposited and other available records.Verification\\nPlace\\nDate (Signature of person responsible for deduction of Tax)JAIPUR\\n05-Jun-2024\\nAUTHORISED SIGNATORY Designation: Full Name: GUNJAN  JAIN\\nNotes:\\n1. Part B (Annexure) of the certificate in Form No.16 shall be issued by the employer.\\n2. If an assessee is employed under one employer during the year, Part \\'A\\' of the certificate in Form No.16 issued for the quarter ending on 31st March of the financial year shall contain the details\\nof tax deducted and deposited for all the quarters of the financial year.\\n3. If an assessee is employed under more than one employer during the year, each of the employers shall issue Part A of the certificate in Form No.16 pertaining to the period for which such\\nassessee was employed with each of the employers. Part B (Annexure) of the certificate in Form No. 16 may be issued by each of the employers or the last employer at the option of the assessee.\\n4. To update PAN details in Income Tax Department database, apply for \\'PAN change request\\' through NSDL or UTITSL.Sl. No.Tax Deposited in respect of the\\ndeductee\\n(Rs.)Challan Identification Number (CIN)\\nBSR Code of the Bank\\nBranchDate on which Tax deposited\\n(dd/mm/yyyy)Challan Serial Number Status of matching with\\nOLTAS*\\n5 4457.00 6390009 07-11-2023 30442 F\\n6 4457.00 6390009 05-12-2023 25459 F\\n7 4458.00 6390009 05-01-2024 28051 F\\n8 9657.00 6390009 06-02-2024 86202 F\\n9 6191.00 6390009 07-03-2024 21729 F\\n10 4458.00 6390009 24-04-2024 01902 F\\nTotal (Rs.) 38135.00\\nLegend used in Form 16\\n* Status of matching with OLTAS\\nLegend Description Definition\\nU UnmatchedDeductors have not deposited taxes or have furnished incorrect particulars of tax payment. Final credit will be reflected only when payment\\ndetails in bank match with details of deposit in TDS / TCS statement\\nP ProvisionalProvisional tax credit is effected only for TDS / TCS Statements filed by Government deductors.\"P\" status will be changed to Final (F) on\\nverification of payment details submitted by Pay and Accounts Officer (PAO)\\nO OverbookedPayment details of TDS / TCS deposited in bank by deductor have matched with details mentioned in the TDS / TCS statement but the\\namount is over claimed in the statement. Final (F) credit will be reflected only when deductor reduces claimed amount in the statement or\\nmakes new payment for excess amount claimed in the statementF FinalIn case of non-government deductors, payment details of TDS / TCS deposited in bank by deductor have matched with the payment details\\nmentioned in the TDS / TCS statement filed by the deductors. In case of government deductors, details of TDS / TCS booked in Government\\naccount have been verified by Pay & Accounts Officer (PAO)\\nPage 2 of  2'),\n",
       " Document(metadata={'filename': 'CLIPJ5549Q_2024-25.pdf', 'page_no': 1.0}, page_content='FORM NO. 16\\n[See rule 31(1)(a)]\\nCertificate under Section 203 of the Income-tax Act, 1961 for tax deducted at source on salary paid to an employee under section 192 or pension/interest income\\nof specified senior citizen under section 194P\\nName and address of the Employer/Specified Bank\\nCELEBAL TECHNOLOGIES PRIVATE LIMITED\\n2/63, AGARWAL FARM,\\nMANSAROVAR, JAIPUR - 302020\\nRajasthan\\nanirudh@celebaltech.comName and address of the Employee/Specified senior citizen\\nPAWAN KALYAN JADA\\n16-8-386, SOMA VARI STREET, OLD GUNTUR, GUNTUR - 522003\\nAndhra Pradesh\\nPAN of the Deductor\\nAAGCC7144LTAN of the Deductor\\nJPRC04401FPAN of the\\nEmployee/Specified senior\\ncitizen\\nCLIPJ5549Q\\nAssessment Year\\n2024-25CIT (TDS)\\nThe Commissioner of Income Tax (TDS)\\nNew Central Revenue Building, Statue Circle, Janpath Jaipur -\\n302005Period with the Employer\\nTo\\n31-Mar-2024From\\n01-Jun-2023\\nSummary of amount paid/credited and tax deducted at source thereon in respect of the employee\\nQuarter(s)Receipt Numbers of original\\nquarterly statements of TDS\\nunder sub-section (3) of\\nSection 200Amount of tax deducted\\n(Rs.)Amount of tax deposited / remitted\\n(Rs.) Amount paid/credited\\nQ1 FXBHIBCP 0.00 0.00 38001.00\\nQ2 FXBLELKE 4457.00 4457.00 174003.00\\nQ3 FXCPJUET 13372.00 13372.00 294003.00\\nQ4 FXCTVTCJ 20306.00 20306.00 360670.00\\nTotal (Rs.) 38135.00 38135.00 866677.00\\nSl. No.Tax Deposited in respect of the\\ndeductee\\n(Rs.)Book Identification Number (BIN)\\nReceipt Numbers of Form\\nNo. 24GDDO serial number in Form no.\\n24GDate of transfer voucher\\n(dd/mm/yyyy)Status of matching\\nwith Form no. 24G\\nTotal (Rs.)\\nSl. No.Tax Deposited in respect of the\\ndeductee\\n(Rs.)Challan Identification Number (CIN)\\nBSR Code of the Bank\\nBranchDate on which Tax deposited\\n(dd/mm/yyyy)Challan Serial Number Status of matching with\\nOLTAS*\\n1 0.00 - 05-07-2023 - F\\n2 0.00 - 04-08-2023 - F\\n3 0.00 - 05-09-2023 - F\\n4 4457.00 6390009 06-10-2023 74084 FPART A\\nCertificate No. SKGHGDA Last updated on 02-Jun-2024\\nEmployee Reference No. provided by the\\nEmployer/Pension Payment order no. provided\\nby the Employer (If available)\\nI. DETAILS OF TAX DEDUCTED AND DEPOSITED IN THE CENTRAL GOVERNMENT ACCOUNT THROUGH BOOK ADJUSTMENT\\n(The deductor to provide payment wise details of tax deducted and deposited with respect to the deductee)\\nII. DETAILS OF TAX DEDUCTED AND DEPOSITED IN THE CENTRAL GOVERNMENT ACCOUNT THROUGH CHALLAN\\n(The deductor to provide payment wise details of tax deducted and deposited with respect to the deductee)\\nPage 1 of  2'),\n",
       " Document(metadata={'filename': 'Baroda Home Loan.pdf', 'page_no': 5.0}, page_content=' \\nMost Important Terms and Conditions:  All Documents Self –Attested By Applicant /Co -Applicant /Guarantor  \\nA) RESIDENT INDIAN:  \\nI. \\n1. Duly Filled and Signed Application form along with  three Photograph s  \\n2. Proof of Identity - PAN CARD (mandatory for loan application above Rs.10.00 lacs  \\n3. Driver ’s License / V oter ID / Passport / Aadhar Card  \\n4. Proof of Residence (Driver ’s License / Ration Card/ V oter ID / Passport / Aadhar Card  \\n/ Registered Rent Agreement)  \\n5. If any previous loan  then loan a/c statement for last 1 year along with sanction letter.  \\n( If loan from BoB, Account No / Cust Id required)  \\n6. Proof of assets held like LIC/NSC/KVP/MF/PROPERTY  \\n7. Assets and Liabilities statement  \\n8. ITR Verification report  \\n9. Additional Do cuments for (Applicants /Co - applicants whose income to be considered for eligibility)  \\nSalaried Individuals  Self-Employed Individuals / Professionals /Others  Farmers /agriculturist  \\na. Latest 3 months  Salary Slips & latest 1 month salary slip for  \\nGuara ntors  Balance Sheet & Profit & Loss A/c, Computation of Income - Last \\n2 years  Talati ’s/Gram Sevak/Village Revenue officer Certificate for previous two \\nyears income and Mamladaar ’s /Block Revenue officer certificate for last \\nyear’s \\nincome.  \\nb. Form 16 & ITR – last 1 years of Applicants &  \\nGuarantors(if any )  Income Tax Returns – last 2 years for Applicants, 26 AS ,  \\nTraces   \\nc. Copy of Employee identity Card provided by Employer  Business proof : Gomasta License,  Registration \\nCertificate, Service Tax  \\nRegistration, etc  Land revenue records – Form 6, 7/12, 8A ;  \\nd. Appointment  \\n/Confirmation  / Promotion /Increment letter  evidencing  \\nduration of employment  IT Assessment / Clearance Certificate, Income Tax Challans / TDS \\nCertificate (Form 16A) / Form 26 AS for  \\nincome d eclared in ITR.   \\ne. 6 months Bank A/c statement (Salary / Individual) or \\nAccount No if account is with BoB.  In Case of Applicants engaged in Business through\\n Partnership Firm/Private Ltd. Company:  12 months Bank A/c statement (Individual)  \\nf.  i. Firm ’s PAN c ard, Address Proof of Firm /  \\n                                                       Company    '),\n",
       " Document(metadata={'filename': 'Baroda Home Loan.pdf', 'page_no': 5.0}, page_content=' \\nMost Important Terms and Conditions:  All Documents Self –Attested By Applicant /Co -Applicant /Guarantor  \\nA) RESIDENT INDIAN:  \\nI. \\n1. Duly Filled and Signed Application form along with  three Photograph s  \\n2. Proof of Identity - PAN CARD (mandatory for loan application above Rs.10.00 lacs  \\n3. Driver ’s License / V oter ID / Passport / Aadhar Card  \\n4. Proof of Residence (Driver ’s License / Ration Card/ V oter ID / Passport / Aadhar Card  \\n/ Registered Rent Agreement)  \\n5. If any previous loan  then loan a/c statement for last 1 year along with sanction letter.  \\n( If loan from BoB, Account No / Cust Id required)  \\n6. Proof of assets held like LIC/NSC/KVP/MF/PROPERTY  \\n7. Assets and Liabilities statement  \\n8. ITR Verification report  \\n9. Additional Do cuments for (Applicants /Co - applicants whose income to be considered for eligibility)  \\nSalaried Individuals  Self-Employed Individuals / Professionals /Others  Farmers /agriculturist  \\na. Latest 3 months  Salary Slips & latest 1 month salary slip for  \\nGuara ntors  Balance Sheet & Profit & Loss A/c, Computation of Income - Last \\n2 years  Talati ’s/Gram Sevak/Village Revenue officer Certificate for previous two \\nyears income and Mamladaar ’s /Block Revenue officer certificate for last \\nyear’s \\nincome.  \\nb. Form 16 & ITR – last 1 years of Applicants &  \\nGuarantors(if any )  Income Tax Returns – last 2 years for Applicants, 26 AS ,  \\nTraces   \\nc. Copy of Employee identity Card provided by Employer  Business proof : Gomasta License,  Registration \\nCertificate, Service Tax  \\nRegistration, etc  Land revenue records – Form 6, 7/12, 8A ;  \\nd. Appointment  \\n/Confirmation  / Promotion /Increment letter  evidencing  \\nduration of employment  IT Assessment / Clearance Certificate, Income Tax Challans / TDS \\nCertificate (Form 16A) / Form 26 AS for  \\nincome d eclared in ITR.   \\ne. 6 months Bank A/c statement (Salary / Individual) or \\nAccount No if account is with BoB.  In Case of Applicants engaged in Business through\\n Partnership Firm/Private Ltd. Company:  12 months Bank A/c statement (Individual)  \\nf.  i. Firm ’s PAN c ard, Address Proof of Firm /  \\n                                                       Company    '),\n",
       " Document(metadata={'filename': 'Baroda Home Loan.pdf', 'page_no': 5.0}, page_content=' \\nMost Important Terms and Conditions:  All Documents Self –Attested By Applicant /Co -Applicant /Guarantor  \\nA) RESIDENT INDIAN:  \\nI. \\n1. Duly Filled and Signed Application form along with  three Photograph s  \\n2. Proof of Identity - PAN CARD (mandatory for loan application above Rs.10.00 lacs  \\n3. Driver ’s License / V oter ID / Passport / Aadhar Card  \\n4. Proof of Residence (Driver ’s License / Ration Card/ V oter ID / Passport / Aadhar Card  \\n/ Registered Rent Agreement)  \\n5. If any previous loan  then loan a/c statement for last 1 year along with sanction letter.  \\n( If loan from BoB, Account No / Cust Id required)  \\n6. Proof of assets held like LIC/NSC/KVP/MF/PROPERTY  \\n7. Assets and Liabilities statement  \\n8. ITR Verification report  \\n9. Additional Do cuments for (Applicants /Co - applicants whose income to be considered for eligibility)  \\nSalaried Individuals  Self-Employed Individuals / Professionals /Others  Farmers /agriculturist  \\na. Latest 3 months  Salary Slips & latest 1 month salary slip for  \\nGuara ntors  Balance Sheet & Profit & Loss A/c, Computation of Income - Last \\n2 years  Talati ’s/Gram Sevak/Village Revenue officer Certificate for previous two \\nyears income and Mamladaar ’s /Block Revenue officer certificate for last \\nyear’s \\nincome.  \\nb. Form 16 & ITR – last 1 years of Applicants &  \\nGuarantors(if any )  Income Tax Returns – last 2 years for Applicants, 26 AS ,  \\nTraces   \\nc. Copy of Employee identity Card provided by Employer  Business proof : Gomasta License,  Registration \\nCertificate, Service Tax  \\nRegistration, etc  Land revenue records – Form 6, 7/12, 8A ;  \\nd. Appointment  \\n/Confirmation  / Promotion /Increment letter  evidencing  \\nduration of employment  IT Assessment / Clearance Certificate, Income Tax Challans / TDS \\nCertificate (Form 16A) / Form 26 AS for  \\nincome d eclared in ITR.   \\ne. 6 months Bank A/c statement (Salary / Individual) or \\nAccount No if account is with BoB.  In Case of Applicants engaged in Business through\\n Partnership Firm/Private Ltd. Company:  12 months Bank A/c statement (Individual)  \\nf.  i. Firm ’s PAN c ard, Address Proof of Firm /  \\n                                                       Company    '),\n",
       " Document(metadata={'filename': 'Baroda Home Loan.pdf', 'page_no': 5.0}, page_content=' \\nMost Important Terms and Conditions:  All Documents Self –Attested By Applicant /Co -Applicant /Guarantor  \\nA) RESIDENT INDIAN:  \\nI. \\n1. Duly Filled and Signed Application form along with  three Photograph s  \\n2. Proof of Identity - PAN CARD (mandatory for loan application above Rs.10.00 lacs  \\n3. Driver ’s License / V oter ID / Passport / Aadhar Card  \\n4. Proof of Residence (Driver ’s License / Ration Card/ V oter ID / Passport / Aadhar Card  \\n/ Registered Rent Agreement)  \\n5. If any previous loan  then loan a/c statement for last 1 year along with sanction letter.  \\n( If loan from BoB, Account No / Cust Id required)  \\n6. Proof of assets held like LIC/NSC/KVP/MF/PROPERTY  \\n7. Assets and Liabilities statement  \\n8. ITR Verification report  \\n9. Additional Do cuments for (Applicants /Co - applicants whose income to be considered for eligibility)  \\nSalaried Individuals  Self-Employed Individuals / Professionals /Others  Farmers /agriculturist  \\na. Latest 3 months  Salary Slips & latest 1 month salary slip for  \\nGuara ntors  Balance Sheet & Profit & Loss A/c, Computation of Income - Last \\n2 years  Talati ’s/Gram Sevak/Village Revenue officer Certificate for previous two \\nyears income and Mamladaar ’s /Block Revenue officer certificate for last \\nyear’s \\nincome.  \\nb. Form 16 & ITR – last 1 years of Applicants &  \\nGuarantors(if any )  Income Tax Returns – last 2 years for Applicants, 26 AS ,  \\nTraces   \\nc. Copy of Employee identity Card provided by Employer  Business proof : Gomasta License,  Registration \\nCertificate, Service Tax  \\nRegistration, etc  Land revenue records – Form 6, 7/12, 8A ;  \\nd. Appointment  \\n/Confirmation  / Promotion /Increment letter  evidencing  \\nduration of employment  IT Assessment / Clearance Certificate, Income Tax Challans / TDS \\nCertificate (Form 16A) / Form 26 AS for  \\nincome d eclared in ITR.   \\ne. 6 months Bank A/c statement (Salary / Individual) or \\nAccount No if account is with BoB.  In Case of Applicants engaged in Business through\\n Partnership Firm/Private Ltd. Company:  12 months Bank A/c statement (Individual)  \\nf.  i. Firm ’s PAN c ard, Address Proof of Firm /  \\n                                                       Company    '),\n",
       " Document(metadata={'filename': 'Baroda Home Loan.pdf', 'page_no': 5.0}, page_content=' \\nMost Important Terms and Conditions:  All Documents Self –Attested By Applicant /Co -Applicant /Guarantor  \\nA) RESIDENT INDIAN:  \\nI. \\n1. Duly Filled and Signed Application form along with  three Photograph s  \\n2. Proof of Identity - PAN CARD (mandatory for loan application above Rs.10.00 lacs  \\n3. Driver ’s License / V oter ID / Passport / Aadhar Card  \\n4. Proof of Residence (Driver ’s License / Ration Card/ V oter ID / Passport / Aadhar Card  \\n/ Registered Rent Agreement)  \\n5. If any previous loan  then loan a/c statement for last 1 year along with sanction letter.  \\n( If loan from BoB, Account No / Cust Id required)  \\n6. Proof of assets held like LIC/NSC/KVP/MF/PROPERTY  \\n7. Assets and Liabilities statement  \\n8. ITR Verification report  \\n9. Additional Do cuments for (Applicants /Co - applicants whose income to be considered for eligibility)  \\nSalaried Individuals  Self-Employed Individuals / Professionals /Others  Farmers /agriculturist  \\na. Latest 3 months  Salary Slips & latest 1 month salary slip for  \\nGuara ntors  Balance Sheet & Profit & Loss A/c, Computation of Income - Last \\n2 years  Talati ’s/Gram Sevak/Village Revenue officer Certificate for previous two \\nyears income and Mamladaar ’s /Block Revenue officer certificate for last \\nyear’s \\nincome.  \\nb. Form 16 & ITR – last 1 years of Applicants &  \\nGuarantors(if any )  Income Tax Returns – last 2 years for Applicants, 26 AS ,  \\nTraces   \\nc. Copy of Employee identity Card provided by Employer  Business proof : Gomasta License,  Registration \\nCertificate, Service Tax  \\nRegistration, etc  Land revenue records – Form 6, 7/12, 8A ;  \\nd. Appointment  \\n/Confirmation  / Promotion /Increment letter  evidencing  \\nduration of employment  IT Assessment / Clearance Certificate, Income Tax Challans / TDS \\nCertificate (Form 16A) / Form 26 AS for  \\nincome d eclared in ITR.   \\ne. 6 months Bank A/c statement (Salary / Individual) or \\nAccount No if account is with BoB.  In Case of Applicants engaged in Business through\\n Partnership Firm/Private Ltd. Company:  12 months Bank A/c statement (Individual)  \\nf.  i. Firm ’s PAN c ard, Address Proof of Firm /  \\n                                                       Company    '),\n",
       " Document(metadata={'filename': 'Baroda Home Loan.pdf', 'page_no': 5.0}, page_content=' \\nMost Important Terms and Conditions:  All Documents Self –Attested By Applicant /Co -Applicant /Guarantor  \\nA) RESIDENT INDIAN:  \\nI. \\n1. Duly Filled and Signed Application form along with  three Photograph s  \\n2. Proof of Identity - PAN CARD (mandatory for loan application above Rs.10.00 lacs  \\n3. Driver ’s License / V oter ID / Passport / Aadhar Card  \\n4. Proof of Residence (Driver ’s License / Ration Card/ V oter ID / Passport / Aadhar Card  \\n/ Registered Rent Agreement)  \\n5. If any previous loan  then loan a/c statement for last 1 year along with sanction letter.  \\n( If loan from BoB, Account No / Cust Id required)  \\n6. Proof of assets held like LIC/NSC/KVP/MF/PROPERTY  \\n7. Assets and Liabilities statement  \\n8. ITR Verification report  \\n9. Additional Do cuments for (Applicants /Co - applicants whose income to be considered for eligibility)  \\nSalaried Individuals  Self-Employed Individuals / Professionals /Others  Farmers /agriculturist  \\na. Latest 3 months  Salary Slips & latest 1 month salary slip for  \\nGuara ntors  Balance Sheet & Profit & Loss A/c, Computation of Income - Last \\n2 years  Talati ’s/Gram Sevak/Village Revenue officer Certificate for previous two \\nyears income and Mamladaar ’s /Block Revenue officer certificate for last \\nyear’s \\nincome.  \\nb. Form 16 & ITR – last 1 years of Applicants &  \\nGuarantors(if any )  Income Tax Returns – last 2 years for Applicants, 26 AS ,  \\nTraces   \\nc. Copy of Employee identity Card provided by Employer  Business proof : Gomasta License,  Registration \\nCertificate, Service Tax  \\nRegistration, etc  Land revenue records – Form 6, 7/12, 8A ;  \\nd. Appointment  \\n/Confirmation  / Promotion /Increment letter  evidencing  \\nduration of employment  IT Assessment / Clearance Certificate, Income Tax Challans / TDS \\nCertificate (Form 16A) / Form 26 AS for  \\nincome d eclared in ITR.   \\ne. 6 months Bank A/c statement (Salary / Individual) or \\nAccount No if account is with BoB.  In Case of Applicants engaged in Business through\\n Partnership Firm/Private Ltd. Company:  12 months Bank A/c statement (Individual)  \\nf.  i. Firm ’s PAN c ard, Address Proof of Firm /  \\n                                                       Company    '),\n",
       " Document(metadata={'filename': 'Baroda Home Loan.pdf', 'page_no': 5.0}, page_content=' \\nMost Important Terms and Conditions:  All Documents Self –Attested By Applicant /Co -Applicant /Guarantor  \\nA) RESIDENT INDIAN:  \\nI. \\n1. Duly Filled and Signed Application form along with  three Photograph s  \\n2. Proof of Identity - PAN CARD (mandatory for loan application above Rs.10.00 lacs  \\n3. Driver ’s License / V oter ID / Passport / Aadhar Card  \\n4. Proof of Residence (Driver ’s License / Ration Card/ V oter ID / Passport / Aadhar Card  \\n/ Registered Rent Agreement)  \\n5. If any previous loan  then loan a/c statement for last 1 year along with sanction letter.  \\n( If loan from BoB, Account No / Cust Id required)  \\n6. Proof of assets held like LIC/NSC/KVP/MF/PROPERTY  \\n7. Assets and Liabilities statement  \\n8. ITR Verification report  \\n9. Additional Do cuments for (Applicants /Co - applicants whose income to be considered for eligibility)  \\nSalaried Individuals  Self-Employed Individuals / Professionals /Others  Farmers /agriculturist  \\na. Latest 3 months  Salary Slips & latest 1 month salary slip for  \\nGuara ntors  Balance Sheet & Profit & Loss A/c, Computation of Income - Last \\n2 years  Talati ’s/Gram Sevak/Village Revenue officer Certificate for previous two \\nyears income and Mamladaar ’s /Block Revenue officer certificate for last \\nyear’s \\nincome.  \\nb. Form 16 & ITR – last 1 years of Applicants &  \\nGuarantors(if any )  Income Tax Returns – last 2 years for Applicants, 26 AS ,  \\nTraces   \\nc. Copy of Employee identity Card provided by Employer  Business proof : Gomasta License,  Registration \\nCertificate, Service Tax  \\nRegistration, etc  Land revenue records – Form 6, 7/12, 8A ;  \\nd. Appointment  \\n/Confirmation  / Promotion /Increment letter  evidencing  \\nduration of employment  IT Assessment / Clearance Certificate, Income Tax Challans / TDS \\nCertificate (Form 16A) / Form 26 AS for  \\nincome d eclared in ITR.   \\ne. 6 months Bank A/c statement (Salary / Individual) or \\nAccount No if account is with BoB.  In Case of Applicants engaged in Business through\\n Partnership Firm/Private Ltd. Company:  12 months Bank A/c statement (Individual)  \\nf.  i. Firm ’s PAN c ard, Address Proof of Firm /  \\n                                                       Company    '),\n",
       " Document(metadata={'filename': 'Baroda Home Loan.pdf', 'page_no': 5.0}, page_content=' \\nMost Important Terms and Conditions:  All Documents Self –Attested By Applicant /Co -Applicant /Guarantor  \\nA) RESIDENT INDIAN:  \\nI. \\n1. Duly Filled and Signed Application form along with  three Photograph s  \\n2. Proof of Identity - PAN CARD (mandatory for loan application above Rs.10.00 lacs  \\n3. Driver ’s License / V oter ID / Passport / Aadhar Card  \\n4. Proof of Residence (Driver ’s License / Ration Card/ V oter ID / Passport / Aadhar Card  \\n/ Registered Rent Agreement)  \\n5. If any previous loan  then loan a/c statement for last 1 year along with sanction letter.  \\n( If loan from BoB, Account No / Cust Id required)  \\n6. Proof of assets held like LIC/NSC/KVP/MF/PROPERTY  \\n7. Assets and Liabilities statement  \\n8. ITR Verification report  \\n9. Additional Do cuments for (Applicants /Co - applicants whose income to be considered for eligibility)  \\nSalaried Individuals  Self-Employed Individuals / Professionals /Others  Farmers /agriculturist  \\na. Latest 3 months  Salary Slips & latest 1 month salary slip for  \\nGuara ntors  Balance Sheet & Profit & Loss A/c, Computation of Income - Last \\n2 years  Talati ’s/Gram Sevak/Village Revenue officer Certificate for previous two \\nyears income and Mamladaar ’s /Block Revenue officer certificate for last \\nyear’s \\nincome.  \\nb. Form 16 & ITR – last 1 years of Applicants &  \\nGuarantors(if any )  Income Tax Returns – last 2 years for Applicants, 26 AS ,  \\nTraces   \\nc. Copy of Employee identity Card provided by Employer  Business proof : Gomasta License,  Registration \\nCertificate, Service Tax  \\nRegistration, etc  Land revenue records – Form 6, 7/12, 8A ;  \\nd. Appointment  \\n/Confirmation  / Promotion /Increment letter  evidencing  \\nduration of employment  IT Assessment / Clearance Certificate, Income Tax Challans / TDS \\nCertificate (Form 16A) / Form 26 AS for  \\nincome d eclared in ITR.   \\ne. 6 months Bank A/c statement (Salary / Individual) or \\nAccount No if account is with BoB.  In Case of Applicants engaged in Business through\\n Partnership Firm/Private Ltd. Company:  12 months Bank A/c statement (Individual)  \\nf.  i. Firm ’s PAN c ard, Address Proof of Firm /  \\n                                                       Company    '),\n",
       " Document(metadata={'filename': 'Baroda Home Loan.pdf', 'page_no': 5.0}, page_content=' \\nMost Important Terms and Conditions:  All Documents Self –Attested By Applicant /Co -Applicant /Guarantor  \\nA) RESIDENT INDIAN:  \\nI. \\n1. Duly Filled and Signed Application form along with  three Photograph s  \\n2. Proof of Identity - PAN CARD (mandatory for loan application above Rs.10.00 lacs  \\n3. Driver ’s License / V oter ID / Passport / Aadhar Card  \\n4. Proof of Residence (Driver ’s License / Ration Card/ V oter ID / Passport / Aadhar Card  \\n/ Registered Rent Agreement)  \\n5. If any previous loan  then loan a/c statement for last 1 year along with sanction letter.  \\n( If loan from BoB, Account No / Cust Id required)  \\n6. Proof of assets held like LIC/NSC/KVP/MF/PROPERTY  \\n7. Assets and Liabilities statement  \\n8. ITR Verification report  \\n9. Additional Do cuments for (Applicants /Co - applicants whose income to be considered for eligibility)  \\nSalaried Individuals  Self-Employed Individuals / Professionals /Others  Farmers /agriculturist  \\na. Latest 3 months  Salary Slips & latest 1 month salary slip for  \\nGuara ntors  Balance Sheet & Profit & Loss A/c, Computation of Income - Last \\n2 years  Talati ’s/Gram Sevak/Village Revenue officer Certificate for previous two \\nyears income and Mamladaar ’s /Block Revenue officer certificate for last \\nyear’s \\nincome.  \\nb. Form 16 & ITR – last 1 years of Applicants &  \\nGuarantors(if any )  Income Tax Returns – last 2 years for Applicants, 26 AS ,  \\nTraces   \\nc. Copy of Employee identity Card provided by Employer  Business proof : Gomasta License,  Registration \\nCertificate, Service Tax  \\nRegistration, etc  Land revenue records – Form 6, 7/12, 8A ;  \\nd. Appointment  \\n/Confirmation  / Promotion /Increment letter  evidencing  \\nduration of employment  IT Assessment / Clearance Certificate, Income Tax Challans / TDS \\nCertificate (Form 16A) / Form 26 AS for  \\nincome d eclared in ITR.   \\ne. 6 months Bank A/c statement (Salary / Individual) or \\nAccount No if account is with BoB.  In Case of Applicants engaged in Business through\\n Partnership Firm/Private Ltd. Company:  12 months Bank A/c statement (Individual)  \\nf.  i. Firm ’s PAN c ard, Address Proof of Firm /  \\n                                                       Company    '),\n",
       " Document(metadata={'filename': 'Baroda Home Loan.pdf', 'page_no': 5.0}, page_content=' \\nMost Important Terms and Conditions:  All Documents Self –Attested By Applicant /Co -Applicant /Guarantor  \\nA) RESIDENT INDIAN:  \\nI. \\n1. Duly Filled and Signed Application form along with  three Photograph s  \\n2. Proof of Identity - PAN CARD (mandatory for loan application above Rs.10.00 lacs  \\n3. Driver ’s License / V oter ID / Passport / Aadhar Card  \\n4. Proof of Residence (Driver ’s License / Ration Card/ V oter ID / Passport / Aadhar Card  \\n/ Registered Rent Agreement)  \\n5. If any previous loan  then loan a/c statement for last 1 year along with sanction letter.  \\n( If loan from BoB, Account No / Cust Id required)  \\n6. Proof of assets held like LIC/NSC/KVP/MF/PROPERTY  \\n7. Assets and Liabilities statement  \\n8. ITR Verification report  \\n9. Additional Do cuments for (Applicants /Co - applicants whose income to be considered for eligibility)  \\nSalaried Individuals  Self-Employed Individuals / Professionals /Others  Farmers /agriculturist  \\na. Latest 3 months  Salary Slips & latest 1 month salary slip for  \\nGuara ntors  Balance Sheet & Profit & Loss A/c, Computation of Income - Last \\n2 years  Talati ’s/Gram Sevak/Village Revenue officer Certificate for previous two \\nyears income and Mamladaar ’s /Block Revenue officer certificate for last \\nyear’s \\nincome.  \\nb. Form 16 & ITR – last 1 years of Applicants &  \\nGuarantors(if any )  Income Tax Returns – last 2 years for Applicants, 26 AS ,  \\nTraces   \\nc. Copy of Employee identity Card provided by Employer  Business proof : Gomasta License,  Registration \\nCertificate, Service Tax  \\nRegistration, etc  Land revenue records – Form 6, 7/12, 8A ;  \\nd. Appointment  \\n/Confirmation  / Promotion /Increment letter  evidencing  \\nduration of employment  IT Assessment / Clearance Certificate, Income Tax Challans / TDS \\nCertificate (Form 16A) / Form 26 AS for  \\nincome d eclared in ITR.   \\ne. 6 months Bank A/c statement (Salary / Individual) or \\nAccount No if account is with BoB.  In Case of Applicants engaged in Business through\\n Partnership Firm/Private Ltd. Company:  12 months Bank A/c statement (Individual)  \\nf.  i. Firm ’s PAN c ard, Address Proof of Firm /  \\n                                                       Company    '),\n",
       " Document(metadata={'filename': 'Baroda Home Loan.pdf', 'page_no': 5.0}, page_content=' \\nMost Important Terms and Conditions:  All Documents Self –Attested By Applicant /Co -Applicant /Guarantor  \\nA) RESIDENT INDIAN:  \\nI. \\n1. Duly Filled and Signed Application form along with  three Photograph s  \\n2. Proof of Identity - PAN CARD (mandatory for loan application above Rs.10.00 lacs  \\n3. Driver ’s License / V oter ID / Passport / Aadhar Card  \\n4. Proof of Residence (Driver ’s License / Ration Card/ V oter ID / Passport / Aadhar Card  \\n/ Registered Rent Agreement)  \\n5. If any previous loan  then loan a/c statement for last 1 year along with sanction letter.  \\n( If loan from BoB, Account No / Cust Id required)  \\n6. Proof of assets held like LIC/NSC/KVP/MF/PROPERTY  \\n7. Assets and Liabilities statement  \\n8. ITR Verification report  \\n9. Additional Do cuments for (Applicants /Co - applicants whose income to be considered for eligibility)  \\nSalaried Individuals  Self-Employed Individuals / Professionals /Others  Farmers /agriculturist  \\na. Latest 3 months  Salary Slips & latest 1 month salary slip for  \\nGuara ntors  Balance Sheet & Profit & Loss A/c, Computation of Income - Last \\n2 years  Talati ’s/Gram Sevak/Village Revenue officer Certificate for previous two \\nyears income and Mamladaar ’s /Block Revenue officer certificate for last \\nyear’s \\nincome.  \\nb. Form 16 & ITR – last 1 years of Applicants &  \\nGuarantors(if any )  Income Tax Returns – last 2 years for Applicants, 26 AS ,  \\nTraces   \\nc. Copy of Employee identity Card provided by Employer  Business proof : Gomasta License,  Registration \\nCertificate, Service Tax  \\nRegistration, etc  Land revenue records – Form 6, 7/12, 8A ;  \\nd. Appointment  \\n/Confirmation  / Promotion /Increment letter  evidencing  \\nduration of employment  IT Assessment / Clearance Certificate, Income Tax Challans / TDS \\nCertificate (Form 16A) / Form 26 AS for  \\nincome d eclared in ITR.   \\ne. 6 months Bank A/c statement (Salary / Individual) or \\nAccount No if account is with BoB.  In Case of Applicants engaged in Business through\\n Partnership Firm/Private Ltd. Company:  12 months Bank A/c statement (Individual)  \\nf.  i. Firm ’s PAN c ard, Address Proof of Firm /  \\n                                                       Company    '),\n",
       " Document(metadata={'filename': 'Baroda Home Loan.pdf', 'page_no': 5.0}, page_content=' \\nMost Important Terms and Conditions:  All Documents Self –Attested By Applicant /Co -Applicant /Guarantor  \\nA) RESIDENT INDIAN:  \\nI. \\n1. Duly Filled and Signed Application form along with  three Photograph s  \\n2. Proof of Identity - PAN CARD (mandatory for loan application above Rs.10.00 lacs  \\n3. Driver ’s License / V oter ID / Passport / Aadhar Card  \\n4. Proof of Residence (Driver ’s License / Ration Card/ V oter ID / Passport / Aadhar Card  \\n/ Registered Rent Agreement)  \\n5. If any previous loan  then loan a/c statement for last 1 year along with sanction letter.  \\n( If loan from BoB, Account No / Cust Id required)  \\n6. Proof of assets held like LIC/NSC/KVP/MF/PROPERTY  \\n7. Assets and Liabilities statement  \\n8. ITR Verification report  \\n9. Additional Do cuments for (Applicants /Co - applicants whose income to be considered for eligibility)  \\nSalaried Individuals  Self-Employed Individuals / Professionals /Others  Farmers /agriculturist  \\na. Latest 3 months  Salary Slips & latest 1 month salary slip for  \\nGuara ntors  Balance Sheet & Profit & Loss A/c, Computation of Income - Last \\n2 years  Talati ’s/Gram Sevak/Village Revenue officer Certificate for previous two \\nyears income and Mamladaar ’s /Block Revenue officer certificate for last \\nyear’s \\nincome.  \\nb. Form 16 & ITR – last 1 years of Applicants &  \\nGuarantors(if any )  Income Tax Returns – last 2 years for Applicants, 26 AS ,  \\nTraces   \\nc. Copy of Employee identity Card provided by Employer  Business proof : Gomasta License,  Registration \\nCertificate, Service Tax  \\nRegistration, etc  Land revenue records – Form 6, 7/12, 8A ;  \\nd. Appointment  \\n/Confirmation  / Promotion /Increment letter  evidencing  \\nduration of employment  IT Assessment / Clearance Certificate, Income Tax Challans / TDS \\nCertificate (Form 16A) / Form 26 AS for  \\nincome d eclared in ITR.   \\ne. 6 months Bank A/c statement (Salary / Individual) or \\nAccount No if account is with BoB.  In Case of Applicants engaged in Business through\\n Partnership Firm/Private Ltd. Company:  12 months Bank A/c statement (Individual)  \\nf.  i. Firm ’s PAN c ard, Address Proof of Firm /  \\n                                                       Company    '),\n",
       " Document(metadata={'filename': 'Baroda Home Loan.pdf', 'page_no': 5.0}, page_content=' \\nMost Important Terms and Conditions:  All Documents Self –Attested By Applicant /Co -Applicant /Guarantor  \\nA) RESIDENT INDIAN:  \\nI. \\n1. Duly Filled and Signed Application form along with  three Photograph s  \\n2. Proof of Identity - PAN CARD (mandatory for loan application above Rs.10.00 lacs  \\n3. Driver ’s License / V oter ID / Passport / Aadhar Card  \\n4. Proof of Residence (Driver ’s License / Ration Card/ V oter ID / Passport / Aadhar Card  \\n/ Registered Rent Agreement)  \\n5. If any previous loan  then loan a/c statement for last 1 year along with sanction letter.  \\n( If loan from BoB, Account No / Cust Id required)  \\n6. Proof of assets held like LIC/NSC/KVP/MF/PROPERTY  \\n7. Assets and Liabilities statement  \\n8. ITR Verification report  \\n9. Additional Do cuments for (Applicants /Co - applicants whose income to be considered for eligibility)  \\nSalaried Individuals  Self-Employed Individuals / Professionals /Others  Farmers /agriculturist  \\na. Latest 3 months  Salary Slips & latest 1 month salary slip for  \\nGuara ntors  Balance Sheet & Profit & Loss A/c, Computation of Income - Last \\n2 years  Talati ’s/Gram Sevak/Village Revenue officer Certificate for previous two \\nyears income and Mamladaar ’s /Block Revenue officer certificate for last \\nyear’s \\nincome.  \\nb. Form 16 & ITR – last 1 years of Applicants &  \\nGuarantors(if any )  Income Tax Returns – last 2 years for Applicants, 26 AS ,  \\nTraces   \\nc. Copy of Employee identity Card provided by Employer  Business proof : Gomasta License,  Registration \\nCertificate, Service Tax  \\nRegistration, etc  Land revenue records – Form 6, 7/12, 8A ;  \\nd. Appointment  \\n/Confirmation  / Promotion /Increment letter  evidencing  \\nduration of employment  IT Assessment / Clearance Certificate, Income Tax Challans / TDS \\nCertificate (Form 16A) / Form 26 AS for  \\nincome d eclared in ITR.   \\ne. 6 months Bank A/c statement (Salary / Individual) or \\nAccount No if account is with BoB.  In Case of Applicants engaged in Business through\\n Partnership Firm/Private Ltd. Company:  12 months Bank A/c statement (Individual)  \\nf.  i. Firm ’s PAN c ard, Address Proof of Firm /  \\n                                                       Company    '),\n",
       " Document(metadata={'filename': 'ok.pdf', 'page_no': 2.0}, page_content=\"\\x7fEnhancing communication channels\\nThe existing systems used by DEWA include SAP, SharePoint, BMC for internal support, Avaya for Customer\\nService, and Smart Grid applications. Internal digital solutions like Smart Document and Smart Office have\\nmade communication and efficiency paperless and digital. These systems will be considered in the process\\nimprovement or implementation efforts.\\n4. User Experience:\\nThe main users of this system will be DEWA's internal employees and stakeholders within other government\\nentities. To enhance their interaction with the system, key features such as personalized interactions, easy\\naccess, inclusivity, and user-centered design principles will be implemented. The system will prioritize user\\nsatisfaction and accessibility to ensure a seamless and enjoyable user experience.\\n5. User Category:\\nThe system will primarily be used by DEWA's internal employees, including the executive vice presidents\\n(EVPs), vice presidents (VPs), senior management, and other relevant roles within the organization. Their\\nspecific needs and requirements from the system include access to real-time data, customizable reporting, and\\nintegration with existing tools. The system will be designed to meet their specific needs and provide them with\\nthe necessary tools and resources to perform their roles efficiently.\\n6. Integration:\\nThe new system will integrate with DEWA's existing systems and technologies, including SAP, SharePoint,\\nSmart Office, and Smart Document App. These integrations will enhance functionality and efficiency by\\nenabling data syncing, seamless information sharing, and automated data updates. Advanced authentication\\nmethods, such as Single Sign-On (SSO), will be implemented to enhance user experience and streamline\\noperations.\\n7. Dependency:\\nThere are critical dependencies for the success of this project, including the reliance on systems such as\\nSharePoint for content management, SAP for financial processes, and adherence to stringent security policies.\\nExternal vendor support will also be required to ensure uninterrupted service delivery. These dependencies will\\nimpact the project timeline and deliverables, making it crucial to address and manage them effectively to\\nensure smooth progress and timely delivery.\\n\"),\n",
       " Document(metadata={'filename': 'ok.pdf', 'page_no': 2.0}, page_content=\"\\x7fEnhancing communication channels\\nThe existing systems used by DEWA include SAP, SharePoint, BMC for internal support, Avaya for Customer\\nService, and Smart Grid applications. Internal digital solutions like Smart Document and Smart Office have\\nmade communication and efficiency paperless and digital. These systems will be considered in the process\\nimprovement or implementation efforts.\\n4. User Experience:\\nThe main users of this system will be DEWA's internal employees and stakeholders within other government\\nentities. To enhance their interaction with the system, key features such as personalized interactions, easy\\naccess, inclusivity, and user-centered design principles will be implemented. The system will prioritize user\\nsatisfaction and accessibility to ensure a seamless and enjoyable user experience.\\n5. User Category:\\nThe system will primarily be used by DEWA's internal employees, including the executive vice presidents\\n(EVPs), vice presidents (VPs), senior management, and other relevant roles within the organization. Their\\nspecific needs and requirements from the system include access to real-time data, customizable reporting, and\\nintegration with existing tools. The system will be designed to meet their specific needs and provide them with\\nthe necessary tools and resources to perform their roles efficiently.\\n6. Integration:\\nThe new system will integrate with DEWA's existing systems and technologies, including SAP, SharePoint,\\nSmart Office, and Smart Document App. These integrations will enhance functionality and efficiency by\\nenabling data syncing, seamless information sharing, and automated data updates. Advanced authentication\\nmethods, such as Single Sign-On (SSO), will be implemented to enhance user experience and streamline\\noperations.\\n7. Dependency:\\nThere are critical dependencies for the success of this project, including the reliance on systems such as\\nSharePoint for content management, SAP for financial processes, and adherence to stringent security policies.\\nExternal vendor support will also be required to ensure uninterrupted service delivery. These dependencies will\\nimpact the project timeline and deliverables, making it crucial to address and manage them effectively to\\nensure smooth progress and timely delivery.\\n\"),\n",
       " Document(metadata={'filename': 'ok.pdf', 'page_no': 2.0}, page_content=\"\\x7fEnhancing communication channels\\nThe existing systems used by DEWA include SAP, SharePoint, BMC for internal support, Avaya for Customer\\nService, and Smart Grid applications. Internal digital solutions like Smart Document and Smart Office have\\nmade communication and efficiency paperless and digital. These systems will be considered in the process\\nimprovement or implementation efforts.\\n4. User Experience:\\nThe main users of this system will be DEWA's internal employees and stakeholders within other government\\nentities. To enhance their interaction with the system, key features such as personalized interactions, easy\\naccess, inclusivity, and user-centered design principles will be implemented. The system will prioritize user\\nsatisfaction and accessibility to ensure a seamless and enjoyable user experience.\\n5. User Category:\\nThe system will primarily be used by DEWA's internal employees, including the executive vice presidents\\n(EVPs), vice presidents (VPs), senior management, and other relevant roles within the organization. Their\\nspecific needs and requirements from the system include access to real-time data, customizable reporting, and\\nintegration with existing tools. The system will be designed to meet their specific needs and provide them with\\nthe necessary tools and resources to perform their roles efficiently.\\n6. Integration:\\nThe new system will integrate with DEWA's existing systems and technologies, including SAP, SharePoint,\\nSmart Office, and Smart Document App. These integrations will enhance functionality and efficiency by\\nenabling data syncing, seamless information sharing, and automated data updates. Advanced authentication\\nmethods, such as Single Sign-On (SSO), will be implemented to enhance user experience and streamline\\noperations.\\n7. Dependency:\\nThere are critical dependencies for the success of this project, including the reliance on systems such as\\nSharePoint for content management, SAP for financial processes, and adherence to stringent security policies.\\nExternal vendor support will also be required to ensure uninterrupted service delivery. These dependencies will\\nimpact the project timeline and deliverables, making it crucial to address and manage them effectively to\\nensure smooth progress and timely delivery.\\n\"),\n",
       " Document(metadata={'filename': 'kmbot.pdf', 'page_no': 10.0}, page_content='\\x7fThey may require the ability to collaborate with other team members, participate in discussions, and share\\nupdates on ongoing projects.\\n\\x7fTeam members should have access rights limited to the specific category of documents and information related to\\ntheir tasks, ensuring data privacy and confidentiality.\\nIn summary, the user category for the DEWA portal includes executives, department managers, and team\\nmembers, each with unique needs and access rights. The portal aims to provide them with the necessary tools\\nand functionalities to perform their roles effectively and collaborate with other stakeholders to achieve\\norganizational goals.\\n Aspect\\n Description\\n '),\n",
       " Document(metadata={'filename': 'kmbot.pdf', 'page_no': 10.0}, page_content='\\x7fThey may require the ability to collaborate with other team members, participate in discussions, and share\\nupdates on ongoing projects.\\n\\x7fTeam members should have access rights limited to the specific category of documents and information related to\\ntheir tasks, ensuring data privacy and confidentiality.\\nIn summary, the user category for the DEWA portal includes executives, department managers, and team\\nmembers, each with unique needs and access rights. The portal aims to provide them with the necessary tools\\nand functionalities to perform their roles effectively and collaborate with other stakeholders to achieve\\norganizational goals.\\n Aspect\\n Description\\n '),\n",
       " Document(metadata={'filename': 'kmbot.pdf', 'page_no': 10.0}, page_content='\\x7fThey may require the ability to collaborate with other team members, participate in discussions, and share\\nupdates on ongoing projects.\\n\\x7fTeam members should have access rights limited to the specific category of documents and information related to\\ntheir tasks, ensuring data privacy and confidentiality.\\nIn summary, the user category for the DEWA portal includes executives, department managers, and team\\nmembers, each with unique needs and access rights. The portal aims to provide them with the necessary tools\\nand functionalities to perform their roles effectively and collaborate with other stakeholders to achieve\\norganizational goals.\\n Aspect\\n Description\\n '),\n",
       " Document(metadata={'filename': 'kmbot.pdf', 'page_no': 10.0}, page_content='\\x7fThey may require the ability to collaborate with other team members, participate in discussions, and share\\nupdates on ongoing projects.\\n\\x7fTeam members should have access rights limited to the specific category of documents and information related to\\ntheir tasks, ensuring data privacy and confidentiality.\\nIn summary, the user category for the DEWA portal includes executives, department managers, and team\\nmembers, each with unique needs and access rights. The portal aims to provide them with the necessary tools\\nand functionalities to perform their roles effectively and collaborate with other stakeholders to achieve\\norganizational goals.\\n Aspect\\n Description\\n '),\n",
       " Document(metadata={'filename': 'Baroda Home Loan.pdf', 'page_no': 4.0}, page_content='Processing Charges :  \\n1. For Takeover leads received through Non -DSA (Digital or Non -digital) – \\nNIL, subject to Login Fee of Rs.1,500/ - which is to be refunded on first \\ndisbursement.  \\n2. For Home Loan in approved projects (Digital or Non -digital):  \\n100% waiver in Processing charges, subject to recovery of out -of-pocket \\nexpenses of ₹3,500.00 + GST (Per Property)./p>  \\n3. Under Home Loan Scheme for Central/State Govt/PSUs employees – for \\nnon-DSA (including leads generated by DST) – \\nNIL, subject to Login Fee of Rs.1,500/ - which is to be refunded on first \\ndisbursement.  \\n4. For Other Home Loan lead sourced through Non -Digital Channel:  \\n100% waiver in Processing charges, subject to recovery of out -of-pocket \\nexpenses of ₹10,000.00 + GST (Per Property)  \\n5. For Home Loan leads sourced through Digital Channel:  \\n100% waiver in Processing charges, subject to recovery of out -of-pocket \\nexpenses of ₹5,000.00 + GST (Per Property) to ₹8,500.00 + GST (conditions \\napply)  \\n \\n \\n \\n \\n \\n \\n \\n \\n \\n \\n \\n \\n \\n \\nDocuments Required  '),\n",
       " Document(metadata={'filename': 'Baroda Home Loan.pdf', 'page_no': 4.0}, page_content='Processing Charges :  \\n1. For Takeover leads received through Non -DSA (Digital or Non -digital) – \\nNIL, subject to Login Fee of Rs.1,500/ - which is to be refunded on first \\ndisbursement.  \\n2. For Home Loan in approved projects (Digital or Non -digital):  \\n100% waiver in Processing charges, subject to recovery of out -of-pocket \\nexpenses of ₹3,500.00 + GST (Per Property)./p>  \\n3. Under Home Loan Scheme for Central/State Govt/PSUs employees – for \\nnon-DSA (including leads generated by DST) – \\nNIL, subject to Login Fee of Rs.1,500/ - which is to be refunded on first \\ndisbursement.  \\n4. For Other Home Loan lead sourced through Non -Digital Channel:  \\n100% waiver in Processing charges, subject to recovery of out -of-pocket \\nexpenses of ₹10,000.00 + GST (Per Property)  \\n5. For Home Loan leads sourced through Digital Channel:  \\n100% waiver in Processing charges, subject to recovery of out -of-pocket \\nexpenses of ₹5,000.00 + GST (Per Property) to ₹8,500.00 + GST (conditions \\napply)  \\n \\n \\n \\n \\n \\n \\n \\n \\n \\n \\n \\n \\n \\n \\nDocuments Required  '),\n",
       " Document(metadata={'filename': 'Baroda Home Loan.pdf', 'page_no': 4.0}, page_content='Processing Charges :  \\n1. For Takeover leads received through Non -DSA (Digital or Non -digital) – \\nNIL, subject to Login Fee of Rs.1,500/ - which is to be refunded on first \\ndisbursement.  \\n2. For Home Loan in approved projects (Digital or Non -digital):  \\n100% waiver in Processing charges, subject to recovery of out -of-pocket \\nexpenses of ₹3,500.00 + GST (Per Property)./p>  \\n3. Under Home Loan Scheme for Central/State Govt/PSUs employees – for \\nnon-DSA (including leads generated by DST) – \\nNIL, subject to Login Fee of Rs.1,500/ - which is to be refunded on first \\ndisbursement.  \\n4. For Other Home Loan lead sourced through Non -Digital Channel:  \\n100% waiver in Processing charges, subject to recovery of out -of-pocket \\nexpenses of ₹10,000.00 + GST (Per Property)  \\n5. For Home Loan leads sourced through Digital Channel:  \\n100% waiver in Processing charges, subject to recovery of out -of-pocket \\nexpenses of ₹5,000.00 + GST (Per Property) to ₹8,500.00 + GST (conditions \\napply)  \\n \\n \\n \\n \\n \\n \\n \\n \\n \\n \\n \\n \\n \\n \\nDocuments Required  '),\n",
       " Document(metadata={'filename': 'Baroda Home Loan.pdf', 'page_no': 4.0}, page_content='Processing Charges :  \\n1. For Takeover leads received through Non -DSA (Digital or Non -digital) – \\nNIL, subject to Login Fee of Rs.1,500/ - which is to be refunded on first \\ndisbursement.  \\n2. For Home Loan in approved projects (Digital or Non -digital):  \\n100% waiver in Processing charges, subject to recovery of out -of-pocket \\nexpenses of ₹3,500.00 + GST (Per Property)./p>  \\n3. Under Home Loan Scheme for Central/State Govt/PSUs employees – for \\nnon-DSA (including leads generated by DST) – \\nNIL, subject to Login Fee of Rs.1,500/ - which is to be refunded on first \\ndisbursement.  \\n4. For Other Home Loan lead sourced through Non -Digital Channel:  \\n100% waiver in Processing charges, subject to recovery of out -of-pocket \\nexpenses of ₹10,000.00 + GST (Per Property)  \\n5. For Home Loan leads sourced through Digital Channel:  \\n100% waiver in Processing charges, subject to recovery of out -of-pocket \\nexpenses of ₹5,000.00 + GST (Per Property) to ₹8,500.00 + GST (conditions \\napply)  \\n \\n \\n \\n \\n \\n \\n \\n \\n \\n \\n \\n \\n \\n \\nDocuments Required  '),\n",
       " Document(metadata={'filename': 'Baroda Home Loan.pdf', 'page_no': 4.0}, page_content='Processing Charges :  \\n1. For Takeover leads received through Non -DSA (Digital or Non -digital) – \\nNIL, subject to Login Fee of Rs.1,500/ - which is to be refunded on first \\ndisbursement.  \\n2. For Home Loan in approved projects (Digital or Non -digital):  \\n100% waiver in Processing charges, subject to recovery of out -of-pocket \\nexpenses of ₹3,500.00 + GST (Per Property)./p>  \\n3. Under Home Loan Scheme for Central/State Govt/PSUs employees – for \\nnon-DSA (including leads generated by DST) – \\nNIL, subject to Login Fee of Rs.1,500/ - which is to be refunded on first \\ndisbursement.  \\n4. For Other Home Loan lead sourced through Non -Digital Channel:  \\n100% waiver in Processing charges, subject to recovery of out -of-pocket \\nexpenses of ₹10,000.00 + GST (Per Property)  \\n5. For Home Loan leads sourced through Digital Channel:  \\n100% waiver in Processing charges, subject to recovery of out -of-pocket \\nexpenses of ₹5,000.00 + GST (Per Property) to ₹8,500.00 + GST (conditions \\napply)  \\n \\n \\n \\n \\n \\n \\n \\n \\n \\n \\n \\n \\n \\n \\nDocuments Required  '),\n",
       " Document(metadata={'filename': 'Baroda Home Loan.pdf', 'page_no': 4.0}, page_content='Processing Charges :  \\n1. For Takeover leads received through Non -DSA (Digital or Non -digital) – \\nNIL, subject to Login Fee of Rs.1,500/ - which is to be refunded on first \\ndisbursement.  \\n2. For Home Loan in approved projects (Digital or Non -digital):  \\n100% waiver in Processing charges, subject to recovery of out -of-pocket \\nexpenses of ₹3,500.00 + GST (Per Property)./p>  \\n3. Under Home Loan Scheme for Central/State Govt/PSUs employees – for \\nnon-DSA (including leads generated by DST) – \\nNIL, subject to Login Fee of Rs.1,500/ - which is to be refunded on first \\ndisbursement.  \\n4. For Other Home Loan lead sourced through Non -Digital Channel:  \\n100% waiver in Processing charges, subject to recovery of out -of-pocket \\nexpenses of ₹10,000.00 + GST (Per Property)  \\n5. For Home Loan leads sourced through Digital Channel:  \\n100% waiver in Processing charges, subject to recovery of out -of-pocket \\nexpenses of ₹5,000.00 + GST (Per Property) to ₹8,500.00 + GST (conditions \\napply)  \\n \\n \\n \\n \\n \\n \\n \\n \\n \\n \\n \\n \\n \\n \\nDocuments Required  '),\n",
       " Document(metadata={'filename': 'Baroda Home Loan.pdf', 'page_no': 4.0}, page_content='Processing Charges :  \\n1. For Takeover leads received through Non -DSA (Digital or Non -digital) – \\nNIL, subject to Login Fee of Rs.1,500/ - which is to be refunded on first \\ndisbursement.  \\n2. For Home Loan in approved projects (Digital or Non -digital):  \\n100% waiver in Processing charges, subject to recovery of out -of-pocket \\nexpenses of ₹3,500.00 + GST (Per Property)./p>  \\n3. Under Home Loan Scheme for Central/State Govt/PSUs employees – for \\nnon-DSA (including leads generated by DST) – \\nNIL, subject to Login Fee of Rs.1,500/ - which is to be refunded on first \\ndisbursement.  \\n4. For Other Home Loan lead sourced through Non -Digital Channel:  \\n100% waiver in Processing charges, subject to recovery of out -of-pocket \\nexpenses of ₹10,000.00 + GST (Per Property)  \\n5. For Home Loan leads sourced through Digital Channel:  \\n100% waiver in Processing charges, subject to recovery of out -of-pocket \\nexpenses of ₹5,000.00 + GST (Per Property) to ₹8,500.00 + GST (conditions \\napply)  \\n \\n \\n \\n \\n \\n \\n \\n \\n \\n \\n \\n \\n \\n \\nDocuments Required  '),\n",
       " Document(metadata={'filename': 'Baroda Home Loan.pdf', 'page_no': 4.0}, page_content='Processing Charges :  \\n1. For Takeover leads received through Non -DSA (Digital or Non -digital) – \\nNIL, subject to Login Fee of Rs.1,500/ - which is to be refunded on first \\ndisbursement.  \\n2. For Home Loan in approved projects (Digital or Non -digital):  \\n100% waiver in Processing charges, subject to recovery of out -of-pocket \\nexpenses of ₹3,500.00 + GST (Per Property)./p>  \\n3. Under Home Loan Scheme for Central/State Govt/PSUs employees – for \\nnon-DSA (including leads generated by DST) – \\nNIL, subject to Login Fee of Rs.1,500/ - which is to be refunded on first \\ndisbursement.  \\n4. For Other Home Loan lead sourced through Non -Digital Channel:  \\n100% waiver in Processing charges, subject to recovery of out -of-pocket \\nexpenses of ₹10,000.00 + GST (Per Property)  \\n5. For Home Loan leads sourced through Digital Channel:  \\n100% waiver in Processing charges, subject to recovery of out -of-pocket \\nexpenses of ₹5,000.00 + GST (Per Property) to ₹8,500.00 + GST (conditions \\napply)  \\n \\n \\n \\n \\n \\n \\n \\n \\n \\n \\n \\n \\n \\n \\nDocuments Required  '),\n",
       " Document(metadata={'filename': 'Baroda Home Loan.pdf', 'page_no': 4.0}, page_content='Processing Charges :  \\n1. For Takeover leads received through Non -DSA (Digital or Non -digital) – \\nNIL, subject to Login Fee of Rs.1,500/ - which is to be refunded on first \\ndisbursement.  \\n2. For Home Loan in approved projects (Digital or Non -digital):  \\n100% waiver in Processing charges, subject to recovery of out -of-pocket \\nexpenses of ₹3,500.00 + GST (Per Property)./p>  \\n3. Under Home Loan Scheme for Central/State Govt/PSUs employees – for \\nnon-DSA (including leads generated by DST) – \\nNIL, subject to Login Fee of Rs.1,500/ - which is to be refunded on first \\ndisbursement.  \\n4. For Other Home Loan lead sourced through Non -Digital Channel:  \\n100% waiver in Processing charges, subject to recovery of out -of-pocket \\nexpenses of ₹10,000.00 + GST (Per Property)  \\n5. For Home Loan leads sourced through Digital Channel:  \\n100% waiver in Processing charges, subject to recovery of out -of-pocket \\nexpenses of ₹5,000.00 + GST (Per Property) to ₹8,500.00 + GST (conditions \\napply)  \\n \\n \\n \\n \\n \\n \\n \\n \\n \\n \\n \\n \\n \\n \\nDocuments Required  '),\n",
       " Document(metadata={'filename': 'Baroda Home Loan.pdf', 'page_no': 4.0}, page_content='Processing Charges :  \\n1. For Takeover leads received through Non -DSA (Digital or Non -digital) – \\nNIL, subject to Login Fee of Rs.1,500/ - which is to be refunded on first \\ndisbursement.  \\n2. For Home Loan in approved projects (Digital or Non -digital):  \\n100% waiver in Processing charges, subject to recovery of out -of-pocket \\nexpenses of ₹3,500.00 + GST (Per Property)./p>  \\n3. Under Home Loan Scheme for Central/State Govt/PSUs employees – for \\nnon-DSA (including leads generated by DST) – \\nNIL, subject to Login Fee of Rs.1,500/ - which is to be refunded on first \\ndisbursement.  \\n4. For Other Home Loan lead sourced through Non -Digital Channel:  \\n100% waiver in Processing charges, subject to recovery of out -of-pocket \\nexpenses of ₹10,000.00 + GST (Per Property)  \\n5. For Home Loan leads sourced through Digital Channel:  \\n100% waiver in Processing charges, subject to recovery of out -of-pocket \\nexpenses of ₹5,000.00 + GST (Per Property) to ₹8,500.00 + GST (conditions \\napply)  \\n \\n \\n \\n \\n \\n \\n \\n \\n \\n \\n \\n \\n \\n \\nDocuments Required  '),\n",
       " Document(metadata={'filename': 'Baroda Home Loan.pdf', 'page_no': 4.0}, page_content='Processing Charges :  \\n1. For Takeover leads received through Non -DSA (Digital or Non -digital) – \\nNIL, subject to Login Fee of Rs.1,500/ - which is to be refunded on first \\ndisbursement.  \\n2. For Home Loan in approved projects (Digital or Non -digital):  \\n100% waiver in Processing charges, subject to recovery of out -of-pocket \\nexpenses of ₹3,500.00 + GST (Per Property)./p>  \\n3. Under Home Loan Scheme for Central/State Govt/PSUs employees – for \\nnon-DSA (including leads generated by DST) – \\nNIL, subject to Login Fee of Rs.1,500/ - which is to be refunded on first \\ndisbursement.  \\n4. For Other Home Loan lead sourced through Non -Digital Channel:  \\n100% waiver in Processing charges, subject to recovery of out -of-pocket \\nexpenses of ₹10,000.00 + GST (Per Property)  \\n5. For Home Loan leads sourced through Digital Channel:  \\n100% waiver in Processing charges, subject to recovery of out -of-pocket \\nexpenses of ₹5,000.00 + GST (Per Property) to ₹8,500.00 + GST (conditions \\napply)  \\n \\n \\n \\n \\n \\n \\n \\n \\n \\n \\n \\n \\n \\n \\nDocuments Required  '),\n",
       " Document(metadata={'filename': 'Baroda Home Loan.pdf', 'page_no': 4.0}, page_content='Processing Charges :  \\n1. For Takeover leads received through Non -DSA (Digital or Non -digital) – \\nNIL, subject to Login Fee of Rs.1,500/ - which is to be refunded on first \\ndisbursement.  \\n2. For Home Loan in approved projects (Digital or Non -digital):  \\n100% waiver in Processing charges, subject to recovery of out -of-pocket \\nexpenses of ₹3,500.00 + GST (Per Property)./p>  \\n3. Under Home Loan Scheme for Central/State Govt/PSUs employees – for \\nnon-DSA (including leads generated by DST) – \\nNIL, subject to Login Fee of Rs.1,500/ - which is to be refunded on first \\ndisbursement.  \\n4. For Other Home Loan lead sourced through Non -Digital Channel:  \\n100% waiver in Processing charges, subject to recovery of out -of-pocket \\nexpenses of ₹10,000.00 + GST (Per Property)  \\n5. For Home Loan leads sourced through Digital Channel:  \\n100% waiver in Processing charges, subject to recovery of out -of-pocket \\nexpenses of ₹5,000.00 + GST (Per Property) to ₹8,500.00 + GST (conditions \\napply)  \\n \\n \\n \\n \\n \\n \\n \\n \\n \\n \\n \\n \\n \\n \\nDocuments Required  '),\n",
       " Document(metadata={'filename': 'Baroda Home Loan.pdf', 'page_no': 4.0}, page_content='Processing Charges :  \\n1. For Takeover leads received through Non -DSA (Digital or Non -digital) – \\nNIL, subject to Login Fee of Rs.1,500/ - which is to be refunded on first \\ndisbursement.  \\n2. For Home Loan in approved projects (Digital or Non -digital):  \\n100% waiver in Processing charges, subject to recovery of out -of-pocket \\nexpenses of ₹3,500.00 + GST (Per Property)./p>  \\n3. Under Home Loan Scheme for Central/State Govt/PSUs employees – for \\nnon-DSA (including leads generated by DST) – \\nNIL, subject to Login Fee of Rs.1,500/ - which is to be refunded on first \\ndisbursement.  \\n4. For Other Home Loan lead sourced through Non -Digital Channel:  \\n100% waiver in Processing charges, subject to recovery of out -of-pocket \\nexpenses of ₹10,000.00 + GST (Per Property)  \\n5. For Home Loan leads sourced through Digital Channel:  \\n100% waiver in Processing charges, subject to recovery of out -of-pocket \\nexpenses of ₹5,000.00 + GST (Per Property) to ₹8,500.00 + GST (conditions \\napply)  \\n \\n \\n \\n \\n \\n \\n \\n \\n \\n \\n \\n \\n \\n \\nDocuments Required  '),\n",
       " Document(metadata={'filename': 'kmbot.pdf', 'page_no': 8.0}, page_content='User Experience\\nUser Experience (UX) is a critical aspect of any digital system or application as it directly impacts how users\\ninteract with the system and their overall satisfaction. For DEWA, ensuring a seamless and intuitive user\\nexperience is of utmost importance to align with its commitment to customer satisfaction and accessibility. The\\nfollowing features will be incorporated into the system to enhance user interaction:\\n\\x7fIntuitive navigation: The system will have a user-friendly interface with easily accessible menus and navigation\\noptions. Users will be able to find the required information or perform tasks efficiently without any confusion.\\n\\x7fEfficient question-answering system: The system will have a robust question-answering system that provides\\nquick and accurate responses to user queries. This will save time for both users and support staff.\\n\\x7fQuick access to relevant documents: Users will have quick access to relevant documents, such as policies,\\nprocedures, and guidelines, within the system. This will eliminate the need to search for information across multiple\\nplatforms, improving efficiency and productivity.\\nDEWA recognizes the importance of inclusivity and personalization in UX design. The system will prioritize\\naccessibility standards to ensure that users with diverse abilities can easily navigate and interact with the\\nsystem. Features such as adjustable font sizes, color contrast options, and screen reader compatibility will be\\nimplemented to cater to different user needs.\\nThe RBAC (Role-Based Access Control) model will be implemented to ensure authorized access to high-level\\ninformation within the system. This model will define user roles and their corresponding access rights,\\nsafeguarding sensitive data from unauthorized access. User roles can be customized based on job functions\\nand responsibilities, ensuring data privacy and security.\\nDEWA understands the significance of technological advancements in delivering quality services and\\nenhancing user experiences. The system will leverage cutting-edge technologies such as SAP, SharePoint,\\nBMC, Avaya, and Smart Grid applications to support its operations and offer seamless user experiences.\\nInternal digital solutions like Smart Document and Smart Office will also be utilized to streamline\\ncommunication and maximize efficiency, making DEWA a paperless and digital organization.\\nIn conclusion, DEWA is committed to prioritizing user experience in its digital systems by implementing intuitive\\nnavigation, efficient question-answering systems, quick access to relevant documents, and the RBAC model\\nfor authorized access. Through the integration of advanced technologies and digital solutions, DEWA aims to\\nprovide a seamless and personalized user experience to all staff and external partners.\\nUser Category\\nThe user category for the DEWA portal is defined as the target audience for the system. It primarily consists of\\ndifferent departments within the organization, each with specific needs related to their role and access rights.\\nThe portal aims to cater to these diverse user groups by providing them with the necessary tools and\\nfunctionalities to fulfill their tasks effectively and efficiently. The user category for the DEWA portal includes the\\nfollowing:\\n'),\n",
       " Document(metadata={'filename': 'kmbot.pdf', 'page_no': 8.0}, page_content='User Experience\\nUser Experience (UX) is a critical aspect of any digital system or application as it directly impacts how users\\ninteract with the system and their overall satisfaction. For DEWA, ensuring a seamless and intuitive user\\nexperience is of utmost importance to align with its commitment to customer satisfaction and accessibility. The\\nfollowing features will be incorporated into the system to enhance user interaction:\\n\\x7fIntuitive navigation: The system will have a user-friendly interface with easily accessible menus and navigation\\noptions. Users will be able to find the required information or perform tasks efficiently without any confusion.\\n\\x7fEfficient question-answering system: The system will have a robust question-answering system that provides\\nquick and accurate responses to user queries. This will save time for both users and support staff.\\n\\x7fQuick access to relevant documents: Users will have quick access to relevant documents, such as policies,\\nprocedures, and guidelines, within the system. This will eliminate the need to search for information across multiple\\nplatforms, improving efficiency and productivity.\\nDEWA recognizes the importance of inclusivity and personalization in UX design. The system will prioritize\\naccessibility standards to ensure that users with diverse abilities can easily navigate and interact with the\\nsystem. Features such as adjustable font sizes, color contrast options, and screen reader compatibility will be\\nimplemented to cater to different user needs.\\nThe RBAC (Role-Based Access Control) model will be implemented to ensure authorized access to high-level\\ninformation within the system. This model will define user roles and their corresponding access rights,\\nsafeguarding sensitive data from unauthorized access. User roles can be customized based on job functions\\nand responsibilities, ensuring data privacy and security.\\nDEWA understands the significance of technological advancements in delivering quality services and\\nenhancing user experiences. The system will leverage cutting-edge technologies such as SAP, SharePoint,\\nBMC, Avaya, and Smart Grid applications to support its operations and offer seamless user experiences.\\nInternal digital solutions like Smart Document and Smart Office will also be utilized to streamline\\ncommunication and maximize efficiency, making DEWA a paperless and digital organization.\\nIn conclusion, DEWA is committed to prioritizing user experience in its digital systems by implementing intuitive\\nnavigation, efficient question-answering systems, quick access to relevant documents, and the RBAC model\\nfor authorized access. Through the integration of advanced technologies and digital solutions, DEWA aims to\\nprovide a seamless and personalized user experience to all staff and external partners.\\nUser Category\\nThe user category for the DEWA portal is defined as the target audience for the system. It primarily consists of\\ndifferent departments within the organization, each with specific needs related to their role and access rights.\\nThe portal aims to cater to these diverse user groups by providing them with the necessary tools and\\nfunctionalities to fulfill their tasks effectively and efficiently. The user category for the DEWA portal includes the\\nfollowing:\\n'),\n",
       " Document(metadata={'filename': 'kmbot.pdf', 'page_no': 8.0}, page_content='User Experience\\nUser Experience (UX) is a critical aspect of any digital system or application as it directly impacts how users\\ninteract with the system and their overall satisfaction. For DEWA, ensuring a seamless and intuitive user\\nexperience is of utmost importance to align with its commitment to customer satisfaction and accessibility. The\\nfollowing features will be incorporated into the system to enhance user interaction:\\n\\x7fIntuitive navigation: The system will have a user-friendly interface with easily accessible menus and navigation\\noptions. Users will be able to find the required information or perform tasks efficiently without any confusion.\\n\\x7fEfficient question-answering system: The system will have a robust question-answering system that provides\\nquick and accurate responses to user queries. This will save time for both users and support staff.\\n\\x7fQuick access to relevant documents: Users will have quick access to relevant documents, such as policies,\\nprocedures, and guidelines, within the system. This will eliminate the need to search for information across multiple\\nplatforms, improving efficiency and productivity.\\nDEWA recognizes the importance of inclusivity and personalization in UX design. The system will prioritize\\naccessibility standards to ensure that users with diverse abilities can easily navigate and interact with the\\nsystem. Features such as adjustable font sizes, color contrast options, and screen reader compatibility will be\\nimplemented to cater to different user needs.\\nThe RBAC (Role-Based Access Control) model will be implemented to ensure authorized access to high-level\\ninformation within the system. This model will define user roles and their corresponding access rights,\\nsafeguarding sensitive data from unauthorized access. User roles can be customized based on job functions\\nand responsibilities, ensuring data privacy and security.\\nDEWA understands the significance of technological advancements in delivering quality services and\\nenhancing user experiences. The system will leverage cutting-edge technologies such as SAP, SharePoint,\\nBMC, Avaya, and Smart Grid applications to support its operations and offer seamless user experiences.\\nInternal digital solutions like Smart Document and Smart Office will also be utilized to streamline\\ncommunication and maximize efficiency, making DEWA a paperless and digital organization.\\nIn conclusion, DEWA is committed to prioritizing user experience in its digital systems by implementing intuitive\\nnavigation, efficient question-answering systems, quick access to relevant documents, and the RBAC model\\nfor authorized access. Through the integration of advanced technologies and digital solutions, DEWA aims to\\nprovide a seamless and personalized user experience to all staff and external partners.\\nUser Category\\nThe user category for the DEWA portal is defined as the target audience for the system. It primarily consists of\\ndifferent departments within the organization, each with specific needs related to their role and access rights.\\nThe portal aims to cater to these diverse user groups by providing them with the necessary tools and\\nfunctionalities to fulfill their tasks effectively and efficiently. The user category for the DEWA portal includes the\\nfollowing:\\n'),\n",
       " Document(metadata={'filename': 'kmbot.pdf', 'page_no': 8.0}, page_content='User Experience\\nUser Experience (UX) is a critical aspect of any digital system or application as it directly impacts how users\\ninteract with the system and their overall satisfaction. For DEWA, ensuring a seamless and intuitive user\\nexperience is of utmost importance to align with its commitment to customer satisfaction and accessibility. The\\nfollowing features will be incorporated into the system to enhance user interaction:\\n\\x7fIntuitive navigation: The system will have a user-friendly interface with easily accessible menus and navigation\\noptions. Users will be able to find the required information or perform tasks efficiently without any confusion.\\n\\x7fEfficient question-answering system: The system will have a robust question-answering system that provides\\nquick and accurate responses to user queries. This will save time for both users and support staff.\\n\\x7fQuick access to relevant documents: Users will have quick access to relevant documents, such as policies,\\nprocedures, and guidelines, within the system. This will eliminate the need to search for information across multiple\\nplatforms, improving efficiency and productivity.\\nDEWA recognizes the importance of inclusivity and personalization in UX design. The system will prioritize\\naccessibility standards to ensure that users with diverse abilities can easily navigate and interact with the\\nsystem. Features such as adjustable font sizes, color contrast options, and screen reader compatibility will be\\nimplemented to cater to different user needs.\\nThe RBAC (Role-Based Access Control) model will be implemented to ensure authorized access to high-level\\ninformation within the system. This model will define user roles and their corresponding access rights,\\nsafeguarding sensitive data from unauthorized access. User roles can be customized based on job functions\\nand responsibilities, ensuring data privacy and security.\\nDEWA understands the significance of technological advancements in delivering quality services and\\nenhancing user experiences. The system will leverage cutting-edge technologies such as SAP, SharePoint,\\nBMC, Avaya, and Smart Grid applications to support its operations and offer seamless user experiences.\\nInternal digital solutions like Smart Document and Smart Office will also be utilized to streamline\\ncommunication and maximize efficiency, making DEWA a paperless and digital organization.\\nIn conclusion, DEWA is committed to prioritizing user experience in its digital systems by implementing intuitive\\nnavigation, efficient question-answering systems, quick access to relevant documents, and the RBAC model\\nfor authorized access. Through the integration of advanced technologies and digital solutions, DEWA aims to\\nprovide a seamless and personalized user experience to all staff and external partners.\\nUser Category\\nThe user category for the DEWA portal is defined as the target audience for the system. It primarily consists of\\ndifferent departments within the organization, each with specific needs related to their role and access rights.\\nThe portal aims to cater to these diverse user groups by providing them with the necessary tools and\\nfunctionalities to fulfill their tasks effectively and efficiently. The user category for the DEWA portal includes the\\nfollowing:\\n'),\n",
       " Document(metadata={'filename': 'kmbot.pdf', 'page_no': 14.0}, page_content=\"\\x7fThe dashboard should provide insights into user behavior, such as the most frequently accessed documents, user\\nactivity patterns, and user engagement metrics.\\n\\x7fThese insights will help DEWA understand how users are interacting with the system and identify areas where the\\nuser experience can be enhanced.\\n\\x7fUser behavior analysis can also identify potential issues or bottlenecks in the system and provide valuable input\\nfor system improvements.\\nCompliance Reporting:\\n\\x7fThe dashboard should include features for compliance reporting, ensuring that DEWA adheres to regulatory\\nrequirements and industry standards.\\n\\x7fCompliance reports should provide an overview of DEWA's compliance status, highlighting any areas that require\\nattention or improvement.\\n\\x7fBy having compliance reporting capabilities within the dashboard, DEWA's leadership can easily assess the\\norganization's adherence to regulations and take proactive measures to address any compliance gaps.\\nActionable Intelligence:\\n\\x7fThe most important aspect of the dashboard is to provide DEWA's leadership with actionable intelligence that can\\ndrive informed decision-making.\\n\\x7fThe dashboard should enable users to drill down into the data, explore trends, and identify correlations and\\npatterns that can inform strategic initiatives.\\n\\x7fBy leveraging the insights generated from the dashboard, DEWA can make data-driven decisions that optimize\\noperations, improve customer satisfaction, and drive overall organizational success.\\nThe dashboard requirements outlined above will ensure that DEWA has a powerful tool for monitoring\\nperformance, identifying areas of improvement, and making informed decisions. By implementing a robust and\\nuser-friendly dashboard, DEWA can leverage the power of data analytics to enhance its services and\\ninfrastructure, ultimately benefiting its customers, stakeholders, and the wider community.\\nBusiness Value\\n\"),\n",
       " Document(metadata={'filename': 'kmbot.pdf', 'page_no': 14.0}, page_content=\"\\x7fThe dashboard should provide insights into user behavior, such as the most frequently accessed documents, user\\nactivity patterns, and user engagement metrics.\\n\\x7fThese insights will help DEWA understand how users are interacting with the system and identify areas where the\\nuser experience can be enhanced.\\n\\x7fUser behavior analysis can also identify potential issues or bottlenecks in the system and provide valuable input\\nfor system improvements.\\nCompliance Reporting:\\n\\x7fThe dashboard should include features for compliance reporting, ensuring that DEWA adheres to regulatory\\nrequirements and industry standards.\\n\\x7fCompliance reports should provide an overview of DEWA's compliance status, highlighting any areas that require\\nattention or improvement.\\n\\x7fBy having compliance reporting capabilities within the dashboard, DEWA's leadership can easily assess the\\norganization's adherence to regulations and take proactive measures to address any compliance gaps.\\nActionable Intelligence:\\n\\x7fThe most important aspect of the dashboard is to provide DEWA's leadership with actionable intelligence that can\\ndrive informed decision-making.\\n\\x7fThe dashboard should enable users to drill down into the data, explore trends, and identify correlations and\\npatterns that can inform strategic initiatives.\\n\\x7fBy leveraging the insights generated from the dashboard, DEWA can make data-driven decisions that optimize\\noperations, improve customer satisfaction, and drive overall organizational success.\\nThe dashboard requirements outlined above will ensure that DEWA has a powerful tool for monitoring\\nperformance, identifying areas of improvement, and making informed decisions. By implementing a robust and\\nuser-friendly dashboard, DEWA can leverage the power of data analytics to enhance its services and\\ninfrastructure, ultimately benefiting its customers, stakeholders, and the wider community.\\nBusiness Value\\n\"),\n",
       " Document(metadata={'filename': 'kmbot.pdf', 'page_no': 14.0}, page_content=\"\\x7fThe dashboard should provide insights into user behavior, such as the most frequently accessed documents, user\\nactivity patterns, and user engagement metrics.\\n\\x7fThese insights will help DEWA understand how users are interacting with the system and identify areas where the\\nuser experience can be enhanced.\\n\\x7fUser behavior analysis can also identify potential issues or bottlenecks in the system and provide valuable input\\nfor system improvements.\\nCompliance Reporting:\\n\\x7fThe dashboard should include features for compliance reporting, ensuring that DEWA adheres to regulatory\\nrequirements and industry standards.\\n\\x7fCompliance reports should provide an overview of DEWA's compliance status, highlighting any areas that require\\nattention or improvement.\\n\\x7fBy having compliance reporting capabilities within the dashboard, DEWA's leadership can easily assess the\\norganization's adherence to regulations and take proactive measures to address any compliance gaps.\\nActionable Intelligence:\\n\\x7fThe most important aspect of the dashboard is to provide DEWA's leadership with actionable intelligence that can\\ndrive informed decision-making.\\n\\x7fThe dashboard should enable users to drill down into the data, explore trends, and identify correlations and\\npatterns that can inform strategic initiatives.\\n\\x7fBy leveraging the insights generated from the dashboard, DEWA can make data-driven decisions that optimize\\noperations, improve customer satisfaction, and drive overall organizational success.\\nThe dashboard requirements outlined above will ensure that DEWA has a powerful tool for monitoring\\nperformance, identifying areas of improvement, and making informed decisions. By implementing a robust and\\nuser-friendly dashboard, DEWA can leverage the power of data analytics to enhance its services and\\ninfrastructure, ultimately benefiting its customers, stakeholders, and the wider community.\\nBusiness Value\\n\"),\n",
       " Document(metadata={'filename': 'kmbot.pdf', 'page_no': 14.0}, page_content=\"\\x7fThe dashboard should provide insights into user behavior, such as the most frequently accessed documents, user\\nactivity patterns, and user engagement metrics.\\n\\x7fThese insights will help DEWA understand how users are interacting with the system and identify areas where the\\nuser experience can be enhanced.\\n\\x7fUser behavior analysis can also identify potential issues or bottlenecks in the system and provide valuable input\\nfor system improvements.\\nCompliance Reporting:\\n\\x7fThe dashboard should include features for compliance reporting, ensuring that DEWA adheres to regulatory\\nrequirements and industry standards.\\n\\x7fCompliance reports should provide an overview of DEWA's compliance status, highlighting any areas that require\\nattention or improvement.\\n\\x7fBy having compliance reporting capabilities within the dashboard, DEWA's leadership can easily assess the\\norganization's adherence to regulations and take proactive measures to address any compliance gaps.\\nActionable Intelligence:\\n\\x7fThe most important aspect of the dashboard is to provide DEWA's leadership with actionable intelligence that can\\ndrive informed decision-making.\\n\\x7fThe dashboard should enable users to drill down into the data, explore trends, and identify correlations and\\npatterns that can inform strategic initiatives.\\n\\x7fBy leveraging the insights generated from the dashboard, DEWA can make data-driven decisions that optimize\\noperations, improve customer satisfaction, and drive overall organizational success.\\nThe dashboard requirements outlined above will ensure that DEWA has a powerful tool for monitoring\\nperformance, identifying areas of improvement, and making informed decisions. By implementing a robust and\\nuser-friendly dashboard, DEWA can leverage the power of data analytics to enhance its services and\\ninfrastructure, ultimately benefiting its customers, stakeholders, and the wider community.\\nBusiness Value\\n\"),\n",
       " Document(metadata={'filename': 'kmbot.pdf', 'page_no': 13.0}, page_content=\"Dashboard Requirements\\nDashboard Requirements underscore the importance of data-driven decision-making, with a Power BI-based\\ndashboard providing real-time insights into key metrics, user behavior, and compliance reporting, empowering\\nDEWA's leadership with actionable intelligence.\\nThe dashboard plays a critical role in monitoring performance and providing valuable insights for strategic\\ndecision-making. It will visualize important data related to system usage, popular documents, user analytics,\\nand other key metrics. The goal is to provide DEWA's leadership with real-time information that can assist in\\nidentifying any gaps or areas of improvement in the system.\\nTo meet the requirements of an effective dashboard, the following features and functionalities should be\\nconsidered:\\nData Visualization:\\n\\x7fThe dashboard should have interactive and visually appealing data visualizations that can effectively represent\\ncomplex data sets.\\n\\x7fVarious types of visualizations such as charts, graphs, and maps should be utilized to present different types of\\ndata.\\n\\x7fThe visualizations should provide a clear and intuitive representation of the data, making it easy for users to\\nunderstand and interpret.\\nReal-time Updates:\\n\\x7fThe dashboard should provide real-time updates, enabling users to monitor the latest information and trends.\\n\\x7fData should be automatically refreshed at regular intervals, ensuring that the dashboard reflects the most\\nup-to-date information.\\n\\x7fReal-time updates will enable DEWA's leadership to make timely decisions and respond quickly to any issues or\\nopportunities.\\nKey Metrics and KPIs:\\n\\x7fThe dashboard should highlight the key performance indicators (KPIs) and metrics that are crucial for evaluating\\nthe system's performance.\\n\\x7fThese metrics should be customizable, allowing users to prioritize and track the metrics that are most relevant to\\ntheir specific needs and objectives.\\n\\x7fBy monitoring key metrics and KPIs, DEWA's leadership can gain insights into the system's efficiency,\\neffectiveness, and overall performance.\\nUser Behavior Analysis:\\n\"),\n",
       " Document(metadata={'filename': 'kmbot.pdf', 'page_no': 13.0}, page_content=\"Dashboard Requirements\\nDashboard Requirements underscore the importance of data-driven decision-making, with a Power BI-based\\ndashboard providing real-time insights into key metrics, user behavior, and compliance reporting, empowering\\nDEWA's leadership with actionable intelligence.\\nThe dashboard plays a critical role in monitoring performance and providing valuable insights for strategic\\ndecision-making. It will visualize important data related to system usage, popular documents, user analytics,\\nand other key metrics. The goal is to provide DEWA's leadership with real-time information that can assist in\\nidentifying any gaps or areas of improvement in the system.\\nTo meet the requirements of an effective dashboard, the following features and functionalities should be\\nconsidered:\\nData Visualization:\\n\\x7fThe dashboard should have interactive and visually appealing data visualizations that can effectively represent\\ncomplex data sets.\\n\\x7fVarious types of visualizations such as charts, graphs, and maps should be utilized to present different types of\\ndata.\\n\\x7fThe visualizations should provide a clear and intuitive representation of the data, making it easy for users to\\nunderstand and interpret.\\nReal-time Updates:\\n\\x7fThe dashboard should provide real-time updates, enabling users to monitor the latest information and trends.\\n\\x7fData should be automatically refreshed at regular intervals, ensuring that the dashboard reflects the most\\nup-to-date information.\\n\\x7fReal-time updates will enable DEWA's leadership to make timely decisions and respond quickly to any issues or\\nopportunities.\\nKey Metrics and KPIs:\\n\\x7fThe dashboard should highlight the key performance indicators (KPIs) and metrics that are crucial for evaluating\\nthe system's performance.\\n\\x7fThese metrics should be customizable, allowing users to prioritize and track the metrics that are most relevant to\\ntheir specific needs and objectives.\\n\\x7fBy monitoring key metrics and KPIs, DEWA's leadership can gain insights into the system's efficiency,\\neffectiveness, and overall performance.\\nUser Behavior Analysis:\\n\"),\n",
       " Document(metadata={'filename': 'kmbot.pdf', 'page_no': 13.0}, page_content=\"Dashboard Requirements\\nDashboard Requirements underscore the importance of data-driven decision-making, with a Power BI-based\\ndashboard providing real-time insights into key metrics, user behavior, and compliance reporting, empowering\\nDEWA's leadership with actionable intelligence.\\nThe dashboard plays a critical role in monitoring performance and providing valuable insights for strategic\\ndecision-making. It will visualize important data related to system usage, popular documents, user analytics,\\nand other key metrics. The goal is to provide DEWA's leadership with real-time information that can assist in\\nidentifying any gaps or areas of improvement in the system.\\nTo meet the requirements of an effective dashboard, the following features and functionalities should be\\nconsidered:\\nData Visualization:\\n\\x7fThe dashboard should have interactive and visually appealing data visualizations that can effectively represent\\ncomplex data sets.\\n\\x7fVarious types of visualizations such as charts, graphs, and maps should be utilized to present different types of\\ndata.\\n\\x7fThe visualizations should provide a clear and intuitive representation of the data, making it easy for users to\\nunderstand and interpret.\\nReal-time Updates:\\n\\x7fThe dashboard should provide real-time updates, enabling users to monitor the latest information and trends.\\n\\x7fData should be automatically refreshed at regular intervals, ensuring that the dashboard reflects the most\\nup-to-date information.\\n\\x7fReal-time updates will enable DEWA's leadership to make timely decisions and respond quickly to any issues or\\nopportunities.\\nKey Metrics and KPIs:\\n\\x7fThe dashboard should highlight the key performance indicators (KPIs) and metrics that are crucial for evaluating\\nthe system's performance.\\n\\x7fThese metrics should be customizable, allowing users to prioritize and track the metrics that are most relevant to\\ntheir specific needs and objectives.\\n\\x7fBy monitoring key metrics and KPIs, DEWA's leadership can gain insights into the system's efficiency,\\neffectiveness, and overall performance.\\nUser Behavior Analysis:\\n\"),\n",
       " Document(metadata={'filename': 'kmbot.pdf', 'page_no': 13.0}, page_content=\"Dashboard Requirements\\nDashboard Requirements underscore the importance of data-driven decision-making, with a Power BI-based\\ndashboard providing real-time insights into key metrics, user behavior, and compliance reporting, empowering\\nDEWA's leadership with actionable intelligence.\\nThe dashboard plays a critical role in monitoring performance and providing valuable insights for strategic\\ndecision-making. It will visualize important data related to system usage, popular documents, user analytics,\\nand other key metrics. The goal is to provide DEWA's leadership with real-time information that can assist in\\nidentifying any gaps or areas of improvement in the system.\\nTo meet the requirements of an effective dashboard, the following features and functionalities should be\\nconsidered:\\nData Visualization:\\n\\x7fThe dashboard should have interactive and visually appealing data visualizations that can effectively represent\\ncomplex data sets.\\n\\x7fVarious types of visualizations such as charts, graphs, and maps should be utilized to present different types of\\ndata.\\n\\x7fThe visualizations should provide a clear and intuitive representation of the data, making it easy for users to\\nunderstand and interpret.\\nReal-time Updates:\\n\\x7fThe dashboard should provide real-time updates, enabling users to monitor the latest information and trends.\\n\\x7fData should be automatically refreshed at regular intervals, ensuring that the dashboard reflects the most\\nup-to-date information.\\n\\x7fReal-time updates will enable DEWA's leadership to make timely decisions and respond quickly to any issues or\\nopportunities.\\nKey Metrics and KPIs:\\n\\x7fThe dashboard should highlight the key performance indicators (KPIs) and metrics that are crucial for evaluating\\nthe system's performance.\\n\\x7fThese metrics should be customizable, allowing users to prioritize and track the metrics that are most relevant to\\ntheir specific needs and objectives.\\n\\x7fBy monitoring key metrics and KPIs, DEWA's leadership can gain insights into the system's efficiency,\\neffectiveness, and overall performance.\\nUser Behavior Analysis:\\n\"),\n",
       " Document(metadata={'filename': 'ok.pdf', 'page_no': 3.0}, page_content=\"8. Dashboard Requirements:\\nThe analytics and reporting implemented will provide specific types of analytics and reporting, such as\\nreal-time insights into key metrics, user behavior, and compliance reporting. The data will be visualized and\\npresented to the users through Power BI-based dashboards. These analytics will support strategic decisions\\nrelated to various aspects of DEWA's operations, including service quality, sustainability, innovation, and\\noperational efficiency.\\n9. Business Value:\\nThe new system will provide the following business value to DEWA:\\n Business Value\\n Explanation\\n \\nOperational Efficiency\\nThe system will streamline processes and automate manual\\ntasks, resulting in increased efficiency and productivity.\\nInnovation\\nThe system will foster innovation by providing access to\\nreal-time data and customizable reporting, allowing for\\ndata-driven decision-making.\\nCustomer Satisfaction\\nThe system will improve customer satisfaction by offering\\npersonalized interactions, easy access, and user-centered\\ndesign principles.\\nSustainability\\nThe system will contribute to DEWA's sustainability goals by\\nenabling better resource management and reducing\\nenvironmental impact.\\n10. Business Owner:\\nThe business owner of this project is Dudukanta Shashidhar Reddy. As the business owner, their\\nresponsibilities include providing clear project objectives, aligning resources, monitoring progress, and\\nensuring the project's success within the defined timeline. They will collaborate with other stakeholders, make\\nkey decisions, and address any challenges or issues that arise during the project.\\n\"),\n",
       " Document(metadata={'filename': 'ok.pdf', 'page_no': 3.0}, page_content=\"8. Dashboard Requirements:\\nThe analytics and reporting implemented will provide specific types of analytics and reporting, such as\\nreal-time insights into key metrics, user behavior, and compliance reporting. The data will be visualized and\\npresented to the users through Power BI-based dashboards. These analytics will support strategic decisions\\nrelated to various aspects of DEWA's operations, including service quality, sustainability, innovation, and\\noperational efficiency.\\n9. Business Value:\\nThe new system will provide the following business value to DEWA:\\n Business Value\\n Explanation\\n \\nOperational Efficiency\\nThe system will streamline processes and automate manual\\ntasks, resulting in increased efficiency and productivity.\\nInnovation\\nThe system will foster innovation by providing access to\\nreal-time data and customizable reporting, allowing for\\ndata-driven decision-making.\\nCustomer Satisfaction\\nThe system will improve customer satisfaction by offering\\npersonalized interactions, easy access, and user-centered\\ndesign principles.\\nSustainability\\nThe system will contribute to DEWA's sustainability goals by\\nenabling better resource management and reducing\\nenvironmental impact.\\n10. Business Owner:\\nThe business owner of this project is Dudukanta Shashidhar Reddy. As the business owner, their\\nresponsibilities include providing clear project objectives, aligning resources, monitoring progress, and\\nensuring the project's success within the defined timeline. They will collaborate with other stakeholders, make\\nkey decisions, and address any challenges or issues that arise during the project.\\n\"),\n",
       " Document(metadata={'filename': 'ok.pdf', 'page_no': 3.0}, page_content=\"8. Dashboard Requirements:\\nThe analytics and reporting implemented will provide specific types of analytics and reporting, such as\\nreal-time insights into key metrics, user behavior, and compliance reporting. The data will be visualized and\\npresented to the users through Power BI-based dashboards. These analytics will support strategic decisions\\nrelated to various aspects of DEWA's operations, including service quality, sustainability, innovation, and\\noperational efficiency.\\n9. Business Value:\\nThe new system will provide the following business value to DEWA:\\n Business Value\\n Explanation\\n \\nOperational Efficiency\\nThe system will streamline processes and automate manual\\ntasks, resulting in increased efficiency and productivity.\\nInnovation\\nThe system will foster innovation by providing access to\\nreal-time data and customizable reporting, allowing for\\ndata-driven decision-making.\\nCustomer Satisfaction\\nThe system will improve customer satisfaction by offering\\npersonalized interactions, easy access, and user-centered\\ndesign principles.\\nSustainability\\nThe system will contribute to DEWA's sustainability goals by\\nenabling better resource management and reducing\\nenvironmental impact.\\n10. Business Owner:\\nThe business owner of this project is Dudukanta Shashidhar Reddy. As the business owner, their\\nresponsibilities include providing clear project objectives, aligning resources, monitoring progress, and\\nensuring the project's success within the defined timeline. They will collaborate with other stakeholders, make\\nkey decisions, and address any challenges or issues that arise during the project.\\n\"),\n",
       " Document(metadata={'filename': 'Baroda Home Loan.pdf', 'page_no': 6.0}, page_content='Target Group  \\n\\uf0b7 Resident Indians  \\n\\uf0b7 Non-resident Indians (NRIs) holding an Indian passport or Persons of \\nIndian origin (PIOs) holding a foreign passport or overseas citizens of \\nIndia (OCI).   \\n\\uf0b7 Staff members (availing under public scheme)  \\n \\nEligibility of Borrower(s)  \\n\\uf0b7 Individuals - singly or jointly.  \\n\\uf0b7 HUFs are not el igible.  \\n \\nResident Indian  \\nApplicant/co -applicant(s), whose income are considered for eligibility, should \\nbe employed/engaged in business/profession for a minimum period of 1 year \\n(for salaried) and/or 2 years (for non -salaried).  \\nBreak  in service, if any, can be allowed up to a maximum period of 3 months.  \\n \\nNRI/PIO/OCI  \\n\\uf0b7 Applicant/co -applicant(s), whose income are considered for eligibility, \\nshould be having a regular job abroad in a reputed Indian/foreign \\ncompany, organization or governm ent department holding a valid job \\ncontract/work permit for the minimum past 2 years.  \\nOR \\nShould be employed/self -employed or having a business unit and \\nstaying abroad at least for 2 years.  \\n\\uf0b7 Applicant/co -applicant(s), whose income is considered for eligibili ty, \\nshould have minimum gross annual income equivalent to Rs. 5 lakhs \\nper annum. If the applicant/co -applicant(s), whose income is considered \\nfor eligibility includes NRI, a minimum Gross Annual Income of Rs. 5 \\nlakhs (income of applicant/co -applicant toget her) can be considered for \\nthis criteria.  \\n \\nPerson of Indian Origin (PIO) is specified as under  \\nA citizen of any country other than Bangladesh/Pakistan/Sri \\nLanka/Afghanistan/China/Iran/Nepal/Bhutan if – \\n\\uf0b7 He at any time held Indian passport or  '),\n",
       " Document(metadata={'filename': 'Baroda Home Loan.pdf', 'page_no': 6.0}, page_content='Target Group  \\n\\uf0b7 Resident Indians  \\n\\uf0b7 Non-resident Indians (NRIs) holding an Indian passport or Persons of \\nIndian origin (PIOs) holding a foreign passport or overseas citizens of \\nIndia (OCI).   \\n\\uf0b7 Staff members (availing under public scheme)  \\n \\nEligibility of Borrower(s)  \\n\\uf0b7 Individuals - singly or jointly.  \\n\\uf0b7 HUFs are not el igible.  \\n \\nResident Indian  \\nApplicant/co -applicant(s), whose income are considered for eligibility, should \\nbe employed/engaged in business/profession for a minimum period of 1 year \\n(for salaried) and/or 2 years (for non -salaried).  \\nBreak  in service, if any, can be allowed up to a maximum period of 3 months.  \\n \\nNRI/PIO/OCI  \\n\\uf0b7 Applicant/co -applicant(s), whose income are considered for eligibility, \\nshould be having a regular job abroad in a reputed Indian/foreign \\ncompany, organization or governm ent department holding a valid job \\ncontract/work permit for the minimum past 2 years.  \\nOR \\nShould be employed/self -employed or having a business unit and \\nstaying abroad at least for 2 years.  \\n\\uf0b7 Applicant/co -applicant(s), whose income is considered for eligibili ty, \\nshould have minimum gross annual income equivalent to Rs. 5 lakhs \\nper annum. If the applicant/co -applicant(s), whose income is considered \\nfor eligibility includes NRI, a minimum Gross Annual Income of Rs. 5 \\nlakhs (income of applicant/co -applicant toget her) can be considered for \\nthis criteria.  \\n \\nPerson of Indian Origin (PIO) is specified as under  \\nA citizen of any country other than Bangladesh/Pakistan/Sri \\nLanka/Afghanistan/China/Iran/Nepal/Bhutan if – \\n\\uf0b7 He at any time held Indian passport or  '),\n",
       " Document(metadata={'filename': 'Baroda Home Loan.pdf', 'page_no': 6.0}, page_content='Target Group  \\n\\uf0b7 Resident Indians  \\n\\uf0b7 Non-resident Indians (NRIs) holding an Indian passport or Persons of \\nIndian origin (PIOs) holding a foreign passport or overseas citizens of \\nIndia (OCI).   \\n\\uf0b7 Staff members (availing under public scheme)  \\n \\nEligibility of Borrower(s)  \\n\\uf0b7 Individuals - singly or jointly.  \\n\\uf0b7 HUFs are not el igible.  \\n \\nResident Indian  \\nApplicant/co -applicant(s), whose income are considered for eligibility, should \\nbe employed/engaged in business/profession for a minimum period of 1 year \\n(for salaried) and/or 2 years (for non -salaried).  \\nBreak  in service, if any, can be allowed up to a maximum period of 3 months.  \\n \\nNRI/PIO/OCI  \\n\\uf0b7 Applicant/co -applicant(s), whose income are considered for eligibility, \\nshould be having a regular job abroad in a reputed Indian/foreign \\ncompany, organization or governm ent department holding a valid job \\ncontract/work permit for the minimum past 2 years.  \\nOR \\nShould be employed/self -employed or having a business unit and \\nstaying abroad at least for 2 years.  \\n\\uf0b7 Applicant/co -applicant(s), whose income is considered for eligibili ty, \\nshould have minimum gross annual income equivalent to Rs. 5 lakhs \\nper annum. If the applicant/co -applicant(s), whose income is considered \\nfor eligibility includes NRI, a minimum Gross Annual Income of Rs. 5 \\nlakhs (income of applicant/co -applicant toget her) can be considered for \\nthis criteria.  \\n \\nPerson of Indian Origin (PIO) is specified as under  \\nA citizen of any country other than Bangladesh/Pakistan/Sri \\nLanka/Afghanistan/China/Iran/Nepal/Bhutan if – \\n\\uf0b7 He at any time held Indian passport or  ')]"
      ]
     },
     "execution_count": 34,
     "metadata": {},
     "output_type": "execute_result"
    }
   ],
   "source": [
    "docs"
   ]
  },
  {
   "cell_type": "code",
   "execution_count": 1,
   "metadata": {},
   "outputs": [
    {
     "name": "stdout",
     "output_type": "stream",
     "text": [
      "Requirement already satisfied: camelot-py[cv] in c:\\users\\dudukuntasashidharre\\appdata\\local\\programs\\python\\python310\\lib\\site-packages (0.9.0)Note: you may need to restart the kernel to use updated packages.\n",
      "\n",
      "Requirement already satisfied: ghostscript in c:\\users\\dudukuntasashidharre\\appdata\\local\\programs\\python\\python310\\lib\\site-packages (0.7)\n",
      "Requirement already satisfied: chardet>=3.0.4 in c:\\users\\dudukuntasashidharre\\appdata\\local\\programs\\python\\python310\\lib\\site-packages (from camelot-py[cv]) (5.2.0)\n",
      "Requirement already satisfied: pdfminer.six>=20200726 in c:\\users\\dudukuntasashidharre\\appdata\\local\\programs\\python\\python310\\lib\\site-packages (from camelot-py[cv]) (20240706)\n",
      "Requirement already satisfied: pandas>=0.23.4 in c:\\users\\dudukuntasashidharre\\appdata\\local\\programs\\python\\python310\\lib\\site-packages (from camelot-py[cv]) (2.2.2)\n",
      "Requirement already satisfied: PyPDF2>=1.26.0 in c:\\users\\dudukuntasashidharre\\appdata\\local\\programs\\python\\python310\\lib\\site-packages (from camelot-py[cv]) (3.0.1)\n",
      "Requirement already satisfied: openpyxl>=2.5.8 in c:\\users\\dudukuntasashidharre\\appdata\\local\\programs\\python\\python310\\lib\\site-packages (from camelot-py[cv]) (3.1.3)\n",
      "Requirement already satisfied: numpy>=1.13.3 in c:\\users\\dudukuntasashidharre\\appdata\\local\\programs\\python\\python310\\lib\\site-packages (from camelot-py[cv]) (1.26.4)\n",
      "Requirement already satisfied: click>=6.7 in c:\\users\\dudukuntasashidharre\\appdata\\local\\programs\\python\\python310\\lib\\site-packages (from camelot-py[cv]) (8.1.7)\n",
      "Requirement already satisfied: opencv-python>=3.4.2.17 in c:\\users\\dudukuntasashidharre\\appdata\\local\\programs\\python\\python310\\lib\\site-packages (from camelot-py[cv]) (4.10.0.84)\n",
      "Requirement already satisfied: setuptools>=38.6.0 in c:\\users\\dudukuntasashidharre\\appdata\\local\\programs\\python\\python310\\lib\\site-packages (from ghostscript) (57.4.0)\n",
      "Requirement already satisfied: colorama in c:\\users\\dudukuntasashidharre\\appdata\\roaming\\python\\python310\\site-packages (from click>=6.7->camelot-py[cv]) (0.4.6)\n",
      "Requirement already satisfied: et-xmlfile in c:\\users\\dudukuntasashidharre\\appdata\\local\\programs\\python\\python310\\lib\\site-packages (from openpyxl>=2.5.8->camelot-py[cv]) (1.1.0)\n",
      "Requirement already satisfied: python-dateutil>=2.8.2 in c:\\users\\dudukuntasashidharre\\appdata\\roaming\\python\\python310\\site-packages (from pandas>=0.23.4->camelot-py[cv]) (2.9.0.post0)\n",
      "Requirement already satisfied: pytz>=2020.1 in c:\\users\\dudukuntasashidharre\\appdata\\local\\programs\\python\\python310\\lib\\site-packages (from pandas>=0.23.4->camelot-py[cv]) (2024.1)\n",
      "Requirement already satisfied: tzdata>=2022.7 in c:\\users\\dudukuntasashidharre\\appdata\\local\\programs\\python\\python310\\lib\\site-packages (from pandas>=0.23.4->camelot-py[cv]) (2024.1)\n",
      "Requirement already satisfied: charset-normalizer>=2.0.0 in c:\\users\\dudukuntasashidharre\\appdata\\local\\programs\\python\\python310\\lib\\site-packages (from pdfminer.six>=20200726->camelot-py[cv]) (3.3.2)\n",
      "Requirement already satisfied: cryptography>=36.0.0 in c:\\users\\dudukuntasashidharre\\appdata\\local\\programs\\python\\python310\\lib\\site-packages (from pdfminer.six>=20200726->camelot-py[cv]) (42.0.7)\n",
      "Requirement already satisfied: cffi>=1.12 in c:\\users\\dudukuntasashidharre\\appdata\\local\\programs\\python\\python310\\lib\\site-packages (from cryptography>=36.0.0->pdfminer.six>=20200726->camelot-py[cv]) (1.16.0)\n",
      "Requirement already satisfied: pycparser in c:\\users\\dudukuntasashidharre\\appdata\\local\\programs\\python\\python310\\lib\\site-packages (from cffi>=1.12->cryptography>=36.0.0->pdfminer.six>=20200726->camelot-py[cv]) (2.21)\n",
      "Requirement already satisfied: six>=1.5 in c:\\users\\dudukuntasashidharre\\appdata\\roaming\\python\\python310\\site-packages (from python-dateutil>=2.8.2->pandas>=0.23.4->camelot-py[cv]) (1.16.0)\n"
     ]
    },
    {
     "name": "stderr",
     "output_type": "stream",
     "text": [
      "WARNING: You are using pip version 21.2.3; however, version 24.2 is available.\n",
      "You should consider upgrading via the 'c:\\Users\\DudukuntaSashidharRe\\AppData\\Local\\Programs\\Python\\Python310\\python.exe -m pip install --upgrade pip' command.\n"
     ]
    }
   ],
   "source": [
    "%pip install camelot-py[cv] ghostscript"
   ]
  },
  {
   "cell_type": "code",
   "execution_count": 2,
   "metadata": {},
   "outputs": [
    {
     "ename": "DeprecationError",
     "evalue": "PdfFileReader is deprecated and was removed in PyPDF2 3.0.0. Use PdfReader instead.",
     "output_type": "error",
     "traceback": [
      "\u001b[1;31m---------------------------------------------------------------------------\u001b[0m",
      "\u001b[1;31mDeprecationError\u001b[0m                          Traceback (most recent call last)",
      "Cell \u001b[1;32mIn[2], line 7\u001b[0m\n\u001b[0;32m      4\u001b[0m pdf_file \u001b[38;5;241m=\u001b[39m \u001b[38;5;124m\"\u001b[39m\u001b[38;5;124mfinancial_document.pdf\u001b[39m\u001b[38;5;124m\"\u001b[39m\n\u001b[0;32m      6\u001b[0m \u001b[38;5;66;03m# Extract tables from the PDF\u001b[39;00m\n\u001b[1;32m----> 7\u001b[0m tables \u001b[38;5;241m=\u001b[39m \u001b[43mcamelot\u001b[49m\u001b[38;5;241;43m.\u001b[39;49m\u001b[43mread_pdf\u001b[49m\u001b[43m(\u001b[49m\u001b[43mpdf_file\u001b[49m\u001b[43m,\u001b[49m\u001b[43m \u001b[49m\u001b[43mpages\u001b[49m\u001b[38;5;241;43m=\u001b[39;49m\u001b[38;5;124;43m'\u001b[39;49m\u001b[38;5;124;43mall\u001b[39;49m\u001b[38;5;124;43m'\u001b[39;49m\u001b[43m)\u001b[49m\n\u001b[0;32m      9\u001b[0m \u001b[38;5;66;03m# Print the number of tables found\u001b[39;00m\n\u001b[0;32m     10\u001b[0m \u001b[38;5;28mprint\u001b[39m(\u001b[38;5;124mf\u001b[39m\u001b[38;5;124m\"\u001b[39m\u001b[38;5;124mTotal tables found: \u001b[39m\u001b[38;5;132;01m{\u001b[39;00m\u001b[38;5;28mlen\u001b[39m(tables)\u001b[38;5;132;01m}\u001b[39;00m\u001b[38;5;124m\"\u001b[39m)\n",
      "File \u001b[1;32mc:\\Users\\DudukuntaSashidharRe\\AppData\\Local\\Programs\\Python\\Python310\\lib\\site-packages\\camelot\\io.py:111\u001b[0m, in \u001b[0;36mread_pdf\u001b[1;34m(filepath, pages, password, flavor, suppress_stdout, layout_kwargs, **kwargs)\u001b[0m\n\u001b[0;32m    108\u001b[0m     warnings\u001b[38;5;241m.\u001b[39msimplefilter(\u001b[38;5;124m\"\u001b[39m\u001b[38;5;124mignore\u001b[39m\u001b[38;5;124m\"\u001b[39m)\n\u001b[0;32m    110\u001b[0m validate_input(kwargs, flavor\u001b[38;5;241m=\u001b[39mflavor)\n\u001b[1;32m--> 111\u001b[0m p \u001b[38;5;241m=\u001b[39m \u001b[43mPDFHandler\u001b[49m\u001b[43m(\u001b[49m\u001b[43mfilepath\u001b[49m\u001b[43m,\u001b[49m\u001b[43m \u001b[49m\u001b[43mpages\u001b[49m\u001b[38;5;241;43m=\u001b[39;49m\u001b[43mpages\u001b[49m\u001b[43m,\u001b[49m\u001b[43m \u001b[49m\u001b[43mpassword\u001b[49m\u001b[38;5;241;43m=\u001b[39;49m\u001b[43mpassword\u001b[49m\u001b[43m)\u001b[49m\n\u001b[0;32m    112\u001b[0m kwargs \u001b[38;5;241m=\u001b[39m remove_extra(kwargs, flavor\u001b[38;5;241m=\u001b[39mflavor)\n\u001b[0;32m    113\u001b[0m tables \u001b[38;5;241m=\u001b[39m p\u001b[38;5;241m.\u001b[39mparse(\n\u001b[0;32m    114\u001b[0m     flavor\u001b[38;5;241m=\u001b[39mflavor,\n\u001b[0;32m    115\u001b[0m     suppress_stdout\u001b[38;5;241m=\u001b[39msuppress_stdout,\n\u001b[0;32m    116\u001b[0m     layout_kwargs\u001b[38;5;241m=\u001b[39mlayout_kwargs,\n\u001b[0;32m    117\u001b[0m     \u001b[38;5;241m*\u001b[39m\u001b[38;5;241m*\u001b[39mkwargs\n\u001b[0;32m    118\u001b[0m )\n",
      "File \u001b[1;32mc:\\Users\\DudukuntaSashidharRe\\AppData\\Local\\Programs\\Python\\Python310\\lib\\site-packages\\camelot\\handlers.py:50\u001b[0m, in \u001b[0;36mPDFHandler.__init__\u001b[1;34m(self, filepath, pages, password)\u001b[0m\n\u001b[0;32m     48\u001b[0m     \u001b[38;5;28;01mif\u001b[39;00m sys\u001b[38;5;241m.\u001b[39mversion_info[\u001b[38;5;241m0\u001b[39m] \u001b[38;5;241m<\u001b[39m \u001b[38;5;241m3\u001b[39m:\n\u001b[0;32m     49\u001b[0m         \u001b[38;5;28mself\u001b[39m\u001b[38;5;241m.\u001b[39mpassword \u001b[38;5;241m=\u001b[39m \u001b[38;5;28mself\u001b[39m\u001b[38;5;241m.\u001b[39mpassword\u001b[38;5;241m.\u001b[39mencode(\u001b[38;5;124m\"\u001b[39m\u001b[38;5;124mascii\u001b[39m\u001b[38;5;124m\"\u001b[39m)\n\u001b[1;32m---> 50\u001b[0m \u001b[38;5;28mself\u001b[39m\u001b[38;5;241m.\u001b[39mpages \u001b[38;5;241m=\u001b[39m \u001b[38;5;28;43mself\u001b[39;49m\u001b[38;5;241;43m.\u001b[39;49m\u001b[43m_get_pages\u001b[49m\u001b[43m(\u001b[49m\u001b[38;5;28;43mself\u001b[39;49m\u001b[38;5;241;43m.\u001b[39;49m\u001b[43mfilepath\u001b[49m\u001b[43m,\u001b[49m\u001b[43m \u001b[49m\u001b[43mpages\u001b[49m\u001b[43m)\u001b[49m\n",
      "File \u001b[1;32mc:\\Users\\DudukuntaSashidharRe\\AppData\\Local\\Programs\\Python\\Python310\\lib\\site-packages\\camelot\\handlers.py:74\u001b[0m, in \u001b[0;36mPDFHandler._get_pages\u001b[1;34m(self, filepath, pages)\u001b[0m\n\u001b[0;32m     72\u001b[0m \u001b[38;5;28;01melse\u001b[39;00m:\n\u001b[0;32m     73\u001b[0m     instream \u001b[38;5;241m=\u001b[39m \u001b[38;5;28mopen\u001b[39m(filepath, \u001b[38;5;124m\"\u001b[39m\u001b[38;5;124mrb\u001b[39m\u001b[38;5;124m\"\u001b[39m)\n\u001b[1;32m---> 74\u001b[0m     infile \u001b[38;5;241m=\u001b[39m \u001b[43mPdfFileReader\u001b[49m\u001b[43m(\u001b[49m\u001b[43minstream\u001b[49m\u001b[43m,\u001b[49m\u001b[43m \u001b[49m\u001b[43mstrict\u001b[49m\u001b[38;5;241;43m=\u001b[39;49m\u001b[38;5;28;43;01mFalse\u001b[39;49;00m\u001b[43m)\u001b[49m\n\u001b[0;32m     75\u001b[0m     \u001b[38;5;28;01mif\u001b[39;00m infile\u001b[38;5;241m.\u001b[39misEncrypted:\n\u001b[0;32m     76\u001b[0m         infile\u001b[38;5;241m.\u001b[39mdecrypt(\u001b[38;5;28mself\u001b[39m\u001b[38;5;241m.\u001b[39mpassword)\n",
      "File \u001b[1;32mc:\\Users\\DudukuntaSashidharRe\\AppData\\Local\\Programs\\Python\\Python310\\lib\\site-packages\\PyPDF2\\_reader.py:1974\u001b[0m, in \u001b[0;36mPdfFileReader.__init__\u001b[1;34m(self, *args, **kwargs)\u001b[0m\n\u001b[0;32m   1973\u001b[0m \u001b[38;5;28;01mdef\u001b[39;00m \u001b[38;5;21m__init__\u001b[39m(\u001b[38;5;28mself\u001b[39m, \u001b[38;5;241m*\u001b[39margs: Any, \u001b[38;5;241m*\u001b[39m\u001b[38;5;241m*\u001b[39mkwargs: Any) \u001b[38;5;241m-\u001b[39m\u001b[38;5;241m>\u001b[39m \u001b[38;5;28;01mNone\u001b[39;00m:\n\u001b[1;32m-> 1974\u001b[0m     \u001b[43mdeprecation_with_replacement\u001b[49m\u001b[43m(\u001b[49m\u001b[38;5;124;43m\"\u001b[39;49m\u001b[38;5;124;43mPdfFileReader\u001b[39;49m\u001b[38;5;124;43m\"\u001b[39;49m\u001b[43m,\u001b[49m\u001b[43m \u001b[49m\u001b[38;5;124;43m\"\u001b[39;49m\u001b[38;5;124;43mPdfReader\u001b[39;49m\u001b[38;5;124;43m\"\u001b[39;49m\u001b[43m,\u001b[49m\u001b[43m \u001b[49m\u001b[38;5;124;43m\"\u001b[39;49m\u001b[38;5;124;43m3.0.0\u001b[39;49m\u001b[38;5;124;43m\"\u001b[39;49m\u001b[43m)\u001b[49m\n\u001b[0;32m   1975\u001b[0m     \u001b[38;5;28;01mif\u001b[39;00m \u001b[38;5;124m\"\u001b[39m\u001b[38;5;124mstrict\u001b[39m\u001b[38;5;124m\"\u001b[39m \u001b[38;5;129;01mnot\u001b[39;00m \u001b[38;5;129;01min\u001b[39;00m kwargs \u001b[38;5;129;01mand\u001b[39;00m \u001b[38;5;28mlen\u001b[39m(args) \u001b[38;5;241m<\u001b[39m \u001b[38;5;241m2\u001b[39m:\n\u001b[0;32m   1976\u001b[0m         kwargs[\u001b[38;5;124m\"\u001b[39m\u001b[38;5;124mstrict\u001b[39m\u001b[38;5;124m\"\u001b[39m] \u001b[38;5;241m=\u001b[39m \u001b[38;5;28;01mTrue\u001b[39;00m  \u001b[38;5;66;03m# maintain the default\u001b[39;00m\n",
      "File \u001b[1;32mc:\\Users\\DudukuntaSashidharRe\\AppData\\Local\\Programs\\Python\\Python310\\lib\\site-packages\\PyPDF2\\_utils.py:369\u001b[0m, in \u001b[0;36mdeprecation_with_replacement\u001b[1;34m(old_name, new_name, removed_in)\u001b[0m\n\u001b[0;32m    363\u001b[0m \u001b[38;5;28;01mdef\u001b[39;00m \u001b[38;5;21mdeprecation_with_replacement\u001b[39m(\n\u001b[0;32m    364\u001b[0m     old_name: \u001b[38;5;28mstr\u001b[39m, new_name: \u001b[38;5;28mstr\u001b[39m, removed_in: \u001b[38;5;28mstr\u001b[39m \u001b[38;5;241m=\u001b[39m \u001b[38;5;124m\"\u001b[39m\u001b[38;5;124m3.0.0\u001b[39m\u001b[38;5;124m\"\u001b[39m\n\u001b[0;32m    365\u001b[0m ) \u001b[38;5;241m-\u001b[39m\u001b[38;5;241m>\u001b[39m \u001b[38;5;28;01mNone\u001b[39;00m:\n\u001b[0;32m    366\u001b[0m \u001b[38;5;250m    \u001b[39m\u001b[38;5;124;03m\"\"\"\u001b[39;00m\n\u001b[0;32m    367\u001b[0m \u001b[38;5;124;03m    Raise an exception that a feature was already removed, but has a replacement.\u001b[39;00m\n\u001b[0;32m    368\u001b[0m \u001b[38;5;124;03m    \"\"\"\u001b[39;00m\n\u001b[1;32m--> 369\u001b[0m     \u001b[43mdeprecation\u001b[49m\u001b[43m(\u001b[49m\u001b[43mDEPR_MSG_HAPPENED\u001b[49m\u001b[38;5;241;43m.\u001b[39;49m\u001b[43mformat\u001b[49m\u001b[43m(\u001b[49m\u001b[43mold_name\u001b[49m\u001b[43m,\u001b[49m\u001b[43m \u001b[49m\u001b[43mremoved_in\u001b[49m\u001b[43m,\u001b[49m\u001b[43m \u001b[49m\u001b[43mnew_name\u001b[49m\u001b[43m)\u001b[49m\u001b[43m)\u001b[49m\n",
      "File \u001b[1;32mc:\\Users\\DudukuntaSashidharRe\\AppData\\Local\\Programs\\Python\\Python310\\lib\\site-packages\\PyPDF2\\_utils.py:351\u001b[0m, in \u001b[0;36mdeprecation\u001b[1;34m(msg)\u001b[0m\n\u001b[0;32m    350\u001b[0m \u001b[38;5;28;01mdef\u001b[39;00m \u001b[38;5;21mdeprecation\u001b[39m(msg: \u001b[38;5;28mstr\u001b[39m) \u001b[38;5;241m-\u001b[39m\u001b[38;5;241m>\u001b[39m \u001b[38;5;28;01mNone\u001b[39;00m:\n\u001b[1;32m--> 351\u001b[0m     \u001b[38;5;28;01mraise\u001b[39;00m DeprecationError(msg)\n",
      "\u001b[1;31mDeprecationError\u001b[0m: PdfFileReader is deprecated and was removed in PyPDF2 3.0.0. Use PdfReader instead."
     ]
    }
   ],
   "source": [
    "import camelot\n",
    "\n",
    "# Path to the PDF file\n",
    "pdf_file = \"financial_document.pdf\"\n",
    "\n",
    "# Extract tables from the PDF\n",
    "tables = camelot.read_pdf(pdf_file, pages='all')\n",
    "\n",
    "# Print the number of tables found\n",
    "print(f\"Total tables found: {len(tables)}\")\n",
    "\n",
    "# Iterate over the tables and print the first few rows of each\n",
    "for i, table in enumerate(tables):\n",
    "    print(f\"\\nTable {i + 1}:\")\n",
    "    print(table.df.head())\n",
    "\n",
    "    # Optionally, you can save each table as a CSV file\n",
    "    table.to_csv(f\"table_{i + 1}.csv\")\n",
    "\n",
    "# If you want to export all tables in one CSV file, uncomment the following line:\n",
    "# tables.export('tables.csv', f='csv')\n"
   ]
  },
  {
   "cell_type": "code",
   "execution_count": null,
   "metadata": {},
   "outputs": [],
   "source": []
  },
  {
   "cell_type": "code",
   "execution_count": 15,
   "metadata": {},
   "outputs": [],
   "source": []
  },
  {
   "cell_type": "code",
   "execution_count": 96,
   "metadata": {},
   "outputs": [],
   "source": [
    "system_prompt='''You are an intent classification agent. Your task is to identify the intent of the provided user query. Carefully analyze the query and classify it into one of the following intents.\n",
    "\n",
    "Intents Definitions:\n",
    "graph: If the user query explicitly requests the generation of any type of graph from data, classify the intent of the query as \"graph\".\n",
    "summary: If a user query 'explicitly ask for a summary' of a topic or document, classify the intent of that query as \"summary\". Only classify it as summary intent if the summary word is explicitly mentioned in the user query.\n",
    "normal: If the user query is a general question using words like \"where,\" \"what,\" \"tell,\" etc., and does not fit into the \"summary\" or \"graph\" intents, classify the intent as \"other.\"\n",
    "\n",
    "Carefully analyze the given user query along with the above intent definitions provided, and classify the query as either \"graph\", \"summary\" or \"normal\" based on its content.\n",
    "\n",
    "Output only one of the following intents: graph, summary or normal. No additional explanation or information is allowed.\n",
    "'''"
   ]
  },
  {
   "cell_type": "code",
   "execution_count": 97,
   "metadata": {},
   "outputs": [],
   "source": [
    "user_prompt='''Based on the user query provided, classify its intent. Analyze the intent definitions carefully before determining whether the intent is \"summary\" \"graph\" or \"normal\"\n",
    "Only classify it as summary intent if the summary or summarize words are 'explicitly mentioned' in the user query.\n",
    "Output only one of the following intents: summary, graph, or normal.\n",
    "\n",
    "user query:\n",
    "{query}\n",
    "\n",
    "Intent:\n",
    "'''"
   ]
  },
  {
   "cell_type": "code",
   "execution_count": 142,
   "metadata": {},
   "outputs": [],
   "source": [
    "gpt_engine_name=\"gpt-35-turbo-16k\"\n",
    "embedding_model_name=\"text-embedding-002\"\n",
    "azure_endpoint = \"https://securityappdewa.openai.azure.com\"\n",
    "api_key=\"576b185ff87d4f50962560d349d06332\"\n",
    "api_version= \"2023-07-01-preview\""
   ]
  },
  {
   "cell_type": "code",
   "execution_count": 99,
   "metadata": {},
   "outputs": [],
   "source": [
    "openai_client = AzureOpenAI(\n",
    "                    azure_endpoint = azure_endpoint,\n",
    "                    api_key=api_key,\n",
    "                    api_version= api_version\n",
    "                )"
   ]
  },
  {
   "cell_type": "code",
   "execution_count": 126,
   "metadata": {},
   "outputs": [],
   "source": [
    "query=\"what is acceleration motion\""
   ]
  },
  {
   "cell_type": "code",
   "execution_count": 127,
   "metadata": {},
   "outputs": [],
   "source": [
    "res = openai_client.chat.completions.create(model=gpt_engine_name,\n",
    "                                                        messages=[\n",
    "                                                                {'role': 'system','content':system_prompt},  \n",
    "                                                                {'role': 'user',  'content':f'''Based on the user query provided, classify its intent. Analyze the intent definitions carefully before determining whether the intent is \"summary\" \"graph\" or \"normal\"\n",
    "Only classify it as summary intent if the summary or summarize words are 'explicitly mentioned' in the user query. Strictly check for words like \"summarize,\" \"summarise,\" and similar terms, and classify the intent as \"summary\" only if these words are present in the user query.\n",
    "Output only one of the following intents: graph, summary, or normal.\n",
    "\n",
    "user query:\n",
    "{query}\n",
    "\n",
    "Think step by step and identify the intent of above user query.\n",
    "\n",
    "Intent:\n",
    "'''}],\n",
    "                                                        temperature=0.1,\n",
    "                                                        max_tokens=1\n",
    "                                                        )"
   ]
  },
  {
   "cell_type": "code",
   "execution_count": 128,
   "metadata": {},
   "outputs": [
    {
     "data": {
      "text/plain": [
       "'normal'"
      ]
     },
     "execution_count": 128,
     "metadata": {},
     "output_type": "execute_result"
    }
   ],
   "source": [
    "res.choices[0].message.content"
   ]
  },
  {
   "cell_type": "code",
   "execution_count": null,
   "metadata": {},
   "outputs": [],
   "source": []
  },
  {
   "cell_type": "code",
   "execution_count": 35,
   "metadata": {},
   "outputs": [],
   "source": [
    "import pandas as pd\n",
    "from io import StringIO"
   ]
  },
  {
   "cell_type": "code",
   "execution_count": 71,
   "metadata": {},
   "outputs": [],
   "source": [
    "df=pd.read_excel(\"POP.xlsx\")"
   ]
  },
  {
   "cell_type": "code",
   "execution_count": 73,
   "metadata": {},
   "outputs": [
    {
     "data": {
      "text/plain": [
       "Code          object\n",
       "Rank           int64\n",
       "Country       object\n",
       "Population     int64\n",
       "Unnamed: 4    object\n",
       "dtype: object"
      ]
     },
     "execution_count": 73,
     "metadata": {},
     "output_type": "execute_result"
    }
   ],
   "source": [
    "df.dtypes"
   ]
  },
  {
   "cell_type": "code",
   "execution_count": 72,
   "metadata": {},
   "outputs": [
    {
     "data": {
      "application/vnd.plotly.v1+json": {
       "config": {
        "plotlyServerURL": "https://plot.ly"
       },
       "data": [
        {
         "type": "bar",
         "x": [
          "India",
          "China",
          "United States",
          "Indonesia",
          "Pakistan",
          "Nigeria",
          "Brazil"
         ],
         "y": [
          1417173,
          1412175,
          333288,
          275501,
          235825,
          218541,
          215313
         ]
        }
       ],
       "layout": {
        "height": 700,
        "template": {
         "data": {
          "bar": [
           {
            "error_x": {
             "color": "#2a3f5f"
            },
            "error_y": {
             "color": "#2a3f5f"
            },
            "marker": {
             "line": {
              "color": "#E5ECF6",
              "width": 0.5
             },
             "pattern": {
              "fillmode": "overlay",
              "size": 10,
              "solidity": 0.2
             }
            },
            "type": "bar"
           }
          ],
          "barpolar": [
           {
            "marker": {
             "line": {
              "color": "#E5ECF6",
              "width": 0.5
             },
             "pattern": {
              "fillmode": "overlay",
              "size": 10,
              "solidity": 0.2
             }
            },
            "type": "barpolar"
           }
          ],
          "carpet": [
           {
            "aaxis": {
             "endlinecolor": "#2a3f5f",
             "gridcolor": "white",
             "linecolor": "white",
             "minorgridcolor": "white",
             "startlinecolor": "#2a3f5f"
            },
            "baxis": {
             "endlinecolor": "#2a3f5f",
             "gridcolor": "white",
             "linecolor": "white",
             "minorgridcolor": "white",
             "startlinecolor": "#2a3f5f"
            },
            "type": "carpet"
           }
          ],
          "choropleth": [
           {
            "colorbar": {
             "outlinewidth": 0,
             "ticks": ""
            },
            "type": "choropleth"
           }
          ],
          "contour": [
           {
            "colorbar": {
             "outlinewidth": 0,
             "ticks": ""
            },
            "colorscale": [
             [
              0,
              "#0d0887"
             ],
             [
              0.1111111111111111,
              "#46039f"
             ],
             [
              0.2222222222222222,
              "#7201a8"
             ],
             [
              0.3333333333333333,
              "#9c179e"
             ],
             [
              0.4444444444444444,
              "#bd3786"
             ],
             [
              0.5555555555555556,
              "#d8576b"
             ],
             [
              0.6666666666666666,
              "#ed7953"
             ],
             [
              0.7777777777777778,
              "#fb9f3a"
             ],
             [
              0.8888888888888888,
              "#fdca26"
             ],
             [
              1,
              "#f0f921"
             ]
            ],
            "type": "contour"
           }
          ],
          "contourcarpet": [
           {
            "colorbar": {
             "outlinewidth": 0,
             "ticks": ""
            },
            "type": "contourcarpet"
           }
          ],
          "heatmap": [
           {
            "colorbar": {
             "outlinewidth": 0,
             "ticks": ""
            },
            "colorscale": [
             [
              0,
              "#0d0887"
             ],
             [
              0.1111111111111111,
              "#46039f"
             ],
             [
              0.2222222222222222,
              "#7201a8"
             ],
             [
              0.3333333333333333,
              "#9c179e"
             ],
             [
              0.4444444444444444,
              "#bd3786"
             ],
             [
              0.5555555555555556,
              "#d8576b"
             ],
             [
              0.6666666666666666,
              "#ed7953"
             ],
             [
              0.7777777777777778,
              "#fb9f3a"
             ],
             [
              0.8888888888888888,
              "#fdca26"
             ],
             [
              1,
              "#f0f921"
             ]
            ],
            "type": "heatmap"
           }
          ],
          "heatmapgl": [
           {
            "colorbar": {
             "outlinewidth": 0,
             "ticks": ""
            },
            "colorscale": [
             [
              0,
              "#0d0887"
             ],
             [
              0.1111111111111111,
              "#46039f"
             ],
             [
              0.2222222222222222,
              "#7201a8"
             ],
             [
              0.3333333333333333,
              "#9c179e"
             ],
             [
              0.4444444444444444,
              "#bd3786"
             ],
             [
              0.5555555555555556,
              "#d8576b"
             ],
             [
              0.6666666666666666,
              "#ed7953"
             ],
             [
              0.7777777777777778,
              "#fb9f3a"
             ],
             [
              0.8888888888888888,
              "#fdca26"
             ],
             [
              1,
              "#f0f921"
             ]
            ],
            "type": "heatmapgl"
           }
          ],
          "histogram": [
           {
            "marker": {
             "pattern": {
              "fillmode": "overlay",
              "size": 10,
              "solidity": 0.2
             }
            },
            "type": "histogram"
           }
          ],
          "histogram2d": [
           {
            "colorbar": {
             "outlinewidth": 0,
             "ticks": ""
            },
            "colorscale": [
             [
              0,
              "#0d0887"
             ],
             [
              0.1111111111111111,
              "#46039f"
             ],
             [
              0.2222222222222222,
              "#7201a8"
             ],
             [
              0.3333333333333333,
              "#9c179e"
             ],
             [
              0.4444444444444444,
              "#bd3786"
             ],
             [
              0.5555555555555556,
              "#d8576b"
             ],
             [
              0.6666666666666666,
              "#ed7953"
             ],
             [
              0.7777777777777778,
              "#fb9f3a"
             ],
             [
              0.8888888888888888,
              "#fdca26"
             ],
             [
              1,
              "#f0f921"
             ]
            ],
            "type": "histogram2d"
           }
          ],
          "histogram2dcontour": [
           {
            "colorbar": {
             "outlinewidth": 0,
             "ticks": ""
            },
            "colorscale": [
             [
              0,
              "#0d0887"
             ],
             [
              0.1111111111111111,
              "#46039f"
             ],
             [
              0.2222222222222222,
              "#7201a8"
             ],
             [
              0.3333333333333333,
              "#9c179e"
             ],
             [
              0.4444444444444444,
              "#bd3786"
             ],
             [
              0.5555555555555556,
              "#d8576b"
             ],
             [
              0.6666666666666666,
              "#ed7953"
             ],
             [
              0.7777777777777778,
              "#fb9f3a"
             ],
             [
              0.8888888888888888,
              "#fdca26"
             ],
             [
              1,
              "#f0f921"
             ]
            ],
            "type": "histogram2dcontour"
           }
          ],
          "mesh3d": [
           {
            "colorbar": {
             "outlinewidth": 0,
             "ticks": ""
            },
            "type": "mesh3d"
           }
          ],
          "parcoords": [
           {
            "line": {
             "colorbar": {
              "outlinewidth": 0,
              "ticks": ""
             }
            },
            "type": "parcoords"
           }
          ],
          "pie": [
           {
            "automargin": true,
            "type": "pie"
           }
          ],
          "scatter": [
           {
            "fillpattern": {
             "fillmode": "overlay",
             "size": 10,
             "solidity": 0.2
            },
            "type": "scatter"
           }
          ],
          "scatter3d": [
           {
            "line": {
             "colorbar": {
              "outlinewidth": 0,
              "ticks": ""
             }
            },
            "marker": {
             "colorbar": {
              "outlinewidth": 0,
              "ticks": ""
             }
            },
            "type": "scatter3d"
           }
          ],
          "scattercarpet": [
           {
            "marker": {
             "colorbar": {
              "outlinewidth": 0,
              "ticks": ""
             }
            },
            "type": "scattercarpet"
           }
          ],
          "scattergeo": [
           {
            "marker": {
             "colorbar": {
              "outlinewidth": 0,
              "ticks": ""
             }
            },
            "type": "scattergeo"
           }
          ],
          "scattergl": [
           {
            "marker": {
             "colorbar": {
              "outlinewidth": 0,
              "ticks": ""
             }
            },
            "type": "scattergl"
           }
          ],
          "scattermapbox": [
           {
            "marker": {
             "colorbar": {
              "outlinewidth": 0,
              "ticks": ""
             }
            },
            "type": "scattermapbox"
           }
          ],
          "scatterpolar": [
           {
            "marker": {
             "colorbar": {
              "outlinewidth": 0,
              "ticks": ""
             }
            },
            "type": "scatterpolar"
           }
          ],
          "scatterpolargl": [
           {
            "marker": {
             "colorbar": {
              "outlinewidth": 0,
              "ticks": ""
             }
            },
            "type": "scatterpolargl"
           }
          ],
          "scatterternary": [
           {
            "marker": {
             "colorbar": {
              "outlinewidth": 0,
              "ticks": ""
             }
            },
            "type": "scatterternary"
           }
          ],
          "surface": [
           {
            "colorbar": {
             "outlinewidth": 0,
             "ticks": ""
            },
            "colorscale": [
             [
              0,
              "#0d0887"
             ],
             [
              0.1111111111111111,
              "#46039f"
             ],
             [
              0.2222222222222222,
              "#7201a8"
             ],
             [
              0.3333333333333333,
              "#9c179e"
             ],
             [
              0.4444444444444444,
              "#bd3786"
             ],
             [
              0.5555555555555556,
              "#d8576b"
             ],
             [
              0.6666666666666666,
              "#ed7953"
             ],
             [
              0.7777777777777778,
              "#fb9f3a"
             ],
             [
              0.8888888888888888,
              "#fdca26"
             ],
             [
              1,
              "#f0f921"
             ]
            ],
            "type": "surface"
           }
          ],
          "table": [
           {
            "cells": {
             "fill": {
              "color": "#EBF0F8"
             },
             "line": {
              "color": "white"
             }
            },
            "header": {
             "fill": {
              "color": "#C8D4E3"
             },
             "line": {
              "color": "white"
             }
            },
            "type": "table"
           }
          ]
         },
         "layout": {
          "annotationdefaults": {
           "arrowcolor": "#2a3f5f",
           "arrowhead": 0,
           "arrowwidth": 1
          },
          "autotypenumbers": "strict",
          "coloraxis": {
           "colorbar": {
            "outlinewidth": 0,
            "ticks": ""
           }
          },
          "colorscale": {
           "diverging": [
            [
             0,
             "#8e0152"
            ],
            [
             0.1,
             "#c51b7d"
            ],
            [
             0.2,
             "#de77ae"
            ],
            [
             0.3,
             "#f1b6da"
            ],
            [
             0.4,
             "#fde0ef"
            ],
            [
             0.5,
             "#f7f7f7"
            ],
            [
             0.6,
             "#e6f5d0"
            ],
            [
             0.7,
             "#b8e186"
            ],
            [
             0.8,
             "#7fbc41"
            ],
            [
             0.9,
             "#4d9221"
            ],
            [
             1,
             "#276419"
            ]
           ],
           "sequential": [
            [
             0,
             "#0d0887"
            ],
            [
             0.1111111111111111,
             "#46039f"
            ],
            [
             0.2222222222222222,
             "#7201a8"
            ],
            [
             0.3333333333333333,
             "#9c179e"
            ],
            [
             0.4444444444444444,
             "#bd3786"
            ],
            [
             0.5555555555555556,
             "#d8576b"
            ],
            [
             0.6666666666666666,
             "#ed7953"
            ],
            [
             0.7777777777777778,
             "#fb9f3a"
            ],
            [
             0.8888888888888888,
             "#fdca26"
            ],
            [
             1,
             "#f0f921"
            ]
           ],
           "sequentialminus": [
            [
             0,
             "#0d0887"
            ],
            [
             0.1111111111111111,
             "#46039f"
            ],
            [
             0.2222222222222222,
             "#7201a8"
            ],
            [
             0.3333333333333333,
             "#9c179e"
            ],
            [
             0.4444444444444444,
             "#bd3786"
            ],
            [
             0.5555555555555556,
             "#d8576b"
            ],
            [
             0.6666666666666666,
             "#ed7953"
            ],
            [
             0.7777777777777778,
             "#fb9f3a"
            ],
            [
             0.8888888888888888,
             "#fdca26"
            ],
            [
             1,
             "#f0f921"
            ]
           ]
          },
          "colorway": [
           "#636efa",
           "#EF553B",
           "#00cc96",
           "#ab63fa",
           "#FFA15A",
           "#19d3f3",
           "#FF6692",
           "#B6E880",
           "#FF97FF",
           "#FECB52"
          ],
          "font": {
           "color": "#2a3f5f"
          },
          "geo": {
           "bgcolor": "white",
           "lakecolor": "white",
           "landcolor": "#E5ECF6",
           "showlakes": true,
           "showland": true,
           "subunitcolor": "white"
          },
          "hoverlabel": {
           "align": "left"
          },
          "hovermode": "closest",
          "mapbox": {
           "style": "light"
          },
          "paper_bgcolor": "white",
          "plot_bgcolor": "#E5ECF6",
          "polar": {
           "angularaxis": {
            "gridcolor": "white",
            "linecolor": "white",
            "ticks": ""
           },
           "bgcolor": "#E5ECF6",
           "radialaxis": {
            "gridcolor": "white",
            "linecolor": "white",
            "ticks": ""
           }
          },
          "scene": {
           "xaxis": {
            "backgroundcolor": "#E5ECF6",
            "gridcolor": "white",
            "gridwidth": 2,
            "linecolor": "white",
            "showbackground": true,
            "ticks": "",
            "zerolinecolor": "white"
           },
           "yaxis": {
            "backgroundcolor": "#E5ECF6",
            "gridcolor": "white",
            "gridwidth": 2,
            "linecolor": "white",
            "showbackground": true,
            "ticks": "",
            "zerolinecolor": "white"
           },
           "zaxis": {
            "backgroundcolor": "#E5ECF6",
            "gridcolor": "white",
            "gridwidth": 2,
            "linecolor": "white",
            "showbackground": true,
            "ticks": "",
            "zerolinecolor": "white"
           }
          },
          "shapedefaults": {
           "line": {
            "color": "#2a3f5f"
           }
          },
          "ternary": {
           "aaxis": {
            "gridcolor": "white",
            "linecolor": "white",
            "ticks": ""
           },
           "baxis": {
            "gridcolor": "white",
            "linecolor": "white",
            "ticks": ""
           },
           "bgcolor": "#E5ECF6",
           "caxis": {
            "gridcolor": "white",
            "linecolor": "white",
            "ticks": ""
           }
          },
          "title": {
           "x": 0.05
          },
          "xaxis": {
           "automargin": true,
           "gridcolor": "white",
           "linecolor": "white",
           "ticks": "",
           "title": {
            "standoff": 15
           },
           "zerolinecolor": "white",
           "zerolinewidth": 2
          },
          "yaxis": {
           "automargin": true,
           "gridcolor": "white",
           "linecolor": "white",
           "ticks": "",
           "title": {
            "standoff": 15
           },
           "zerolinecolor": "white",
           "zerolinewidth": 2
          }
         }
        },
        "title": {
         "text": "Top 7 Population Countries"
        },
        "width": 900,
        "xaxis": {
         "title": {
          "text": "Country"
         }
        },
        "yaxis": {
         "title": {
          "text": "Population"
         }
        }
       }
      }
     },
     "metadata": {},
     "output_type": "display_data"
    }
   ],
   "source": [
    "exec('''import plotly.graph_objects as go\n",
    "\n",
    "# Select the relevant columns for the graph\n",
    "selected_columns = ['Country', 'Population']\n",
    "\n",
    "# Sort the dataframe based on population in descending order\n",
    "df_sorted = df.sort_values(by='Population', ascending=False)\n",
    "\n",
    "# Select the top 7 countries based on population\n",
    "df_top_7 = df_sorted.head(7)\n",
    "\n",
    "# Create the graph\n",
    "fig = go.Figure(data=go.Bar(\n",
    "    x=df_top_7['Country'],\n",
    "    y=df_top_7['Population']\n",
    "))\n",
    "\n",
    "# Set the x and y axis labels\n",
    "fig.update_layout(\n",
    "    xaxis=dict(title='Country'),\n",
    "    yaxis=dict(title='Population')\n",
    ")\n",
    "\n",
    "# Set the title of the graph\n",
    "fig.update_layout(title='Top 7 Population Countries')\n",
    "\n",
    "# Set the size of the graph\n",
    "fig.update_layout(\n",
    "    height=700,\n",
    "    width=900\n",
    ")\n",
    "\n",
    "# Save the graph as html\n",
    "fig.show()''')"
   ]
  },
  {
   "cell_type": "code",
   "execution_count": 50,
   "metadata": {},
   "outputs": [
    {
     "data": {
      "text/plain": [
       "Index(['Unnamed: 0', 'EEID', 'Full Name', 'Job Title', 'Department',\n",
       "       'Business Unit', 'Gender', 'Ethnicity', 'Age', 'Hire Date',\n",
       "       'Annual Salary', 'Bonus %', 'Country', 'City', 'Exit Date'],\n",
       "      dtype='object')"
      ]
     },
     "execution_count": 50,
     "metadata": {},
     "output_type": "execute_result"
    }
   ],
   "source": [
    "df.columns"
   ]
  },
  {
   "cell_type": "code",
   "execution_count": 51,
   "metadata": {},
   "outputs": [],
   "source": [
    "mf=df.to_markdown(index=False)"
   ]
  },
  {
   "cell_type": "code",
   "execution_count": 57,
   "metadata": {},
   "outputs": [],
   "source": [
    "# Convert markdown to a DataFrame\n",
    "data = pd.read_csv(StringIO(mf), sep=\"|\")"
   ]
  },
  {
   "cell_type": "code",
   "execution_count": 58,
   "metadata": {},
   "outputs": [
    {
     "data": {
      "text/html": [
       "<div>\n",
       "<style scoped>\n",
       "    .dataframe tbody tr th:only-of-type {\n",
       "        vertical-align: middle;\n",
       "    }\n",
       "\n",
       "    .dataframe tbody tr th {\n",
       "        vertical-align: top;\n",
       "    }\n",
       "\n",
       "    .dataframe thead th {\n",
       "        text-align: right;\n",
       "    }\n",
       "</style>\n",
       "<table border=\"1\" class=\"dataframe\">\n",
       "  <thead>\n",
       "    <tr style=\"text-align: right;\">\n",
       "      <th></th>\n",
       "      <th>Unnamed: 0</th>\n",
       "      <th>Unnamed: 0</th>\n",
       "      <th>EEID</th>\n",
       "      <th>Full Name</th>\n",
       "      <th>Job Title</th>\n",
       "      <th>Department</th>\n",
       "      <th>Business Unit</th>\n",
       "      <th>Gender</th>\n",
       "      <th>Ethnicity</th>\n",
       "      <th>Age</th>\n",
       "      <th>Hire Date</th>\n",
       "      <th>Annual Salary</th>\n",
       "      <th>Bonus %</th>\n",
       "      <th>Country</th>\n",
       "      <th>City</th>\n",
       "      <th>Exit Date</th>\n",
       "      <th>Unnamed: 16</th>\n",
       "    </tr>\n",
       "  </thead>\n",
       "  <tbody>\n",
       "    <tr>\n",
       "      <th>0</th>\n",
       "      <td>NaN</td>\n",
       "      <td>-------------:</td>\n",
       "      <td>:-------</td>\n",
       "      <td>:---------------------</td>\n",
       "      <td>:-------------------------------</td>\n",
       "      <td>:----------------</td>\n",
       "      <td>:-----------------------</td>\n",
       "      <td>:---------</td>\n",
       "      <td>:------------</td>\n",
       "      <td>------:</td>\n",
       "      <td>:--------------------</td>\n",
       "      <td>----------------:</td>\n",
       "      <td>----------:</td>\n",
       "      <td>:--------------</td>\n",
       "      <td>:---------------</td>\n",
       "      <td>:--------------------</td>\n",
       "      <td>NaN</td>\n",
       "    </tr>\n",
       "    <tr>\n",
       "      <th>1</th>\n",
       "      <td>NaN</td>\n",
       "      <td>0</td>\n",
       "      <td>E02387</td>\n",
       "      <td>Emily Davis</td>\n",
       "      <td>Sr. Manger</td>\n",
       "      <td>IT</td>\n",
       "      <td>Research &amp; Development</td>\n",
       "      <td>Female</td>\n",
       "      <td>Black</td>\n",
       "      <td>55</td>\n",
       "      <td>2016-04-08 00:00:00</td>\n",
       "      <td>141604</td>\n",
       "      <td>0.15</td>\n",
       "      <td>United States</td>\n",
       "      <td>Seattle</td>\n",
       "      <td>2021-10-16 00:00:00</td>\n",
       "      <td>NaN</td>\n",
       "    </tr>\n",
       "    <tr>\n",
       "      <th>2</th>\n",
       "      <td>NaN</td>\n",
       "      <td>1</td>\n",
       "      <td>E04105</td>\n",
       "      <td>Theodore Dinh</td>\n",
       "      <td>Technical Architect</td>\n",
       "      <td>IT</td>\n",
       "      <td>Manufacturing</td>\n",
       "      <td>Male</td>\n",
       "      <td>Asian</td>\n",
       "      <td>59</td>\n",
       "      <td>1997-11-29 00:00:00</td>\n",
       "      <td>99975</td>\n",
       "      <td>0</td>\n",
       "      <td>China</td>\n",
       "      <td>Chongqing</td>\n",
       "      <td>NaT</td>\n",
       "      <td>NaN</td>\n",
       "    </tr>\n",
       "    <tr>\n",
       "      <th>3</th>\n",
       "      <td>NaN</td>\n",
       "      <td>2</td>\n",
       "      <td>E02572</td>\n",
       "      <td>Luna Sanders</td>\n",
       "      <td>Director</td>\n",
       "      <td>Finance</td>\n",
       "      <td>Speciality Products</td>\n",
       "      <td>Female</td>\n",
       "      <td>Caucasian</td>\n",
       "      <td>50</td>\n",
       "      <td>2006-10-26 00:00:00</td>\n",
       "      <td>163099</td>\n",
       "      <td>0.2</td>\n",
       "      <td>United States</td>\n",
       "      <td>Chicago</td>\n",
       "      <td>NaT</td>\n",
       "      <td>NaN</td>\n",
       "    </tr>\n",
       "    <tr>\n",
       "      <th>4</th>\n",
       "      <td>NaN</td>\n",
       "      <td>3</td>\n",
       "      <td>E02832</td>\n",
       "      <td>Penelope Jordan</td>\n",
       "      <td>Computer Systems Manager</td>\n",
       "      <td>IT</td>\n",
       "      <td>Manufacturing</td>\n",
       "      <td>Female</td>\n",
       "      <td>Caucasian</td>\n",
       "      <td>26</td>\n",
       "      <td>2019-09-27 00:00:00</td>\n",
       "      <td>84913</td>\n",
       "      <td>0.07</td>\n",
       "      <td>United States</td>\n",
       "      <td>Chicago</td>\n",
       "      <td>NaT</td>\n",
       "      <td>NaN</td>\n",
       "    </tr>\n",
       "    <tr>\n",
       "      <th>...</th>\n",
       "      <td>...</td>\n",
       "      <td>...</td>\n",
       "      <td>...</td>\n",
       "      <td>...</td>\n",
       "      <td>...</td>\n",
       "      <td>...</td>\n",
       "      <td>...</td>\n",
       "      <td>...</td>\n",
       "      <td>...</td>\n",
       "      <td>...</td>\n",
       "      <td>...</td>\n",
       "      <td>...</td>\n",
       "      <td>...</td>\n",
       "      <td>...</td>\n",
       "      <td>...</td>\n",
       "      <td>...</td>\n",
       "      <td>...</td>\n",
       "    </tr>\n",
       "    <tr>\n",
       "      <th>996</th>\n",
       "      <td>NaN</td>\n",
       "      <td>995</td>\n",
       "      <td>E03094</td>\n",
       "      <td>Wesley Young</td>\n",
       "      <td>Sr. Analyst</td>\n",
       "      <td>Marketing</td>\n",
       "      <td>Speciality Products</td>\n",
       "      <td>Male</td>\n",
       "      <td>Caucasian</td>\n",
       "      <td>33</td>\n",
       "      <td>2016-09-18 00:00:00</td>\n",
       "      <td>98427</td>\n",
       "      <td>0</td>\n",
       "      <td>United States</td>\n",
       "      <td>Columbus</td>\n",
       "      <td>NaT</td>\n",
       "      <td>NaN</td>\n",
       "    </tr>\n",
       "    <tr>\n",
       "      <th>997</th>\n",
       "      <td>NaN</td>\n",
       "      <td>996</td>\n",
       "      <td>E01909</td>\n",
       "      <td>Lillian Khan</td>\n",
       "      <td>Analyst</td>\n",
       "      <td>Finance</td>\n",
       "      <td>Speciality Products</td>\n",
       "      <td>Female</td>\n",
       "      <td>Asian</td>\n",
       "      <td>44</td>\n",
       "      <td>2010-05-31 00:00:00</td>\n",
       "      <td>47387</td>\n",
       "      <td>0</td>\n",
       "      <td>China</td>\n",
       "      <td>Chengdu</td>\n",
       "      <td>2018-01-08 00:00:00</td>\n",
       "      <td>NaN</td>\n",
       "    </tr>\n",
       "    <tr>\n",
       "      <th>998</th>\n",
       "      <td>NaN</td>\n",
       "      <td>997</td>\n",
       "      <td>E04398</td>\n",
       "      <td>Oliver Yang</td>\n",
       "      <td>Director</td>\n",
       "      <td>Marketing</td>\n",
       "      <td>Speciality Products</td>\n",
       "      <td>Male</td>\n",
       "      <td>Asian</td>\n",
       "      <td>31</td>\n",
       "      <td>2019-06-10 00:00:00</td>\n",
       "      <td>176710</td>\n",
       "      <td>0.15</td>\n",
       "      <td>United States</td>\n",
       "      <td>Miami</td>\n",
       "      <td>NaT</td>\n",
       "      <td>NaN</td>\n",
       "    </tr>\n",
       "    <tr>\n",
       "      <th>999</th>\n",
       "      <td>NaN</td>\n",
       "      <td>998</td>\n",
       "      <td>E02521</td>\n",
       "      <td>Lily Nguyen</td>\n",
       "      <td>Sr. Analyst</td>\n",
       "      <td>Finance</td>\n",
       "      <td>Speciality Products</td>\n",
       "      <td>Female</td>\n",
       "      <td>Asian</td>\n",
       "      <td>33</td>\n",
       "      <td>2012-01-28 00:00:00</td>\n",
       "      <td>95960</td>\n",
       "      <td>0</td>\n",
       "      <td>China</td>\n",
       "      <td>Chengdu</td>\n",
       "      <td>NaT</td>\n",
       "      <td>NaN</td>\n",
       "    </tr>\n",
       "    <tr>\n",
       "      <th>1000</th>\n",
       "      <td>NaN</td>\n",
       "      <td>999</td>\n",
       "      <td>E03545</td>\n",
       "      <td>Sofia Cheng</td>\n",
       "      <td>Vice President</td>\n",
       "      <td>Accounting</td>\n",
       "      <td>Corporate</td>\n",
       "      <td>Female</td>\n",
       "      <td>Asian</td>\n",
       "      <td>63</td>\n",
       "      <td>2020-07-26 00:00:00</td>\n",
       "      <td>216195</td>\n",
       "      <td>0.31</td>\n",
       "      <td>United States</td>\n",
       "      <td>Miami</td>\n",
       "      <td>NaT</td>\n",
       "      <td>NaN</td>\n",
       "    </tr>\n",
       "  </tbody>\n",
       "</table>\n",
       "<p>1001 rows × 17 columns</p>\n",
       "</div>"
      ],
      "text/plain": [
       "      Unnamed: 0     Unnamed: 0    EEID      Full Name              \\\n",
       "0            NaN  -------------:  :-------  :---------------------   \n",
       "1            NaN              0    E02387    Emily Davis             \n",
       "2            NaN              1    E04105    Theodore Dinh           \n",
       "3            NaN              2    E02572    Luna Sanders            \n",
       "4            NaN              3    E02832    Penelope Jordan         \n",
       "...          ...             ...       ...                     ...   \n",
       "996          NaN            995    E03094    Wesley Young            \n",
       "997          NaN            996    E01909    Lillian Khan            \n",
       "998          NaN            997    E04398    Oliver Yang             \n",
       "999          NaN            998    E02521    Lily Nguyen             \n",
       "1000         NaN            999    E03545    Sofia Cheng             \n",
       "\n",
       "       Job Title                         Department        \\\n",
       "0     :-------------------------------  :----------------   \n",
       "1      Sr. Manger                        IT                 \n",
       "2      Technical Architect               IT                 \n",
       "3      Director                          Finance            \n",
       "4      Computer Systems Manager          IT                 \n",
       "...                                ...                ...   \n",
       "996    Sr. Analyst                       Marketing          \n",
       "997    Analyst                           Finance            \n",
       "998    Director                          Marketing          \n",
       "999    Sr. Analyst                       Finance            \n",
       "1000   Vice President                    Accounting         \n",
       "\n",
       "       Business Unit             Gender      Ethnicity        Age   \\\n",
       "0     :-----------------------  :---------  :------------  ------:   \n",
       "1      Research & Development    Female      Black             55    \n",
       "2      Manufacturing             Male        Asian             59    \n",
       "3      Speciality Products       Female      Caucasian         50    \n",
       "4      Manufacturing             Female      Caucasian         26    \n",
       "...                        ...         ...            ...      ...   \n",
       "996    Speciality Products       Male        Caucasian         33    \n",
       "997    Speciality Products       Female      Asian             44    \n",
       "998    Speciality Products       Male        Asian             31    \n",
       "999    Speciality Products       Female      Asian             33    \n",
       "1000   Corporate                 Female      Asian             63    \n",
       "\n",
       "       Hire Date                Annual Salary      Bonus %    Country         \\\n",
       "0     :--------------------  ----------------:  ----------:  :--------------   \n",
       "1      2016-04-08 00:00:00             141604         0.15    United States    \n",
       "2      1997-11-29 00:00:00              99975         0       China            \n",
       "3      2006-10-26 00:00:00             163099         0.2     United States    \n",
       "4      2019-09-27 00:00:00              84913         0.07    United States    \n",
       "...                     ...                ...          ...              ...   \n",
       "996    2016-09-18 00:00:00              98427         0       United States    \n",
       "997    2010-05-31 00:00:00              47387         0       China            \n",
       "998    2019-06-10 00:00:00             176710         0.15    United States    \n",
       "999    2012-01-28 00:00:00              95960         0       China            \n",
       "1000   2020-07-26 00:00:00             216195         0.31    United States    \n",
       "\n",
       "       City              Exit Date             Unnamed: 16  \n",
       "0     :---------------  :--------------------          NaN  \n",
       "1      Seattle           2021-10-16 00:00:00           NaN  \n",
       "2      Chongqing         NaT                           NaN  \n",
       "3      Chicago           NaT                           NaN  \n",
       "4      Chicago           NaT                           NaN  \n",
       "...                ...                    ...          ...  \n",
       "996    Columbus          NaT                           NaN  \n",
       "997    Chengdu           2018-01-08 00:00:00           NaN  \n",
       "998    Miami             NaT                           NaN  \n",
       "999    Chengdu           NaT                           NaN  \n",
       "1000   Miami             NaT                           NaN  \n",
       "\n",
       "[1001 rows x 17 columns]"
      ]
     },
     "execution_count": 58,
     "metadata": {},
     "output_type": "execute_result"
    }
   ],
   "source": [
    "data"
   ]
  },
  {
   "cell_type": "code",
   "execution_count": 53,
   "metadata": {},
   "outputs": [],
   "source": [
    "# Clean up extra whitespace in columns\n",
    "data = data.apply(lambda x: x.str.strip() if x.dtype == \"object\" else x)"
   ]
  },
  {
   "cell_type": "code",
   "execution_count": 54,
   "metadata": {},
   "outputs": [],
   "source": [
    "data = data.drop(columns=data.columns[[0, -1]])"
   ]
  },
  {
   "cell_type": "code",
   "execution_count": 55,
   "metadata": {},
   "outputs": [],
   "source": [
    "data = data.drop(index=0)"
   ]
  },
  {
   "cell_type": "code",
   "execution_count": 60,
   "metadata": {},
   "outputs": [],
   "source": [
    "data.columns = data.columns.str.strip()"
   ]
  },
  {
   "cell_type": "code",
   "execution_count": 61,
   "metadata": {},
   "outputs": [
    {
     "data": {
      "text/plain": [
       "Index(['Unnamed: 0', 'Unnamed: 0', 'EEID', 'Full Name', 'Job Title',\n",
       "       'Department', 'Business Unit', 'Gender', 'Ethnicity', 'Age',\n",
       "       'Hire Date', 'Annual Salary', 'Bonus %', 'Country', 'City', 'Exit Date',\n",
       "       'Unnamed: 16'],\n",
       "      dtype='object')"
      ]
     },
     "execution_count": 61,
     "metadata": {},
     "output_type": "execute_result"
    }
   ],
   "source": [
    "data.columns"
   ]
  },
  {
   "cell_type": "code",
   "execution_count": 64,
   "metadata": {},
   "outputs": [],
   "source": [
    "exec('''\n",
    "import plotly.graph_objects as go\n",
    "\n",
    "# Selecting the relevant columns for the graph\n",
    "df_selected = df[['Country', 'Population']].head(7)\n",
    "\n",
    "# Sorting the data in descending order based on population\n",
    "df_selected_sorted = df_selected.sort_values(by='Population', ascending=False)\n",
    "\n",
    "# Creating the bar graph\n",
    "fig = go.Figure(data=go.Bar(x=df_selected_sorted['Country'],\n",
    "                           y=df_selected_sorted['Population'],\n",
    "                           marker_color='blue'))\n",
    "\n",
    "# Adding labels and title to the graph\n",
    "fig.update_layout(title='Population in Top 7 Countries',\n",
    "                  xaxis_title='Country',\n",
    "                  yaxis_title='Population')\n",
    "\n",
    "# Saving the graph in html format\n",
    "fig.write_html('temp/graph_ca8f6973581e11ef8c84fff0fd93fc55.html')\n",
    "''')"
   ]
  },
  {
   "cell_type": "code",
   "execution_count": null,
   "metadata": {},
   "outputs": [],
   "source": []
  },
  {
   "cell_type": "code",
   "execution_count": 161,
   "metadata": {},
   "outputs": [],
   "source": [
    "python_prompt='''You are a senior python developer. Your task is to generate precise Plotly Python code to create visual graphs based on the provided dataframe sample data, dataframe name, dataframe columns, and user query.\n",
    "Carefully analyse the given dataframe name, dataframe sample data, user query to write accurate python code.\n",
    "\n",
    "Important points to note before generating code:\n",
    "- The dataframe is already loaded in memory, so just use the given dataframe name in code. Never generate sample data just use the dataframe name.\n",
    "- The graph should have accurate x_axis, y_axis labels with title. If the graph is stacked then show it in different colors with legend labels. The labels of the graph is very important. Title of the graph should be there at top or bottom of the graph.\n",
    "- The minimum size of graph should be of height 700 and width 900.\n",
    "- If the user asking about yearwise or quarterwise or monthwise data then show respective data only in the graph without extra information.\n",
    "- In the generated python code, save the graph in html format to this path - 'temp/graph_{id}.html'\n",
    "\n",
    "Follow the below steps to generate accurate python code for user query.\n",
    "\n",
    "Step 1: Exhaustively analyse the given dataframe name, dataframe sample data, user query to write accurate python code.\n",
    "\n",
    "Step 2: Based on the analysis in Step 1, select the type of graph that is most suitable for the given dataframe sample data according to the user query. Additionally, determine which columns are most relevant and should be considered for generating the graph as per the user query.\n",
    "Only use the below available dataframe columns in code.\n",
    "dataframe columns:\n",
    "{columns}\n",
    "\n",
    "Step 3: Select the most appropriate x-axis and y-axis from the dataframe based on the user query. These axes should clearly address the query and contain relevant values with appropriate labels.\n",
    "\n",
    "Step 4: Based on the choices made in Steps 2 and 3, including the graph type, x-axis, and y-axis, think through the process step-by-step to generate accurate Python code that will create the desired graph using the given dataframe sample data, dataframe name, and user query.\n",
    "\n",
    "Follow all the above steps and important points to generate precise python code.\n",
    "'''"
   ]
  },
  {
   "cell_type": "code",
   "execution_count": 162,
   "metadata": {},
   "outputs": [],
   "source": [
    "def excecute_python_code(df, query, python_prompt):\n",
    "    # if gpt_access=='gpt-4':\n",
    "    #     gpt_engine_name=gpt4_model_name\n",
    "    # else:\n",
    "    #     gpt_engine_name=gpt_model_name\n",
    "    try:\n",
    "        id=uuid.uuid1().hex\n",
    "        col=df.columns.to_list()\n",
    "        python_prompt=python_prompt.format(id=id, columns=col)\n",
    "        messages=[{'role':'system', 'content':python_prompt}]\n",
    "        messages.append({'role': 'user', 'content': f'''Your task is to generate Python code using the Plotly library to create a graph based on the provided dataframe sample data, dataframe name, and user query. Use only the available dataframe columns in creating the graph.\n",
    "The dataframe is already loaded in memory, so just use the given dataframe name in code. Never read the dataframe, just use the dataframe name in code as it is already loaded in memory.\n",
    "\n",
    "Dataframe Name:\n",
    "df\n",
    "                \n",
    "Dataframe sample data:\n",
    "{df.head}\n",
    "                        \n",
    "user query:\n",
    "{query}\n",
    "\n",
    "Do not generate any explanation for code just generate python code only.\n",
    "\n",
    "Python Code:\n",
    "'''})\n",
    "        ans = openai_client.chat.completions.create(\n",
    "                            model=gpt_engine_name,\n",
    "                            messages=messages,\n",
    "                        )\n",
    "        res=ans.choices[0].message.content\n",
    "        try:\n",
    "            pattern = r\"```python(.*?)```\"\n",
    "            matches = re.findall(pattern, res, re.DOTALL)\n",
    "            if matches:\n",
    "                python_code = matches[0].strip()\n",
    "            else:\n",
    "                raise\n",
    "        except Exception as e:\n",
    "            print(\"code parsing error occured\")\n",
    "            pattern = r'```(.*?)```'\n",
    "            matches = re.findall(pattern, res, re.DOTALL)\n",
    "            if matches:\n",
    "                python_code = matches[0].strip()\n",
    "            else:\n",
    "                python_code=res\n",
    "        try:\n",
    "            print('##################')\n",
    "            exec(python_code)\n",
    "        except Exception as e:\n",
    "            error=e\n",
    "            print('code excecution error', e)\n",
    "            retry_limit=2\n",
    "            count=0\n",
    "            messages=[\n",
    "                    {'role': 'system', 'content': f'''You are a senior python developer. Your task is to correct the errors in the python code based on error message, dataframe name, dataframe sample data and user query. The python code is to generate visual graphs using plotly. Based on the given pyhton code and error message generate correct python code.\n",
    "The dataframe is already loaded in memory, so just use the given dataframe name in code. Never generate sample data just use the dataframe name.'''}\n",
    "                    ]\n",
    "            while count<retry_limit:\n",
    "                print(\"@@@@@@@@@@@\", count)\n",
    "                messages.append({'role': 'user', 'content': f'''Your task is to correct the given Python code using the Plotly library to create a graph based on the provided error message, dataframe sample data, dataframe name, python code, and user query. Use only the available dataframe columns in creating the graph.\n",
    "Only use the dataframe name to create the graph. Only use the below dataframe name, dataframe sample data and user query in correcting code.\n",
    "\n",
    "Dataframe Name:\n",
    "df\n",
    "                \n",
    "Dataframe sample data:\n",
    "{df.head}\n",
    "\n",
    "python code:\n",
    "{python_code}\n",
    "\n",
    "error message:\n",
    "{error}\n",
    "                        \n",
    "user query:\n",
    "{query}\n",
    "\n",
    "Do not generate any explanation for code just correct the above wrongly generated python code.\n",
    "\n",
    "Correct Python Code:\n",
    "'''})\n",
    "                response = openai_client.chat.completions.create(\n",
    "                            model=gpt_engine_name,\n",
    "                            messages=messages\n",
    "                        )\n",
    "                res = response.choices[0].message.content\n",
    "                try:\n",
    "                    pattern = r\"```python(.*?)```\"\n",
    "                    matches = re.findall(pattern, res, re.DOTALL)\n",
    "                    if matches:\n",
    "                        python_code = matches[0].strip()\n",
    "                    else:\n",
    "                        raise\n",
    "                except Exception as e:\n",
    "                    print(\"code parsing error occured\")\n",
    "                    pattern = r'```(.*?)```'\n",
    "                    matches = re.findall(pattern, res, re.DOTALL)\n",
    "                    if matches:\n",
    "                        python_code = matches[0].strip()\n",
    "                    else:\n",
    "                        python_code=res\n",
    "                try:\n",
    "                    exec(python_code)\n",
    "                    break\n",
    "                except Exception as e:\n",
    "                    error=e\n",
    "                count+=1\n",
    "                messages.append({\"role\": \"assistant\", \"content\": python_code})\n",
    "        print('@@@@@@@@@@@@@@@@@@@@@@@@@@@@@@@@@@')\n",
    "        print(python_code)\n",
    "    except Exception as e:\n",
    "        print(\"Error in excecute_python_code\", e)"
   ]
  },
  {
   "cell_type": "code",
   "execution_count": 163,
   "metadata": {},
   "outputs": [],
   "source": [
    "query=\"bar graph showing count employees in different department\""
   ]
  },
  {
   "cell_type": "code",
   "execution_count": 164,
   "metadata": {},
   "outputs": [
    {
     "name": "stdout",
     "output_type": "stream",
     "text": [
      "code parsing error occured\n",
      "##################\n",
      "@@@@@@@@@@@@@@@@@@@@@@@@@@@@@@@@@@\n",
      "import plotly.graph_objects as go\n",
      "\n",
      "# Calculate the count of employees in each department\n",
      "department_count = df['Department'].value_counts()\n",
      "\n",
      "# Create a bar graph\n",
      "fig = go.Figure(data=go.Bar(x=department_count.index, y=department_count.values))\n",
      "\n",
      "# Customize the graph\n",
      "fig.update_layout(\n",
      "    title=\"Count of Employees in Different Departments\",\n",
      "    xaxis_title=\"Department\",\n",
      "    yaxis_title=\"Number of Employees\",\n",
      "    width=900,\n",
      "    height=700\n",
      ")\n",
      "\n",
      "# Save the graph as an HTML file\n",
      "fig.write_html(\"temp/graph_cab15ef457e411ef9ce1fff0fd93fc55.html\")\n"
     ]
    }
   ],
   "source": [
    "excecute_python_code(df, query, python_prompt)"
   ]
  },
  {
   "cell_type": "code",
   "execution_count": 146,
   "metadata": {},
   "outputs": [
    {
     "data": {
      "application/vnd.plotly.v1+json": {
       "config": {
        "plotlyServerURL": "https://plot.ly"
       },
       "data": [
        {
         "alignmentgroup": "True",
         "hovertemplate": "Department=%{x}<br>Full Name=%{y}<extra></extra>",
         "legendgroup": "Accounting",
         "marker": {
          "color": "#636efa",
          "pattern": {
           "shape": ""
          }
         },
         "name": "Accounting",
         "offsetgroup": "Accounting",
         "orientation": "v",
         "showlegend": true,
         "textposition": "auto",
         "type": "bar",
         "x": [
          "Accounting"
         ],
         "xaxis": "x",
         "y": [
          96
         ],
         "yaxis": "y"
        },
        {
         "alignmentgroup": "True",
         "hovertemplate": "Department=%{x}<br>Full Name=%{y}<extra></extra>",
         "legendgroup": "Engineering",
         "marker": {
          "color": "#EF553B",
          "pattern": {
           "shape": ""
          }
         },
         "name": "Engineering",
         "offsetgroup": "Engineering",
         "orientation": "v",
         "showlegend": true,
         "textposition": "auto",
         "type": "bar",
         "x": [
          "Engineering"
         ],
         "xaxis": "x",
         "y": [
          158
         ],
         "yaxis": "y"
        },
        {
         "alignmentgroup": "True",
         "hovertemplate": "Department=%{x}<br>Full Name=%{y}<extra></extra>",
         "legendgroup": "Finance",
         "marker": {
          "color": "#00cc96",
          "pattern": {
           "shape": ""
          }
         },
         "name": "Finance",
         "offsetgroup": "Finance",
         "orientation": "v",
         "showlegend": true,
         "textposition": "auto",
         "type": "bar",
         "x": [
          "Finance"
         ],
         "xaxis": "x",
         "y": [
          120
         ],
         "yaxis": "y"
        },
        {
         "alignmentgroup": "True",
         "hovertemplate": "Department=%{x}<br>Full Name=%{y}<extra></extra>",
         "legendgroup": "Human Resources",
         "marker": {
          "color": "#ab63fa",
          "pattern": {
           "shape": ""
          }
         },
         "name": "Human Resources",
         "offsetgroup": "Human Resources",
         "orientation": "v",
         "showlegend": true,
         "textposition": "auto",
         "type": "bar",
         "x": [
          "Human Resources"
         ],
         "xaxis": "x",
         "y": [
          125
         ],
         "yaxis": "y"
        },
        {
         "alignmentgroup": "True",
         "hovertemplate": "Department=%{x}<br>Full Name=%{y}<extra></extra>",
         "legendgroup": "IT",
         "marker": {
          "color": "#FFA15A",
          "pattern": {
           "shape": ""
          }
         },
         "name": "IT",
         "offsetgroup": "IT",
         "orientation": "v",
         "showlegend": true,
         "textposition": "auto",
         "type": "bar",
         "x": [
          "IT"
         ],
         "xaxis": "x",
         "y": [
          241
         ],
         "yaxis": "y"
        },
        {
         "alignmentgroup": "True",
         "hovertemplate": "Department=%{x}<br>Full Name=%{y}<extra></extra>",
         "legendgroup": "Marketing",
         "marker": {
          "color": "#19d3f3",
          "pattern": {
           "shape": ""
          }
         },
         "name": "Marketing",
         "offsetgroup": "Marketing",
         "orientation": "v",
         "showlegend": true,
         "textposition": "auto",
         "type": "bar",
         "x": [
          "Marketing"
         ],
         "xaxis": "x",
         "y": [
          120
         ],
         "yaxis": "y"
        },
        {
         "alignmentgroup": "True",
         "hovertemplate": "Department=%{x}<br>Full Name=%{y}<extra></extra>",
         "legendgroup": "Sales",
         "marker": {
          "color": "#FF6692",
          "pattern": {
           "shape": ""
          }
         },
         "name": "Sales",
         "offsetgroup": "Sales",
         "orientation": "v",
         "showlegend": true,
         "textposition": "auto",
         "type": "bar",
         "x": [
          "Sales"
         ],
         "xaxis": "x",
         "y": [
          140
         ],
         "yaxis": "y"
        }
       ],
       "layout": {
        "barmode": "relative",
        "legend": {
         "title": {
          "text": "Department"
         },
         "tracegroupgap": 0
        },
        "margin": {
         "t": 60
        },
        "template": {
         "data": {
          "bar": [
           {
            "error_x": {
             "color": "#2a3f5f"
            },
            "error_y": {
             "color": "#2a3f5f"
            },
            "marker": {
             "line": {
              "color": "#E5ECF6",
              "width": 0.5
             },
             "pattern": {
              "fillmode": "overlay",
              "size": 10,
              "solidity": 0.2
             }
            },
            "type": "bar"
           }
          ],
          "barpolar": [
           {
            "marker": {
             "line": {
              "color": "#E5ECF6",
              "width": 0.5
             },
             "pattern": {
              "fillmode": "overlay",
              "size": 10,
              "solidity": 0.2
             }
            },
            "type": "barpolar"
           }
          ],
          "carpet": [
           {
            "aaxis": {
             "endlinecolor": "#2a3f5f",
             "gridcolor": "white",
             "linecolor": "white",
             "minorgridcolor": "white",
             "startlinecolor": "#2a3f5f"
            },
            "baxis": {
             "endlinecolor": "#2a3f5f",
             "gridcolor": "white",
             "linecolor": "white",
             "minorgridcolor": "white",
             "startlinecolor": "#2a3f5f"
            },
            "type": "carpet"
           }
          ],
          "choropleth": [
           {
            "colorbar": {
             "outlinewidth": 0,
             "ticks": ""
            },
            "type": "choropleth"
           }
          ],
          "contour": [
           {
            "colorbar": {
             "outlinewidth": 0,
             "ticks": ""
            },
            "colorscale": [
             [
              0,
              "#0d0887"
             ],
             [
              0.1111111111111111,
              "#46039f"
             ],
             [
              0.2222222222222222,
              "#7201a8"
             ],
             [
              0.3333333333333333,
              "#9c179e"
             ],
             [
              0.4444444444444444,
              "#bd3786"
             ],
             [
              0.5555555555555556,
              "#d8576b"
             ],
             [
              0.6666666666666666,
              "#ed7953"
             ],
             [
              0.7777777777777778,
              "#fb9f3a"
             ],
             [
              0.8888888888888888,
              "#fdca26"
             ],
             [
              1,
              "#f0f921"
             ]
            ],
            "type": "contour"
           }
          ],
          "contourcarpet": [
           {
            "colorbar": {
             "outlinewidth": 0,
             "ticks": ""
            },
            "type": "contourcarpet"
           }
          ],
          "heatmap": [
           {
            "colorbar": {
             "outlinewidth": 0,
             "ticks": ""
            },
            "colorscale": [
             [
              0,
              "#0d0887"
             ],
             [
              0.1111111111111111,
              "#46039f"
             ],
             [
              0.2222222222222222,
              "#7201a8"
             ],
             [
              0.3333333333333333,
              "#9c179e"
             ],
             [
              0.4444444444444444,
              "#bd3786"
             ],
             [
              0.5555555555555556,
              "#d8576b"
             ],
             [
              0.6666666666666666,
              "#ed7953"
             ],
             [
              0.7777777777777778,
              "#fb9f3a"
             ],
             [
              0.8888888888888888,
              "#fdca26"
             ],
             [
              1,
              "#f0f921"
             ]
            ],
            "type": "heatmap"
           }
          ],
          "heatmapgl": [
           {
            "colorbar": {
             "outlinewidth": 0,
             "ticks": ""
            },
            "colorscale": [
             [
              0,
              "#0d0887"
             ],
             [
              0.1111111111111111,
              "#46039f"
             ],
             [
              0.2222222222222222,
              "#7201a8"
             ],
             [
              0.3333333333333333,
              "#9c179e"
             ],
             [
              0.4444444444444444,
              "#bd3786"
             ],
             [
              0.5555555555555556,
              "#d8576b"
             ],
             [
              0.6666666666666666,
              "#ed7953"
             ],
             [
              0.7777777777777778,
              "#fb9f3a"
             ],
             [
              0.8888888888888888,
              "#fdca26"
             ],
             [
              1,
              "#f0f921"
             ]
            ],
            "type": "heatmapgl"
           }
          ],
          "histogram": [
           {
            "marker": {
             "pattern": {
              "fillmode": "overlay",
              "size": 10,
              "solidity": 0.2
             }
            },
            "type": "histogram"
           }
          ],
          "histogram2d": [
           {
            "colorbar": {
             "outlinewidth": 0,
             "ticks": ""
            },
            "colorscale": [
             [
              0,
              "#0d0887"
             ],
             [
              0.1111111111111111,
              "#46039f"
             ],
             [
              0.2222222222222222,
              "#7201a8"
             ],
             [
              0.3333333333333333,
              "#9c179e"
             ],
             [
              0.4444444444444444,
              "#bd3786"
             ],
             [
              0.5555555555555556,
              "#d8576b"
             ],
             [
              0.6666666666666666,
              "#ed7953"
             ],
             [
              0.7777777777777778,
              "#fb9f3a"
             ],
             [
              0.8888888888888888,
              "#fdca26"
             ],
             [
              1,
              "#f0f921"
             ]
            ],
            "type": "histogram2d"
           }
          ],
          "histogram2dcontour": [
           {
            "colorbar": {
             "outlinewidth": 0,
             "ticks": ""
            },
            "colorscale": [
             [
              0,
              "#0d0887"
             ],
             [
              0.1111111111111111,
              "#46039f"
             ],
             [
              0.2222222222222222,
              "#7201a8"
             ],
             [
              0.3333333333333333,
              "#9c179e"
             ],
             [
              0.4444444444444444,
              "#bd3786"
             ],
             [
              0.5555555555555556,
              "#d8576b"
             ],
             [
              0.6666666666666666,
              "#ed7953"
             ],
             [
              0.7777777777777778,
              "#fb9f3a"
             ],
             [
              0.8888888888888888,
              "#fdca26"
             ],
             [
              1,
              "#f0f921"
             ]
            ],
            "type": "histogram2dcontour"
           }
          ],
          "mesh3d": [
           {
            "colorbar": {
             "outlinewidth": 0,
             "ticks": ""
            },
            "type": "mesh3d"
           }
          ],
          "parcoords": [
           {
            "line": {
             "colorbar": {
              "outlinewidth": 0,
              "ticks": ""
             }
            },
            "type": "parcoords"
           }
          ],
          "pie": [
           {
            "automargin": true,
            "type": "pie"
           }
          ],
          "scatter": [
           {
            "fillpattern": {
             "fillmode": "overlay",
             "size": 10,
             "solidity": 0.2
            },
            "type": "scatter"
           }
          ],
          "scatter3d": [
           {
            "line": {
             "colorbar": {
              "outlinewidth": 0,
              "ticks": ""
             }
            },
            "marker": {
             "colorbar": {
              "outlinewidth": 0,
              "ticks": ""
             }
            },
            "type": "scatter3d"
           }
          ],
          "scattercarpet": [
           {
            "marker": {
             "colorbar": {
              "outlinewidth": 0,
              "ticks": ""
             }
            },
            "type": "scattercarpet"
           }
          ],
          "scattergeo": [
           {
            "marker": {
             "colorbar": {
              "outlinewidth": 0,
              "ticks": ""
             }
            },
            "type": "scattergeo"
           }
          ],
          "scattergl": [
           {
            "marker": {
             "colorbar": {
              "outlinewidth": 0,
              "ticks": ""
             }
            },
            "type": "scattergl"
           }
          ],
          "scattermapbox": [
           {
            "marker": {
             "colorbar": {
              "outlinewidth": 0,
              "ticks": ""
             }
            },
            "type": "scattermapbox"
           }
          ],
          "scatterpolar": [
           {
            "marker": {
             "colorbar": {
              "outlinewidth": 0,
              "ticks": ""
             }
            },
            "type": "scatterpolar"
           }
          ],
          "scatterpolargl": [
           {
            "marker": {
             "colorbar": {
              "outlinewidth": 0,
              "ticks": ""
             }
            },
            "type": "scatterpolargl"
           }
          ],
          "scatterternary": [
           {
            "marker": {
             "colorbar": {
              "outlinewidth": 0,
              "ticks": ""
             }
            },
            "type": "scatterternary"
           }
          ],
          "surface": [
           {
            "colorbar": {
             "outlinewidth": 0,
             "ticks": ""
            },
            "colorscale": [
             [
              0,
              "#0d0887"
             ],
             [
              0.1111111111111111,
              "#46039f"
             ],
             [
              0.2222222222222222,
              "#7201a8"
             ],
             [
              0.3333333333333333,
              "#9c179e"
             ],
             [
              0.4444444444444444,
              "#bd3786"
             ],
             [
              0.5555555555555556,
              "#d8576b"
             ],
             [
              0.6666666666666666,
              "#ed7953"
             ],
             [
              0.7777777777777778,
              "#fb9f3a"
             ],
             [
              0.8888888888888888,
              "#fdca26"
             ],
             [
              1,
              "#f0f921"
             ]
            ],
            "type": "surface"
           }
          ],
          "table": [
           {
            "cells": {
             "fill": {
              "color": "#EBF0F8"
             },
             "line": {
              "color": "white"
             }
            },
            "header": {
             "fill": {
              "color": "#C8D4E3"
             },
             "line": {
              "color": "white"
             }
            },
            "type": "table"
           }
          ]
         },
         "layout": {
          "annotationdefaults": {
           "arrowcolor": "#2a3f5f",
           "arrowhead": 0,
           "arrowwidth": 1
          },
          "autotypenumbers": "strict",
          "coloraxis": {
           "colorbar": {
            "outlinewidth": 0,
            "ticks": ""
           }
          },
          "colorscale": {
           "diverging": [
            [
             0,
             "#8e0152"
            ],
            [
             0.1,
             "#c51b7d"
            ],
            [
             0.2,
             "#de77ae"
            ],
            [
             0.3,
             "#f1b6da"
            ],
            [
             0.4,
             "#fde0ef"
            ],
            [
             0.5,
             "#f7f7f7"
            ],
            [
             0.6,
             "#e6f5d0"
            ],
            [
             0.7,
             "#b8e186"
            ],
            [
             0.8,
             "#7fbc41"
            ],
            [
             0.9,
             "#4d9221"
            ],
            [
             1,
             "#276419"
            ]
           ],
           "sequential": [
            [
             0,
             "#0d0887"
            ],
            [
             0.1111111111111111,
             "#46039f"
            ],
            [
             0.2222222222222222,
             "#7201a8"
            ],
            [
             0.3333333333333333,
             "#9c179e"
            ],
            [
             0.4444444444444444,
             "#bd3786"
            ],
            [
             0.5555555555555556,
             "#d8576b"
            ],
            [
             0.6666666666666666,
             "#ed7953"
            ],
            [
             0.7777777777777778,
             "#fb9f3a"
            ],
            [
             0.8888888888888888,
             "#fdca26"
            ],
            [
             1,
             "#f0f921"
            ]
           ],
           "sequentialminus": [
            [
             0,
             "#0d0887"
            ],
            [
             0.1111111111111111,
             "#46039f"
            ],
            [
             0.2222222222222222,
             "#7201a8"
            ],
            [
             0.3333333333333333,
             "#9c179e"
            ],
            [
             0.4444444444444444,
             "#bd3786"
            ],
            [
             0.5555555555555556,
             "#d8576b"
            ],
            [
             0.6666666666666666,
             "#ed7953"
            ],
            [
             0.7777777777777778,
             "#fb9f3a"
            ],
            [
             0.8888888888888888,
             "#fdca26"
            ],
            [
             1,
             "#f0f921"
            ]
           ]
          },
          "colorway": [
           "#636efa",
           "#EF553B",
           "#00cc96",
           "#ab63fa",
           "#FFA15A",
           "#19d3f3",
           "#FF6692",
           "#B6E880",
           "#FF97FF",
           "#FECB52"
          ],
          "font": {
           "color": "#2a3f5f"
          },
          "geo": {
           "bgcolor": "white",
           "lakecolor": "white",
           "landcolor": "#E5ECF6",
           "showlakes": true,
           "showland": true,
           "subunitcolor": "white"
          },
          "hoverlabel": {
           "align": "left"
          },
          "hovermode": "closest",
          "mapbox": {
           "style": "light"
          },
          "paper_bgcolor": "white",
          "plot_bgcolor": "#E5ECF6",
          "polar": {
           "angularaxis": {
            "gridcolor": "white",
            "linecolor": "white",
            "ticks": ""
           },
           "bgcolor": "#E5ECF6",
           "radialaxis": {
            "gridcolor": "white",
            "linecolor": "white",
            "ticks": ""
           }
          },
          "scene": {
           "xaxis": {
            "backgroundcolor": "#E5ECF6",
            "gridcolor": "white",
            "gridwidth": 2,
            "linecolor": "white",
            "showbackground": true,
            "ticks": "",
            "zerolinecolor": "white"
           },
           "yaxis": {
            "backgroundcolor": "#E5ECF6",
            "gridcolor": "white",
            "gridwidth": 2,
            "linecolor": "white",
            "showbackground": true,
            "ticks": "",
            "zerolinecolor": "white"
           },
           "zaxis": {
            "backgroundcolor": "#E5ECF6",
            "gridcolor": "white",
            "gridwidth": 2,
            "linecolor": "white",
            "showbackground": true,
            "ticks": "",
            "zerolinecolor": "white"
           }
          },
          "shapedefaults": {
           "line": {
            "color": "#2a3f5f"
           }
          },
          "ternary": {
           "aaxis": {
            "gridcolor": "white",
            "linecolor": "white",
            "ticks": ""
           },
           "baxis": {
            "gridcolor": "white",
            "linecolor": "white",
            "ticks": ""
           },
           "bgcolor": "#E5ECF6",
           "caxis": {
            "gridcolor": "white",
            "linecolor": "white",
            "ticks": ""
           }
          },
          "title": {
           "x": 0.05
          },
          "xaxis": {
           "automargin": true,
           "gridcolor": "white",
           "linecolor": "white",
           "ticks": "",
           "title": {
            "standoff": 15
           },
           "zerolinecolor": "white",
           "zerolinewidth": 2
          },
          "yaxis": {
           "automargin": true,
           "gridcolor": "white",
           "linecolor": "white",
           "ticks": "",
           "title": {
            "standoff": 15
           },
           "zerolinecolor": "white",
           "zerolinewidth": 2
          }
         }
        },
        "title": {
         "text": "Employees in Different Departments"
        },
        "xaxis": {
         "anchor": "y",
         "categoryarray": [
          "Accounting",
          "Engineering",
          "Finance",
          "Human Resources",
          "IT",
          "Marketing",
          "Sales"
         ],
         "categoryorder": "array",
         "domain": [
          0,
          1
         ],
         "title": {
          "text": "Department"
         }
        },
        "yaxis": {
         "anchor": "x",
         "domain": [
          0,
          1
         ],
         "title": {
          "text": "Number of Employees"
         }
        }
       }
      }
     },
     "metadata": {},
     "output_type": "display_data"
    }
   ],
   "source": [
    "import plotly.express as px\n",
    "\n",
    "# Selecting relevant columns for the graph\n",
    "df_selected = df[['Department', 'Full Name']].copy()\n",
    "\n",
    "# Grouping data by department and counting the number of employees in each department\n",
    "df_grouped = df_selected.groupby('Department').count().reset_index()\n",
    "\n",
    "# Creating the bar graph\n",
    "fig = px.bar(df_grouped, x='Department', y='Full Name', color='Department')\n",
    "\n",
    "# Adding labels and title to the graph\n",
    "fig.update_layout(\n",
    "    xaxis_title='Department',\n",
    "    yaxis_title='Number of Employees',\n",
    "    title='Employees in Different Departments'\n",
    ")\n",
    "\n",
    "# Saving the graph as html file\n",
    "fig.show()"
   ]
  },
  {
   "cell_type": "code",
   "execution_count": null,
   "metadata": {},
   "outputs": [],
   "source": []
  },
  {
   "cell_type": "code",
   "execution_count": 1,
   "metadata": {},
   "outputs": [],
   "source": [
    "text='''Baroda Home Loan\n",
    "Are you are dreaming of buying your own residence? Opt for Bank of Baroda Home \n",
    "Loan. Our bob home loan is packed with several exclusive features and benefits for \n",
    "aspiring homeowners. Our housing loan can be used for a variety of purposes. For \n",
    "instance, you can buy a plot, purchase a flat, build your own home and even extend \n",
    "your existing residence with a home loan. Use the bob home loan calculator to find \n",
    "out bob home loan interest rate & more!\n",
    "Benefits:\n",
    " Low Interest rates\n",
    " Low processing charges\n",
    " Higher loan amount\n",
    " Free Credit card\n",
    " Longer tenures\\\n",
    "Features\n",
    " Home Loan products to suit every customers need\n",
    " The approved home loan amount varies according to location and income of \n",
    "the applicants.\n",
    " Low Interest Rates\n",
    " Low Processing Fee\n",
    " No Hidden Charges\n",
    " No Pre Payment Penalty\n",
    " The interest rate is linked to Baroda Repo Linked Lending Rate (BRLLR) of \n",
    "the bank and is reset monthly.\n",
    " Interest charges on Daily Reducing Balance\n",
    " Repayment up to 30 years\n",
    " Moratorium period up to 36 months after the loan amount is disbursed.\n",
    " Generally, we accept mortgages of the constructed or purchased property as \n",
    "collateral. In some cases, collateral for home loans can be accepted in the \n",
    "form of insurance policies, government promissory notes, shares and \n",
    "debentures, gold ornaments and other property etc.\n",
    "Eligibility Criteria\n",
    "Resident Type:\n",
    " Resident Indians\n",
    " Non-Resident Indians (NRIs) holding Indian passport or Persons of \n",
    "Indian origin (PIOs) holding foreign passport or Overseas Citizens of \n",
    "India (OCI)\n",
    "Minimum Age:\n",
    " Applicant:- 21 Years\n",
    " Co-applicant:- 18 Years\n",
    " Maximum Age: 70 years\n",
    " Loan Tenure: up to 30 years.\n",
    "Maximum Loan Amount\n",
    " Mumbai : Rs. 20 Crores\n",
    " Hyderabad, New Delhi (including National Capital Region) and \n",
    "Bengaluru: Rs.7.50 Crore\n",
    " Other Metros : Rs. 5.00 Crores\n",
    " Urban Areas : Rs. 3.00 Crores\n",
    " Semi-urban and Rural : Rs. 1.00 Crores\n",
    " Chandigarh, Panchkula & Mohali:- Rs. 5 Crores\n",
    "Baroda Home Loan : Interest rates & charges\n",
    "Floating Rate:\n",
    "Product Conditions\n",
    "Repo Rate + \n",
    "Spread\n",
    "Effective Rate of \n",
    "Interest\n",
    "Baroda Home \n",
    "Loan to Non\u0002Staff members\n",
    "For Salaried* BRLLR - 0.75% \n",
    "to BRLLR +\n",
    "1.45%\n",
    "From 8.40% to \n",
    "10.60%\n",
    "For Non\u0002Salaried*\n",
    "BRLLR - 0.75% \n",
    "to BRLLR + \n",
    "1.45%\n",
    "From 8.40% to \n",
    "10.60%\n",
    "* Note:\n",
    " Rate of Interest is dependent upon Loan limit and CIBIL Score of the \n",
    "applicant/s.\n",
    " Risk Premium of 0.05% will be levied for customers not obtaining credit \n",
    "insurance cover\n",
    "Fixed Rate:\n",
    "Product Conditions\n",
    "Repo Rate + \n",
    "Spread\n",
    "Effective Rate of \n",
    "Interest\n",
    "Baroda Home \n",
    "Loan to Non\u0002Staff members\n",
    "For Salaried* BRLLR+1.00% \n",
    "to BRLLR + \n",
    "2.35%\n",
    "From 10.15% to \n",
    "11.50%\n",
    "For Non\u0002Salaried*\n",
    "BRLLR+1.10% \n",
    "to \n",
    "BRLLR+2.45%\n",
    "From 10.25% to \n",
    "11.60%\n",
    "Processing Charges :\n",
    "1. For Takeover leads received through Non-DSA (Digital or Non-digital) –\n",
    "NIL, subject to Login Fee of Rs.1,500/- which is to be refunded on first \n",
    "disbursement.\n",
    "2. For Home Loan in approved projects (Digital or Non-digital):\n",
    "100% waiver in Processing charges, subject to recovery of out-of-pocket \n",
    "expenses of ₹3,500.00 + GST (Per Property)./p>\n",
    "3. Under Home Loan Scheme for Central/State Govt/PSUs employees – for \n",
    "non-DSA (including leads generated by DST) –\n",
    "NIL, subject to Login Fee of Rs.1,500/- which is to be refunded on first \n",
    "disbursement.\n",
    "4. For Other Home Loan lead sourced through Non-Digital Channel:\n",
    "100% waiver in Processing charges, subject to recovery of out-of-pocket \n",
    "expenses of ₹10,000.00 + GST (Per Property)\n",
    "5. For Home Loan leads sourced through Digital Channel:\n",
    "100% waiver in Processing charges, subject to recovery of out-of-pocket \n",
    "expenses of ₹5,000.00 + GST (Per Property) to ₹8,500.00 + GST (conditions \n",
    "apply)\n",
    "Documents Required\n",
    "Most Important Terms and Conditions:\n",
    "All Documents Self –Attested By Applicant /Co -Applicant /Guarantor\n",
    "A) RESIDENT INDIAN:\n",
    "I.\n",
    "1. Duly Filled and Signed Application form along with three Photograph s\n",
    "2. Proof of Identity - PAN CARD (mandatory for loan application above Rs.10.00 lacs\n",
    "3. Driver’s License / Voter ID / Passport / Aadhar Card\n",
    "4. Proof of Residence (Driver’s License / Ration Card/ Voter ID / Passport / Aadhar Card\n",
    "/ Registered Rent Agreement)\n",
    "5. If any previous loan then loan a/c statement for last 1 year along with sanction letter.\n",
    "( If loan from BoB, Account No / Cust Id required)\n",
    "6. Proof of assets held like LIC/NSC/KVP/MF/PROPERTY\n",
    "7. Assets and Liabilities statement\n",
    "8. ITR Verification report\n",
    "9. Additional Do cuments for (Applicants /Co - applicants whose income to be considered for eligibility)\n",
    "Salaried Individuals Self-Employed Individuals / Professionals /Others Farmers /agriculturist\n",
    "a. Latest 3 months Salary Slips & latest 1 month salary slip for\n",
    "Guara ntors\n",
    "Balance Sheet & Profit & Loss A/c, Computation of Income - Last \n",
    "2 years\n",
    "Talati’s/Gram Sevak/Village Revenue officer Certificate for previous two \n",
    "years income and Mamladaar’s /Block Revenue officer certificate for last \n",
    "year’s\n",
    "income.\n",
    "b. Form 16 & ITR – last 1 years of Applicants &\n",
    "Guarantors(if any )\n",
    "Income Tax Returns – last 2 years for Applicants, 26 AS ,\n",
    "Traces\n",
    "c. Copy of Employee identity Card provided by Employer Business proof : Gomasta License, Registration \n",
    "Certificate, Service Tax\n",
    "Registration, etc\n",
    "Land revenue records – Form 6, 7/12, 8A ;\n",
    "d. Appointment\n",
    "/Confirmation / Promotion /Increment letter evidencing\n",
    "duration of employment\n",
    "IT Assessment / Clearance Certificate, Income Tax Challans / TDS \n",
    "Certificate (Form 16A) / Form 26 AS for\n",
    "income d eclared in ITR.\n",
    "e. 6 months Bank A/c statement (Salary / Individual) or \n",
    "Account No if account is with BoB.\n",
    "In Case of Applicants engaged in Business through\n",
    "Partnership Firm/Private Ltd. Company:\n",
    "12 months Bank A/c statement (Individual)\n",
    "f. i. Firm’s PAN c ard, Address Proof of Firm /\n",
    " Company\n",
    "Target Group\n",
    " Resident Indians\n",
    " Non-resident Indians (NRIs) holding an Indian passport or Persons of \n",
    "Indian origin (PIOs) holding a foreign passport or overseas citizens of \n",
    "India (OCI).\n",
    " Staff members (availing under public scheme)\n",
    "Eligibility of Borrower(s)\n",
    " Individuals - singly or jointly.\n",
    " HUFs are not eligible.\n",
    "Resident Indian\n",
    "Applicant/co-applicant(s), whose income are considered for eligibility, should \n",
    "be employed/engaged in business/profession for a minimum period of 1 year \n",
    "(for salaried) and/or 2 years (for non-salaried).\n",
    "Break in service, if any, can be allowed up to a maximum period of 3 months.\n",
    "NRI/PIO/OCI\n",
    " Applicant/co-applicant(s), whose income are considered for eligibility, \n",
    "should be having a regular job abroad in a reputed Indian/foreign \n",
    "company, organization or government department holding a valid job \n",
    "contract/work permit for the minimum past 2 years.\n",
    "OR\n",
    "Should be employed/self-employed or having a business unit and \n",
    "staying abroad at least for 2 years.\n",
    " Applicant/co-applicant(s), whose income is considered for eligibility, \n",
    "should have minimum gross annual income equivalent to Rs. 5 lakhs \n",
    "per annum. If the applicant/co-applicant(s), whose income is considered \n",
    "for eligibility includes NRI, a minimum Gross Annual Income of Rs. 5 \n",
    "lakhs (income of applicant/co-applicant together) can be considered for \n",
    "this criteria.\n",
    "Person of Indian Origin (PIO) is specified as under\n",
    "A citizen of any country other than Bangladesh/Pakistan/Sri \n",
    "Lanka/Afghanistan/China/Iran/Nepal/Bhutan if –\n",
    " He at any time held Indian passport or\n",
    " He or either of his parents or any of his grandparents was a citizen of \n",
    "India by virtue of the constitution of India of the Citizenship Act 1955, or\n",
    " The person is a spouse of an Indian citizen or a person referred to in \n",
    "sub-clause (a) or (b) above.\n",
    "Overseas Citizens of India (OCI) is specified as under\n",
    " A person registered as Overseas Citizen of India (OCI) under section 7 A \n",
    "of the Citizenship Act, 1955.\n",
    " As per the guidelines, an Overseas Citizens of India (OCI) has to be \n",
    "necessarily a Person of India Origin (PIO).\n",
    " A foreign national, who was eligible to become citizen of India on 26/ 01/ \n",
    "1950 or was a citizen of India on or at any time after 26/ 01/ 1950 or \n",
    "belonged to a territory that became part of India after 15/08/1947, and \n",
    "his/her children and grandchildren, provided his/her country of \n",
    "citizenship allows dual citizenship in some form or other under the local \n",
    "laws, is eligible for registration as Overseas Citizen of India (OCI). Minor \n",
    "children of this person are also eligible for OCI. However, if the applicant \n",
    "had ever been a citizen of Pakistan or Bangladesh, he/she will not be \n",
    "eligible for OCI.\n",
    "Co-Applicants\n",
    " The close relatives of the applicant can be added as a co-applicant for \n",
    "higher eligibility.\n",
    " If the applicant wants to add any person who is not a close relative as a \n",
    "co-applicant, the same can be considered only if he/she is the joint \n",
    "owner of property.\n",
    "List of Close Relatives\n",
    "Spouse, father, mother (including step mother), son (including step son), son’s \n",
    "wife, daughter (including step daughter), daughter’s husband, brother/sister \n",
    "(including stepbrother/sister), brother’s wife, sister (including step sister) of \n",
    "spouse, sister’s husband, brother (including step brother) of spouse.\n",
    "Maximum Loan amount\n",
    " Mumbai : Rs. 20 Crores\n",
    " Hyderabad, New Delhi and Bengaluru : Rs. 7.50 Crores\n",
    " Other Metros : Rs. 5.00 Crores\n",
    "o Urban Areas : Rs. 3.00 Crores\n",
    " Semi-urban and Rural : Rs. 1.00 Crores\n",
    " Chandigarh, Panchkula & Mohali:- Rs. 5 Crores\n",
    "Repayment Period\n",
    " Maximum period of loans shall be 30 years initially, including the \n",
    "maximum moratorium period of 36 months.\n",
    " Maximum moratorium period shall be 36 months as under.\n",
    " 18 month moratorium period for under construction houses and \n",
    "building up to 7th floor and thereafter 6 months additional moratorium \n",
    "per floor subject to a maximum moratorium of 36 months.\n",
    "Repayment Capacity\n",
    "Total deductions including proposed EMI should not exceed as follows -\n",
    "Salaried Persons\n",
    " Net Monthly income less than Rs.25,000: 40%\n",
    " Net monthly income Rs.25,000 and above but less than Rs.50,000: 60%\n",
    " Net monthly income Rs.50,000 and above but less than Rs.1.00 lakhs: \n",
    "65%\n",
    " Net monthly income Rs.1.00 lakhs and above but less than Rs.2.00 \n",
    "lakhs: 70%\n",
    " Net monthly income Rs.2.00 lakhs and above: 75%\n",
    "Others\n",
    " Average Net Annual Income (for last 2 years) up to Rs.6 lakhs: 70%\n",
    " Average Net Annual Income (for last 2 years) more than Rs.6 lakhs: 80%\n",
    "Margin Norms & Loan to Value (LTV) Ratio\n",
    "Loan Amount Margin LTV Ratio\n",
    "Loans up to Rs.30/- Lacs 10% 90%\n",
    "Loans above Rs.30/- Lacs up to Rs.75/- Lacs 20% 80%\n",
    "Loans above Rs.75/- Lacs 25% 75%\n",
    "Age\n",
    " Minimum: Borrower - 21 years, Co-applicant - 18 years\n",
    " Maximum: Maximum age can be considered up to 70 years*\n",
    "Security\n",
    " Mortgage of the property constructed/purchased or\n",
    " If mortgage is not feasible, the Bank at its discretion can accept security \n",
    "in the form of insurance policies, government promissory notes, shares \n",
    "and debentures, gold ornaments, etc.\n",
    "Repayment\n",
    " Maximum period of loans shall be 30 years initially, including the \n",
    "maximum moratorium period of 36 months.\n",
    " Maximum moratorium period shall be 36 months as under.\n",
    " 18 month moratorium period for under construction houses and \n",
    "building up to 7th floor and thereafter 6 months additional moratorium \n",
    "per floor subject to a maximum moratorium of 36 months.\n",
    " Loan to be repaid in Equated Monthly Instalments (EMI)\n",
    " In case of farmers/agriculturists, repayment can be allowed in Half \n",
    "Yearly Instalments coinciding with harvesting/marketing of major crops \n",
    "produced.\n",
    " Recovery of interest for the moratorium period Interest charged during \n",
    "the moratorium period is to be recovered as and when debited.\n",
    "Pre-Closure Charges\n",
    "Nil\n",
    "Group Credit Life Insurance Cover\n",
    "Bank of Baroda has tie-up arrangements with M/s. IndiaFirst Life Insurance Co. \n",
    "for providing Life Insurance Cover to our Home Loan borrowers. This is an \n",
    "optional scheme of Life Insurance and is at the cost of borrower which may be \n",
    "funded by the Bank at the time of sanction and is recoverable with the EMIs of \n",
    "the Loan.\n",
    "The salient Features of the Group Credit Life Policy offered by M/s. IndiaFirst \n",
    "Life Insurance Co. as under:\n",
    " It is an optional scheme for the benefit of Home Loan borrowers and the \n",
    "borrower will be given an option by the branches to choose the \n",
    "insurance provider between IndiaFirst Life Insurance as per his choice.\n",
    " It is a group insurance scheme, which protects against unforeseen \n",
    "consequences of death of borrower.\n",
    " Family of the borrower is not required to repay the loan to the extent of \n",
    "claim settled amount, in case of death of the borrower.\n",
    " Outstanding cover amount due, will be paid by insurance provider as \n",
    "per cover schedule.\n",
    " Slippage of the account into NPA category due to death of the borrower \n",
    "can be avoided.\n",
    " Life cover is available against payment of one time premium and amount \n",
    "of premium is based on the age of the borrower, amount of loan, interest \n",
    "rate and tenure of the loan.\n",
    " Premium amount for obtaining the cover can be financed as part of loan \n",
    "at the request of borrower and accordingly EMI will be calculated. But in \n",
    "case of Home Loans, guidelines regarding compliance of LTV Ratio \n",
    "must be strictly ensured.\n",
    " Premium amount may be part of the loan as per total eligibility of the \n",
    "borrower may be funded by the Bank at the time of sanction and is \n",
    "recoverable with the EMIs of the loan.\n",
    " In case of foreclosure of loan, certain portion of premium paid shall be \n",
    "refunded by the insurance provider'''"
   ]
  },
  {
   "cell_type": "code",
   "execution_count": 2,
   "metadata": {},
   "outputs": [
    {
     "name": "stderr",
     "output_type": "stream",
     "text": [
      "c:\\Users\\DudukuntaSashidharRe\\AppData\\Local\\Programs\\Python\\Python310\\lib\\site-packages\\pinecone\\data\\index.py:1: TqdmWarning: IProgress not found. Please update jupyter and ipywidgets. See https://ipywidgets.readthedocs.io/en/stable/user_install.html\n",
      "  from tqdm.autonotebook import tqdm\n"
     ]
    }
   ],
   "source": [
    "from summarys import Summarization"
   ]
  },
  {
   "cell_type": "code",
   "execution_count": 5,
   "metadata": {},
   "outputs": [],
   "source": [
    "import os\n",
    "import time\n",
    "# Set an environment variable\n",
    "os.environ['PINECONE_API_KEY'] = '193bfd5b-1a4a-4c8b-bc06-7ec7c4cfc66a'\n",
    "\n",
    "PINECONE_API_KEY=\"193bfd5b-1a4a-4c8b-bc06-7ec7c4cfc66a\""
   ]
  },
  {
   "cell_type": "code",
   "execution_count": 7,
   "metadata": {},
   "outputs": [],
   "source": [
    "import re\n",
    "import uuid\n",
    "from openai import AzureOpenAI\n",
    "from pinecone import Pinecone, ServerlessSpec"
   ]
  },
  {
   "cell_type": "code",
   "execution_count": 8,
   "metadata": {},
   "outputs": [],
   "source": [
    "gpt_engine_name=\"gpt-35-turbo-16k\"\n",
    "embedding_model_name=\"text-embedding-002\"\n",
    "azure_endpoint = \"https://securityappdewa.openai.azure.com\"\n",
    "api_key=\"576b185ff87d4f50962560d349d06332\"\n",
    "api_version= \"2023-07-01-preview\""
   ]
  },
  {
   "cell_type": "code",
   "execution_count": 9,
   "metadata": {},
   "outputs": [],
   "source": [
    "s=Summarization('indexdb', PINECONE_API_KEY, gpt_engine_name, embedding_model_name, api_key, azure_endpoint, api_version, \"azure_openai\")"
   ]
  },
  {
   "cell_type": "code",
   "execution_count": 10,
   "metadata": {},
   "outputs": [],
   "source": [
    "su=await s.summarize_document(text)"
   ]
  },
  {
   "cell_type": "code",
   "execution_count": 11,
   "metadata": {},
   "outputs": [
    {
     "name": "stdout",
     "output_type": "stream",
     "text": [
      "The document provides information about the Bank of Baroda Home Loan, including its features, benefits, eligibility criteria, interest rates, charges, and required documents. Here are the key points from the document:\n",
      "\n",
      "1. Bank of Baroda Home Loan offers several exclusive features and benefits for aspiring homeowners.\n",
      "2. The loan can be used for various purposes such as buying a plot, purchasing a flat, building a home, or extending an existing residence.\n",
      "3. The loan amount is determined based on the location and income of the applicants.\n",
      "4. The interest rates are linked to the Baroda Repo Linked Lending Rate (BRLLR) of the bank and are reset monthly.\n",
      "5. The loan repayment period can be up to 30 years, with a moratorium period of up to 36 months.\n",
      "6. Collateral for the loan can be in the form of the constructed or purchased property, insurance policies, government promissory notes, shares and debentures, gold ornaments, etc.\n",
      "7. The eligibility criteria include resident Indians, non-resident Indians (NRIs), and persons of Indian origin (PIOs) holding foreign passports or overseas citizens of India (OCI).\n",
      "8. The minimum age for applicants is 21 years, and the maximum age is 70 years.\n",
      "9. The maximum loan amount varies based on the location, ranging from Rs. 20 Crores in Mumbai to Rs. 1 Crore in semi-urban and rural areas.\n",
      "10. The interest rates for the loan can be floating or fixed, depending on the product conditions.\n",
      "11. The processing charges for the loan vary based on the source of the lead and whether it is a digital or non-digital channel.\n",
      "12. The required documents for the loan application include proof of identity, proof of residence, proof of assets, ITR verification report, and additional documents based on the applicant's employment or business type.\n",
      "13. The loan is available for resident Indians, NRIs, and staff members availing under the public scheme.\n",
      "14. The loan repayment capacity is determined based on the net monthly income of the borrower.\n",
      "15. The loan amount is subject to margin norms and loan-to-value (LTV) ratio.\n",
      "16. The maximum repayment period for the loan is 30 years, including a maximum moratorium period of 36 months.\n",
      "17. There are no pre-closure charges for the loan.\n",
      "18. The bank offers an optional Group Credit Life Insurance Cover for home loan borrowers, which protects against the consequences of the borrower's death.\n",
      "19. The premium amount for the insurance cover can be financed as part of the loan and is recoverable with the EMIs.\n",
      "\n",
      "Overall, the Bank of Baroda Home Loan provides a range of features and benefits for individuals looking to purchase or build their own homes. The loan offers competitive interest rates, flexible repayment options, and the option to include insurance coverage.\n"
     ]
    }
   ],
   "source": [
    "print(su)"
   ]
  },
  {
   "cell_type": "code",
   "execution_count": null,
   "metadata": {},
   "outputs": [],
   "source": []
  }
 ],
 "metadata": {
  "kernelspec": {
   "display_name": "Python 3",
   "language": "python",
   "name": "python3"
  },
  "language_info": {
   "codemirror_mode": {
    "name": "ipython",
    "version": 3
   },
   "file_extension": ".py",
   "mimetype": "text/x-python",
   "name": "python",
   "nbconvert_exporter": "python",
   "pygments_lexer": "ipython3",
   "version": "3.10.0"
  }
 },
 "nbformat": 4,
 "nbformat_minor": 2
}
